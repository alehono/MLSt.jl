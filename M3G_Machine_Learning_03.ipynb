{
 "cells": [
  {
   "cell_type": "markdown",
   "metadata": {},
   "source": [
    "## Primeiro bloco: Criando um conjunto de pontos que NÃO É linearmente separável"
   ]
  },
  {
   "cell_type": "code",
   "execution_count": 1,
   "metadata": {},
   "outputs": [
    {
     "data": {
      "text/plain": [
       "2×100 Matrix{Float64}:\n",
       " 4.0924  4.06478   4.05803   3.85957   …   4.11249    3.95153    3.89213\n",
       " 0.0     0.258324  0.517883  0.743872     -0.524832  -0.251127  -9.53297e-16"
      ]
     },
     "execution_count": 1,
     "metadata": {},
     "output_type": "execute_result"
    }
   ],
   "source": [
    "function circulo(\n",
    "        r::Number, # raio do círculo de pontos\n",
    "        σ::Number, # \"quantidade de ruído\"\n",
    "        N::Integer # número de pontos a serem criados\n",
    "    )\n",
    "    ϕ = range(0; stop=2π, length=N) # dividir a circunferencia (360 graus) em N pedaços iguais\n",
    "    rvec = r .+ σ * randn(N) # criar um conjunto de distâncias com ruído\n",
    "\n",
    "    X = [rvec .* cos.(ϕ) rvec .* sin.(ϕ)] # X é uma matriz Nx2\n",
    "\n",
    "    return permutedims(X) # permutedims(X) é uma matriz 2xN\n",
    "end\n",
    "\n",
    "r_classe_1, r_classe_2 = 2,4\n",
    "\n",
    "σ = 0.1\n",
    "N = 100\n",
    "\n",
    "X1 = circulo(r_classe_1, σ, N)\n",
    "X2 = circulo(r_classe_2, σ, N)"
   ]
  },
  {
   "cell_type": "code",
   "execution_count": 2,
   "metadata": {},
   "outputs": [
    {
     "data": {
      "image/svg+xml": [
       "<?xml version=\"1.0\" encoding=\"utf-8\"?>\n",
       "<svg xmlns=\"http://www.w3.org/2000/svg\" xmlns:xlink=\"http://www.w3.org/1999/xlink\" width=\"600\" height=\"400\" viewBox=\"0 0 2400 1600\">\n",
       "<defs>\n",
       "  <clipPath id=\"clip160\">\n",
       "    <rect x=\"0\" y=\"0\" width=\"2400\" height=\"1600\"/>\n",
       "  </clipPath>\n",
       "</defs>\n",
       "<path clip-path=\"url(#clip160)\" d=\"\n",
       "M0 1600 L2400 1600 L2400 0 L0 0  Z\n",
       "  \" fill=\"#ffffff\" fill-rule=\"evenodd\" fill-opacity=\"1\"/>\n",
       "<defs>\n",
       "  <clipPath id=\"clip161\">\n",
       "    <rect x=\"480\" y=\"0\" width=\"1681\" height=\"1600\"/>\n",
       "  </clipPath>\n",
       "</defs>\n",
       "<path clip-path=\"url(#clip160)\" d=\"\n",
       "M149.191 1486.45 L2352.76 1486.45 L2352.76 47.2441 L149.191 47.2441  Z\n",
       "  \" fill=\"#ffffff\" fill-rule=\"evenodd\" fill-opacity=\"1\"/>\n",
       "<defs>\n",
       "  <clipPath id=\"clip162\">\n",
       "    <rect x=\"149\" y=\"47\" width=\"2205\" height=\"1440\"/>\n",
       "  </clipPath>\n",
       "</defs>\n",
       "<polyline clip-path=\"url(#clip162)\" style=\"stroke:#000000; stroke-width:2; stroke-opacity:0.1; fill:none\" points=\"\n",
       "  432.573,1486.45 432.573,47.2441 \n",
       "  \"/>\n",
       "<polyline clip-path=\"url(#clip162)\" style=\"stroke:#000000; stroke-width:2; stroke-opacity:0.1; fill:none\" points=\"\n",
       "  842.658,1486.45 842.658,47.2441 \n",
       "  \"/>\n",
       "<polyline clip-path=\"url(#clip162)\" style=\"stroke:#000000; stroke-width:2; stroke-opacity:0.1; fill:none\" points=\"\n",
       "  1252.74,1486.45 1252.74,47.2441 \n",
       "  \"/>\n",
       "<polyline clip-path=\"url(#clip162)\" style=\"stroke:#000000; stroke-width:2; stroke-opacity:0.1; fill:none\" points=\"\n",
       "  1662.83,1486.45 1662.83,47.2441 \n",
       "  \"/>\n",
       "<polyline clip-path=\"url(#clip162)\" style=\"stroke:#000000; stroke-width:2; stroke-opacity:0.1; fill:none\" points=\"\n",
       "  2072.91,1486.45 2072.91,47.2441 \n",
       "  \"/>\n",
       "<polyline clip-path=\"url(#clip160)\" style=\"stroke:#000000; stroke-width:4; stroke-opacity:1; fill:none\" points=\"\n",
       "  149.191,1486.45 2352.76,1486.45 \n",
       "  \"/>\n",
       "<polyline clip-path=\"url(#clip160)\" style=\"stroke:#000000; stroke-width:4; stroke-opacity:1; fill:none\" points=\"\n",
       "  432.573,1486.45 432.573,1469.18 \n",
       "  \"/>\n",
       "<polyline clip-path=\"url(#clip160)\" style=\"stroke:#000000; stroke-width:4; stroke-opacity:1; fill:none\" points=\"\n",
       "  842.658,1486.45 842.658,1469.18 \n",
       "  \"/>\n",
       "<polyline clip-path=\"url(#clip160)\" style=\"stroke:#000000; stroke-width:4; stroke-opacity:1; fill:none\" points=\"\n",
       "  1252.74,1486.45 1252.74,1469.18 \n",
       "  \"/>\n",
       "<polyline clip-path=\"url(#clip160)\" style=\"stroke:#000000; stroke-width:4; stroke-opacity:1; fill:none\" points=\"\n",
       "  1662.83,1486.45 1662.83,1469.18 \n",
       "  \"/>\n",
       "<polyline clip-path=\"url(#clip160)\" style=\"stroke:#000000; stroke-width:4; stroke-opacity:1; fill:none\" points=\"\n",
       "  2072.91,1486.45 2072.91,1469.18 \n",
       "  \"/>\n",
       "<path clip-path=\"url(#clip160)\" d=\"M 0 0 M379.101 1530.29 L408.776 1530.29 L408.776 1534.23 L379.101 1534.23 L379.101 1530.29 Z\" fill=\"#000000\" fill-rule=\"evenodd\" fill-opacity=\"1\" /><path clip-path=\"url(#clip160)\" d=\"M 0 0 M418.915 1512.56 L437.272 1512.56 L437.272 1516.5 L423.198 1516.5 L423.198 1524.97 Q424.216 1524.62 425.235 1524.46 Q426.253 1524.27 427.272 1524.27 Q433.059 1524.27 436.438 1527.44 Q439.818 1530.62 439.818 1536.03 Q439.818 1541.61 436.346 1544.71 Q432.874 1547.79 426.554 1547.79 Q424.378 1547.79 422.11 1547.42 Q419.864 1547.05 417.457 1546.31 L417.457 1541.61 Q419.54 1542.74 421.763 1543.3 Q423.985 1543.86 426.462 1543.86 Q430.466 1543.86 432.804 1541.75 Q435.142 1539.64 435.142 1536.03 Q435.142 1532.42 432.804 1530.31 Q430.466 1528.21 426.462 1528.21 Q424.587 1528.21 422.712 1528.62 Q420.86 1529.04 418.915 1529.92 L418.915 1512.56 Z\" fill=\"#000000\" fill-rule=\"evenodd\" fill-opacity=\"1\" /><path clip-path=\"url(#clip160)\" d=\"M 0 0 M449.031 1541.24 L453.915 1541.24 L453.915 1547.12 L449.031 1547.12 L449.031 1541.24 Z\" fill=\"#000000\" fill-rule=\"evenodd\" fill-opacity=\"1\" /><path clip-path=\"url(#clip160)\" d=\"M 0 0 M474.1 1515.64 Q470.489 1515.64 468.66 1519.2 Q466.855 1522.75 466.855 1529.87 Q466.855 1536.98 468.66 1540.55 Q470.489 1544.09 474.1 1544.09 Q477.734 1544.09 479.54 1540.55 Q481.369 1536.98 481.369 1529.87 Q481.369 1522.75 479.54 1519.2 Q477.734 1515.64 474.1 1515.64 M474.1 1511.93 Q479.91 1511.93 482.966 1516.54 Q486.045 1521.12 486.045 1529.87 Q486.045 1538.6 482.966 1543.21 Q479.91 1547.79 474.1 1547.79 Q468.29 1547.79 465.211 1543.21 Q462.156 1538.6 462.156 1529.87 Q462.156 1521.12 465.211 1516.54 Q468.29 1511.93 474.1 1511.93 Z\" fill=\"#000000\" fill-rule=\"evenodd\" fill-opacity=\"1\" /><path clip-path=\"url(#clip160)\" d=\"M 0 0 M789.684 1530.29 L819.359 1530.29 L819.359 1534.23 L789.684 1534.23 L789.684 1530.29 Z\" fill=\"#000000\" fill-rule=\"evenodd\" fill-opacity=\"1\" /><path clip-path=\"url(#clip160)\" d=\"M 0 0 M833.48 1543.18 L849.799 1543.18 L849.799 1547.12 L827.855 1547.12 L827.855 1543.18 Q830.517 1540.43 835.1 1535.8 Q839.706 1531.15 840.887 1529.81 Q843.132 1527.28 844.012 1525.55 Q844.915 1523.79 844.915 1522.1 Q844.915 1519.34 842.97 1517.61 Q841.049 1515.87 837.947 1515.87 Q835.748 1515.87 833.294 1516.63 Q830.864 1517.4 828.086 1518.95 L828.086 1514.23 Q830.91 1513.09 833.364 1512.51 Q835.818 1511.93 837.855 1511.93 Q843.225 1511.93 846.419 1514.62 Q849.614 1517.31 849.614 1521.8 Q849.614 1523.93 848.804 1525.85 Q848.017 1527.74 845.91 1530.34 Q845.331 1531.01 842.23 1534.23 Q839.128 1537.42 833.48 1543.18 Z\" fill=\"#000000\" fill-rule=\"evenodd\" fill-opacity=\"1\" /><path clip-path=\"url(#clip160)\" d=\"M 0 0 M859.614 1541.24 L864.498 1541.24 L864.498 1547.12 L859.614 1547.12 L859.614 1541.24 Z\" fill=\"#000000\" fill-rule=\"evenodd\" fill-opacity=\"1\" /><path clip-path=\"url(#clip160)\" d=\"M 0 0 M874.729 1512.56 L893.086 1512.56 L893.086 1516.5 L879.012 1516.5 L879.012 1524.97 Q880.03 1524.62 881.049 1524.46 Q882.067 1524.27 883.086 1524.27 Q888.873 1524.27 892.252 1527.44 Q895.632 1530.62 895.632 1536.03 Q895.632 1541.61 892.16 1544.71 Q888.688 1547.79 882.368 1547.79 Q880.192 1547.79 877.924 1547.42 Q875.679 1547.05 873.271 1546.31 L873.271 1541.61 Q875.354 1542.74 877.577 1543.3 Q879.799 1543.86 882.276 1543.86 Q886.28 1543.86 888.618 1541.75 Q890.956 1539.64 890.956 1536.03 Q890.956 1532.42 888.618 1530.31 Q886.28 1528.21 882.276 1528.21 Q880.401 1528.21 878.526 1528.62 Q876.674 1529.04 874.729 1529.92 L874.729 1512.56 Z\" fill=\"#000000\" fill-rule=\"evenodd\" fill-opacity=\"1\" /><path clip-path=\"url(#clip160)\" d=\"M 0 0 M1230.13 1515.64 Q1226.52 1515.64 1224.69 1519.2 Q1222.88 1522.75 1222.88 1529.87 Q1222.88 1536.98 1224.69 1540.55 Q1226.52 1544.09 1230.13 1544.09 Q1233.76 1544.09 1235.57 1540.55 Q1237.4 1536.98 1237.4 1529.87 Q1237.4 1522.75 1235.57 1519.2 Q1233.76 1515.64 1230.13 1515.64 M1230.13 1511.93 Q1235.94 1511.93 1238.99 1516.54 Q1242.07 1521.12 1242.07 1529.87 Q1242.07 1538.6 1238.99 1543.21 Q1235.94 1547.79 1230.13 1547.79 Q1224.32 1547.79 1221.24 1543.21 Q1218.18 1538.6 1218.18 1529.87 Q1218.18 1521.12 1221.24 1516.54 Q1224.32 1511.93 1230.13 1511.93 Z\" fill=\"#000000\" fill-rule=\"evenodd\" fill-opacity=\"1\" /><path clip-path=\"url(#clip160)\" d=\"M 0 0 M1250.29 1541.24 L1255.17 1541.24 L1255.17 1547.12 L1250.29 1547.12 L1250.29 1541.24 Z\" fill=\"#000000\" fill-rule=\"evenodd\" fill-opacity=\"1\" /><path clip-path=\"url(#clip160)\" d=\"M 0 0 M1275.36 1515.64 Q1271.75 1515.64 1269.92 1519.2 Q1268.11 1522.75 1268.11 1529.87 Q1268.11 1536.98 1269.92 1540.55 Q1271.75 1544.09 1275.36 1544.09 Q1278.99 1544.09 1280.8 1540.55 Q1282.63 1536.98 1282.63 1529.87 Q1282.63 1522.75 1280.8 1519.2 Q1278.99 1515.64 1275.36 1515.64 M1275.36 1511.93 Q1281.17 1511.93 1284.22 1516.54 Q1287.3 1521.12 1287.3 1529.87 Q1287.3 1538.6 1284.22 1543.21 Q1281.17 1547.79 1275.36 1547.79 Q1269.55 1547.79 1266.47 1543.21 Q1263.41 1538.6 1263.41 1529.87 Q1263.41 1521.12 1266.47 1516.54 Q1269.55 1511.93 1275.36 1511.93 Z\" fill=\"#000000\" fill-rule=\"evenodd\" fill-opacity=\"1\" /><path clip-path=\"url(#clip160)\" d=\"M 0 0 M1634.56 1543.18 L1650.88 1543.18 L1650.88 1547.12 L1628.94 1547.12 L1628.94 1543.18 Q1631.6 1540.43 1636.18 1535.8 Q1640.79 1531.15 1641.97 1529.81 Q1644.22 1527.28 1645.1 1525.55 Q1646 1523.79 1646 1522.1 Q1646 1519.34 1644.06 1517.61 Q1642.13 1515.87 1639.03 1515.87 Q1636.83 1515.87 1634.38 1516.63 Q1631.95 1517.4 1629.17 1518.95 L1629.17 1514.23 Q1632 1513.09 1634.45 1512.51 Q1636.9 1511.93 1638.94 1511.93 Q1644.31 1511.93 1647.5 1514.62 Q1650.7 1517.31 1650.7 1521.8 Q1650.7 1523.93 1649.89 1525.85 Q1649.1 1527.74 1647 1530.34 Q1646.42 1531.01 1643.31 1534.23 Q1640.21 1537.42 1634.56 1543.18 Z\" fill=\"#000000\" fill-rule=\"evenodd\" fill-opacity=\"1\" /><path clip-path=\"url(#clip160)\" d=\"M 0 0 M1660.7 1541.24 L1665.58 1541.24 L1665.58 1547.12 L1660.7 1547.12 L1660.7 1541.24 Z\" fill=\"#000000\" fill-rule=\"evenodd\" fill-opacity=\"1\" /><path clip-path=\"url(#clip160)\" d=\"M 0 0 M1675.81 1512.56 L1694.17 1512.56 L1694.17 1516.5 L1680.1 1516.5 L1680.1 1524.97 Q1681.12 1524.62 1682.13 1524.46 Q1683.15 1524.27 1684.17 1524.27 Q1689.96 1524.27 1693.34 1527.44 Q1696.72 1530.62 1696.72 1536.03 Q1696.72 1541.61 1693.24 1544.71 Q1689.77 1547.79 1683.45 1547.79 Q1681.28 1547.79 1679.01 1547.42 Q1676.76 1547.05 1674.36 1546.31 L1674.36 1541.61 Q1676.44 1542.74 1678.66 1543.3 Q1680.88 1543.86 1683.36 1543.86 Q1687.37 1543.86 1689.7 1541.75 Q1692.04 1539.64 1692.04 1536.03 Q1692.04 1532.42 1689.7 1530.31 Q1687.37 1528.21 1683.36 1528.21 Q1681.49 1528.21 1679.61 1528.62 Q1677.76 1529.04 1675.81 1529.92 L1675.81 1512.56 Z\" fill=\"#000000\" fill-rule=\"evenodd\" fill-opacity=\"1\" /><path clip-path=\"url(#clip160)\" d=\"M 0 0 M2040.08 1512.56 L2058.43 1512.56 L2058.43 1516.5 L2044.36 1516.5 L2044.36 1524.97 Q2045.38 1524.62 2046.4 1524.46 Q2047.42 1524.27 2048.43 1524.27 Q2054.22 1524.27 2057.6 1527.44 Q2060.98 1530.62 2060.98 1536.03 Q2060.98 1541.61 2057.51 1544.71 Q2054.04 1547.79 2047.72 1547.79 Q2045.54 1547.79 2043.27 1547.42 Q2041.03 1547.05 2038.62 1546.31 L2038.62 1541.61 Q2040.7 1542.74 2042.93 1543.3 Q2045.15 1543.86 2047.62 1543.86 Q2051.63 1543.86 2053.97 1541.75 Q2056.3 1539.64 2056.3 1536.03 Q2056.3 1532.42 2053.97 1530.31 Q2051.63 1528.21 2047.62 1528.21 Q2045.75 1528.21 2043.87 1528.62 Q2042.02 1529.04 2040.08 1529.92 L2040.08 1512.56 Z\" fill=\"#000000\" fill-rule=\"evenodd\" fill-opacity=\"1\" /><path clip-path=\"url(#clip160)\" d=\"M 0 0 M2070.19 1541.24 L2075.08 1541.24 L2075.08 1547.12 L2070.19 1547.12 L2070.19 1541.24 Z\" fill=\"#000000\" fill-rule=\"evenodd\" fill-opacity=\"1\" /><path clip-path=\"url(#clip160)\" d=\"M 0 0 M2095.26 1515.64 Q2091.65 1515.64 2089.82 1519.2 Q2088.02 1522.75 2088.02 1529.87 Q2088.02 1536.98 2089.82 1540.55 Q2091.65 1544.09 2095.26 1544.09 Q2098.9 1544.09 2100.7 1540.55 Q2102.53 1536.98 2102.53 1529.87 Q2102.53 1522.75 2100.7 1519.2 Q2098.9 1515.64 2095.26 1515.64 M2095.26 1511.93 Q2101.07 1511.93 2104.13 1516.54 Q2107.21 1521.12 2107.21 1529.87 Q2107.21 1538.6 2104.13 1543.21 Q2101.07 1547.79 2095.26 1547.79 Q2089.45 1547.79 2086.37 1543.21 Q2083.32 1538.6 2083.32 1529.87 Q2083.32 1521.12 2086.37 1516.54 Q2089.45 1511.93 2095.26 1511.93 Z\" fill=\"#000000\" fill-rule=\"evenodd\" fill-opacity=\"1\" /><polyline clip-path=\"url(#clip162)\" style=\"stroke:#000000; stroke-width:2; stroke-opacity:0.1; fill:none\" points=\"\n",
       "  149.191,1417.7 2352.76,1417.7 \n",
       "  \"/>\n",
       "<polyline clip-path=\"url(#clip162)\" style=\"stroke:#000000; stroke-width:2; stroke-opacity:0.1; fill:none\" points=\"\n",
       "  149.191,1089.63 2352.76,1089.63 \n",
       "  \"/>\n",
       "<polyline clip-path=\"url(#clip162)\" style=\"stroke:#000000; stroke-width:2; stroke-opacity:0.1; fill:none\" points=\"\n",
       "  149.191,761.559 2352.76,761.559 \n",
       "  \"/>\n",
       "<polyline clip-path=\"url(#clip162)\" style=\"stroke:#000000; stroke-width:2; stroke-opacity:0.1; fill:none\" points=\"\n",
       "  149.191,433.491 2352.76,433.491 \n",
       "  \"/>\n",
       "<polyline clip-path=\"url(#clip162)\" style=\"stroke:#000000; stroke-width:2; stroke-opacity:0.1; fill:none\" points=\"\n",
       "  149.191,105.423 2352.76,105.423 \n",
       "  \"/>\n",
       "<polyline clip-path=\"url(#clip160)\" style=\"stroke:#000000; stroke-width:4; stroke-opacity:1; fill:none\" points=\"\n",
       "  149.191,1486.45 149.191,47.2441 \n",
       "  \"/>\n",
       "<polyline clip-path=\"url(#clip160)\" style=\"stroke:#000000; stroke-width:4; stroke-opacity:1; fill:none\" points=\"\n",
       "  149.191,1417.7 175.634,1417.7 \n",
       "  \"/>\n",
       "<polyline clip-path=\"url(#clip160)\" style=\"stroke:#000000; stroke-width:4; stroke-opacity:1; fill:none\" points=\"\n",
       "  149.191,1089.63 175.634,1089.63 \n",
       "  \"/>\n",
       "<polyline clip-path=\"url(#clip160)\" style=\"stroke:#000000; stroke-width:4; stroke-opacity:1; fill:none\" points=\"\n",
       "  149.191,761.559 175.634,761.559 \n",
       "  \"/>\n",
       "<polyline clip-path=\"url(#clip160)\" style=\"stroke:#000000; stroke-width:4; stroke-opacity:1; fill:none\" points=\"\n",
       "  149.191,433.491 175.634,433.491 \n",
       "  \"/>\n",
       "<polyline clip-path=\"url(#clip160)\" style=\"stroke:#000000; stroke-width:4; stroke-opacity:1; fill:none\" points=\"\n",
       "  149.191,105.423 175.634,105.423 \n",
       "  \"/>\n",
       "<path clip-path=\"url(#clip160)\" d=\"M 0 0 M50.9921 1418.15 L80.6679 1418.15 L80.6679 1422.08 L50.9921 1422.08 L50.9921 1418.15 Z\" fill=\"#000000\" fill-rule=\"evenodd\" fill-opacity=\"1\" /><path clip-path=\"url(#clip160)\" d=\"M 0 0 M103.608 1404.49 L91.8021 1422.94 L103.608 1422.94 L103.608 1404.49 M102.381 1400.42 L108.26 1400.42 L108.26 1422.94 L113.191 1422.94 L113.191 1426.83 L108.26 1426.83 L108.26 1434.98 L103.608 1434.98 L103.608 1426.83 L88.0058 1426.83 L88.0058 1422.31 L102.381 1400.42 Z\" fill=\"#000000\" fill-rule=\"evenodd\" fill-opacity=\"1\" /><path clip-path=\"url(#clip160)\" d=\"M 0 0 M53.0754 1090.08 L82.7512 1090.08 L82.7512 1094.01 L53.0754 1094.01 L53.0754 1090.08 Z\" fill=\"#000000\" fill-rule=\"evenodd\" fill-opacity=\"1\" /><path clip-path=\"url(#clip160)\" d=\"M 0 0 M96.8715 1102.97 L113.191 1102.97 L113.191 1106.91 L91.2465 1106.91 L91.2465 1102.97 Q93.9086 1100.22 98.4919 1095.59 Q103.098 1090.94 104.279 1089.59 Q106.524 1087.07 107.404 1085.33 Q108.307 1083.57 108.307 1081.88 Q108.307 1079.13 106.362 1077.39 Q104.441 1075.66 101.339 1075.66 Q99.14 1075.66 96.6863 1076.42 Q94.2558 1077.19 91.478 1078.74 L91.478 1074.01 Q94.3021 1072.88 96.7558 1072.3 Q99.2095 1071.72 101.246 1071.72 Q106.617 1071.72 109.811 1074.41 Q113.006 1077.09 113.006 1081.58 Q113.006 1083.71 112.196 1085.63 Q111.408 1087.53 109.302 1090.13 Q108.723 1090.8 105.621 1094.01 Q102.52 1097.21 96.8715 1102.97 Z\" fill=\"#000000\" fill-rule=\"evenodd\" fill-opacity=\"1\" /><path clip-path=\"url(#clip160)\" d=\"M 0 0 M101.246 747.358 Q97.6354 747.358 95.8067 750.923 Q94.0012 754.465 94.0012 761.594 Q94.0012 768.701 95.8067 772.265 Q97.6354 775.807 101.246 775.807 Q104.881 775.807 106.686 772.265 Q108.515 768.701 108.515 761.594 Q108.515 754.465 106.686 750.923 Q104.881 747.358 101.246 747.358 M101.246 743.654 Q107.057 743.654 110.112 748.261 Q113.191 752.844 113.191 761.594 Q113.191 770.321 110.112 774.927 Q107.057 779.511 101.246 779.511 Q95.4363 779.511 92.3576 774.927 Q89.3021 770.321 89.3021 761.594 Q89.3021 752.844 92.3576 748.261 Q95.4363 743.654 101.246 743.654 Z\" fill=\"#000000\" fill-rule=\"evenodd\" fill-opacity=\"1\" /><path clip-path=\"url(#clip160)\" d=\"M 0 0 M96.8715 446.836 L113.191 446.836 L113.191 450.771 L91.2465 450.771 L91.2465 446.836 Q93.9086 444.081 98.4919 439.452 Q103.098 434.799 104.279 433.456 Q106.524 430.933 107.404 429.197 Q108.307 427.438 108.307 425.748 Q108.307 422.994 106.362 421.257 Q104.441 419.521 101.339 419.521 Q99.14 419.521 96.6863 420.285 Q94.2558 421.049 91.478 422.6 L91.478 417.878 Q94.3021 416.744 96.7558 416.165 Q99.2095 415.586 101.246 415.586 Q106.617 415.586 109.811 418.271 Q113.006 420.957 113.006 425.447 Q113.006 427.577 112.196 429.498 Q111.408 431.396 109.302 433.989 Q108.723 434.66 105.621 437.878 Q102.52 441.072 96.8715 446.836 Z\" fill=\"#000000\" fill-rule=\"evenodd\" fill-opacity=\"1\" /><path clip-path=\"url(#clip160)\" d=\"M 0 0 M103.608 92.2171 L91.8021 110.666 L103.608 110.666 L103.608 92.2171 M102.381 88.143 L108.26 88.143 L108.26 110.666 L113.191 110.666 L113.191 114.555 L108.26 114.555 L108.26 122.703 L103.608 122.703 L103.608 114.555 L88.0058 114.555 L88.0058 110.041 L102.381 88.143 Z\" fill=\"#000000\" fill-rule=\"evenodd\" fill-opacity=\"1\" /><circle clip-path=\"url(#clip162)\" cx=\"1578.13\" cy=\"761.559\" r=\"14\" fill=\"#ff0000\" fill-rule=\"evenodd\" fill-opacity=\"1\" stroke=\"#000000\" stroke-opacity=\"1\" stroke-width=\"3.2\"/>\n",
       "<circle clip-path=\"url(#clip162)\" cx=\"1547.85\" cy=\"742.805\" r=\"14\" fill=\"#ff0000\" fill-rule=\"evenodd\" fill-opacity=\"1\" stroke=\"#000000\" stroke-opacity=\"1\" stroke-width=\"3.2\"/>\n",
       "<circle clip-path=\"url(#clip162)\" cx=\"1596.73\" cy=\"717.66\" r=\"14\" fill=\"#ff0000\" fill-rule=\"evenodd\" fill-opacity=\"1\" stroke=\"#000000\" stroke-opacity=\"1\" stroke-width=\"3.2\"/>\n",
       "<circle clip-path=\"url(#clip162)\" cx=\"1583.15\" cy=\"697.879\" r=\"14\" fill=\"#ff0000\" fill-rule=\"evenodd\" fill-opacity=\"1\" stroke=\"#000000\" stroke-opacity=\"1\" stroke-width=\"3.2\"/>\n",
       "<circle clip-path=\"url(#clip162)\" cx=\"1597.61\" cy=\"672.079\" r=\"14\" fill=\"#ff0000\" fill-rule=\"evenodd\" fill-opacity=\"1\" stroke=\"#000000\" stroke-opacity=\"1\" stroke-width=\"3.2\"/>\n",
       "<circle clip-path=\"url(#clip162)\" cx=\"1578.57\" cy=\"654.547\" r=\"14\" fill=\"#ff0000\" fill-rule=\"evenodd\" fill-opacity=\"1\" stroke=\"#000000\" stroke-opacity=\"1\" stroke-width=\"3.2\"/>\n",
       "<circle clip-path=\"url(#clip162)\" cx=\"1558.84\" cy=\"639.017\" r=\"14\" fill=\"#ff0000\" fill-rule=\"evenodd\" fill-opacity=\"1\" stroke=\"#000000\" stroke-opacity=\"1\" stroke-width=\"3.2\"/>\n",
       "<circle clip-path=\"url(#clip162)\" cx=\"1522.49\" cy=\"633.159\" r=\"14\" fill=\"#ff0000\" fill-rule=\"evenodd\" fill-opacity=\"1\" stroke=\"#000000\" stroke-opacity=\"1\" stroke-width=\"3.2\"/>\n",
       "<circle clip-path=\"url(#clip162)\" cx=\"1550.91\" cy=\"595.661\" r=\"14\" fill=\"#ff0000\" fill-rule=\"evenodd\" fill-opacity=\"1\" stroke=\"#000000\" stroke-opacity=\"1\" stroke-width=\"3.2\"/>\n",
       "<circle clip-path=\"url(#clip162)\" cx=\"1514.9\" cy=\"593.082\" r=\"14\" fill=\"#ff0000\" fill-rule=\"evenodd\" fill-opacity=\"1\" stroke=\"#000000\" stroke-opacity=\"1\" stroke-width=\"3.2\"/>\n",
       "<circle clip-path=\"url(#clip162)\" cx=\"1528.69\" cy=\"558.382\" r=\"14\" fill=\"#ff0000\" fill-rule=\"evenodd\" fill-opacity=\"1\" stroke=\"#000000\" stroke-opacity=\"1\" stroke-width=\"3.2\"/>\n",
       "<circle clip-path=\"url(#clip162)\" cx=\"1495.11\" cy=\"558.193\" r=\"14\" fill=\"#ff0000\" fill-rule=\"evenodd\" fill-opacity=\"1\" stroke=\"#000000\" stroke-opacity=\"1\" stroke-width=\"3.2\"/>\n",
       "<circle clip-path=\"url(#clip162)\" cx=\"1489.11\" cy=\"536.185\" r=\"14\" fill=\"#ff0000\" fill-rule=\"evenodd\" fill-opacity=\"1\" stroke=\"#000000\" stroke-opacity=\"1\" stroke-width=\"3.2\"/>\n",
       "<circle clip-path=\"url(#clip162)\" cx=\"1483.11\" cy=\"512.147\" r=\"14\" fill=\"#ff0000\" fill-rule=\"evenodd\" fill-opacity=\"1\" stroke=\"#000000\" stroke-opacity=\"1\" stroke-width=\"3.2\"/>\n",
       "<circle clip-path=\"url(#clip162)\" cx=\"1465.46\" cy=\"499.727\" r=\"14\" fill=\"#ff0000\" fill-rule=\"evenodd\" fill-opacity=\"1\" stroke=\"#000000\" stroke-opacity=\"1\" stroke-width=\"3.2\"/>\n",
       "<circle clip-path=\"url(#clip162)\" cx=\"1432.22\" cy=\"509.517\" r=\"14\" fill=\"#ff0000\" fill-rule=\"evenodd\" fill-opacity=\"1\" stroke=\"#000000\" stroke-opacity=\"1\" stroke-width=\"3.2\"/>\n",
       "<circle clip-path=\"url(#clip162)\" cx=\"1432.51\" cy=\"471.826\" r=\"14\" fill=\"#ff0000\" fill-rule=\"evenodd\" fill-opacity=\"1\" stroke=\"#000000\" stroke-opacity=\"1\" stroke-width=\"3.2\"/>\n",
       "<circle clip-path=\"url(#clip162)\" cx=\"1409.04\" cy=\"469.848\" r=\"14\" fill=\"#ff0000\" fill-rule=\"evenodd\" fill-opacity=\"1\" stroke=\"#000000\" stroke-opacity=\"1\" stroke-width=\"3.2\"/>\n",
       "<circle clip-path=\"url(#clip162)\" cx=\"1370.93\" cy=\"502.767\" r=\"14\" fill=\"#ff0000\" fill-rule=\"evenodd\" fill-opacity=\"1\" stroke=\"#000000\" stroke-opacity=\"1\" stroke-width=\"3.2\"/>\n",
       "<circle clip-path=\"url(#clip162)\" cx=\"1369.61\" cy=\"455.648\" r=\"14\" fill=\"#ff0000\" fill-rule=\"evenodd\" fill-opacity=\"1\" stroke=\"#000000\" stroke-opacity=\"1\" stroke-width=\"3.2\"/>\n",
       "<circle clip-path=\"url(#clip162)\" cx=\"1347.32\" cy=\"457.412\" r=\"14\" fill=\"#ff0000\" fill-rule=\"evenodd\" fill-opacity=\"1\" stroke=\"#000000\" stroke-opacity=\"1\" stroke-width=\"3.2\"/>\n",
       "<circle clip-path=\"url(#clip162)\" cx=\"1331.18\" cy=\"438.247\" r=\"14\" fill=\"#ff0000\" fill-rule=\"evenodd\" fill-opacity=\"1\" stroke=\"#000000\" stroke-opacity=\"1\" stroke-width=\"3.2\"/>\n",
       "<circle clip-path=\"url(#clip162)\" cx=\"1311.12\" cy=\"430.508\" r=\"14\" fill=\"#ff0000\" fill-rule=\"evenodd\" fill-opacity=\"1\" stroke=\"#000000\" stroke-opacity=\"1\" stroke-width=\"3.2\"/>\n",
       "<circle clip-path=\"url(#clip162)\" cx=\"1290.5\" cy=\"423.049\" r=\"14\" fill=\"#ff0000\" fill-rule=\"evenodd\" fill-opacity=\"1\" stroke=\"#000000\" stroke-opacity=\"1\" stroke-width=\"3.2\"/>\n",
       "<circle clip-path=\"url(#clip162)\" cx=\"1267.99\" cy=\"441.48\" r=\"14\" fill=\"#ff0000\" fill-rule=\"evenodd\" fill-opacity=\"1\" stroke=\"#000000\" stroke-opacity=\"1\" stroke-width=\"3.2\"/>\n",
       "<circle clip-path=\"url(#clip162)\" cx=\"1247.82\" cy=\"451.532\" r=\"14\" fill=\"#ff0000\" fill-rule=\"evenodd\" fill-opacity=\"1\" stroke=\"#000000\" stroke-opacity=\"1\" stroke-width=\"3.2\"/>\n",
       "<circle clip-path=\"url(#clip162)\" cx=\"1223.65\" cy=\"395.643\" r=\"14\" fill=\"#ff0000\" fill-rule=\"evenodd\" fill-opacity=\"1\" stroke=\"#000000\" stroke-opacity=\"1\" stroke-width=\"3.2\"/>\n",
       "<circle clip-path=\"url(#clip162)\" cx=\"1203.68\" cy=\"420.318\" r=\"14\" fill=\"#ff0000\" fill-rule=\"evenodd\" fill-opacity=\"1\" stroke=\"#000000\" stroke-opacity=\"1\" stroke-width=\"3.2\"/>\n",
       "<circle clip-path=\"url(#clip162)\" cx=\"1186.74\" cy=\"446.116\" r=\"14\" fill=\"#ff0000\" fill-rule=\"evenodd\" fill-opacity=\"1\" stroke=\"#000000\" stroke-opacity=\"1\" stroke-width=\"3.2\"/>\n",
       "<circle clip-path=\"url(#clip162)\" cx=\"1162.84\" cy=\"436.383\" r=\"14\" fill=\"#ff0000\" fill-rule=\"evenodd\" fill-opacity=\"1\" stroke=\"#000000\" stroke-opacity=\"1\" stroke-width=\"3.2\"/>\n",
       "<circle clip-path=\"url(#clip162)\" cx=\"1146.74\" cy=\"455.272\" r=\"14\" fill=\"#ff0000\" fill-rule=\"evenodd\" fill-opacity=\"1\" stroke=\"#000000\" stroke-opacity=\"1\" stroke-width=\"3.2\"/>\n",
       "<circle clip-path=\"url(#clip162)\" cx=\"1116.49\" cy=\"436.278\" r=\"14\" fill=\"#ff0000\" fill-rule=\"evenodd\" fill-opacity=\"1\" stroke=\"#000000\" stroke-opacity=\"1\" stroke-width=\"3.2\"/>\n",
       "<circle clip-path=\"url(#clip162)\" cx=\"1119.78\" cy=\"493.28\" r=\"14\" fill=\"#ff0000\" fill-rule=\"evenodd\" fill-opacity=\"1\" stroke=\"#000000\" stroke-opacity=\"1\" stroke-width=\"3.2\"/>\n",
       "<circle clip-path=\"url(#clip162)\" cx=\"1095.53\" cy=\"489.265\" r=\"14\" fill=\"#ff0000\" fill-rule=\"evenodd\" fill-opacity=\"1\" stroke=\"#000000\" stroke-opacity=\"1\" stroke-width=\"3.2\"/>\n",
       "<circle clip-path=\"url(#clip162)\" cx=\"1061.93\" cy=\"474.761\" r=\"14\" fill=\"#ff0000\" fill-rule=\"evenodd\" fill-opacity=\"1\" stroke=\"#000000\" stroke-opacity=\"1\" stroke-width=\"3.2\"/>\n",
       "<circle clip-path=\"url(#clip162)\" cx=\"1049.37\" cy=\"494.326\" r=\"14\" fill=\"#ff0000\" fill-rule=\"evenodd\" fill-opacity=\"1\" stroke=\"#000000\" stroke-opacity=\"1\" stroke-width=\"3.2\"/>\n",
       "<circle clip-path=\"url(#clip162)\" cx=\"1035.83\" cy=\"511.228\" r=\"14\" fill=\"#ff0000\" fill-rule=\"evenodd\" fill-opacity=\"1\" stroke=\"#000000\" stroke-opacity=\"1\" stroke-width=\"3.2\"/>\n",
       "<circle clip-path=\"url(#clip162)\" cx=\"1021.13\" cy=\"526.245\" r=\"14\" fill=\"#ff0000\" fill-rule=\"evenodd\" fill-opacity=\"1\" stroke=\"#000000\" stroke-opacity=\"1\" stroke-width=\"3.2\"/>\n",
       "<circle clip-path=\"url(#clip162)\" cx=\"993.4\" cy=\"529.532\" r=\"14\" fill=\"#ff0000\" fill-rule=\"evenodd\" fill-opacity=\"1\" stroke=\"#000000\" stroke-opacity=\"1\" stroke-width=\"3.2\"/>\n",
       "<circle clip-path=\"url(#clip162)\" cx=\"983.07\" cy=\"549.486\" r=\"14\" fill=\"#ff0000\" fill-rule=\"evenodd\" fill-opacity=\"1\" stroke=\"#000000\" stroke-opacity=\"1\" stroke-width=\"3.2\"/>\n",
       "<circle clip-path=\"url(#clip162)\" cx=\"980.453\" cy=\"574.101\" r=\"14\" fill=\"#ff0000\" fill-rule=\"evenodd\" fill-opacity=\"1\" stroke=\"#000000\" stroke-opacity=\"1\" stroke-width=\"3.2\"/>\n",
       "<circle clip-path=\"url(#clip162)\" cx=\"981.936\" cy=\"599.426\" r=\"14\" fill=\"#ff0000\" fill-rule=\"evenodd\" fill-opacity=\"1\" stroke=\"#000000\" stroke-opacity=\"1\" stroke-width=\"3.2\"/>\n",
       "<circle clip-path=\"url(#clip162)\" cx=\"962.438\" cy=\"611.897\" r=\"14\" fill=\"#ff0000\" fill-rule=\"evenodd\" fill-opacity=\"1\" stroke=\"#000000\" stroke-opacity=\"1\" stroke-width=\"3.2\"/>\n",
       "<circle clip-path=\"url(#clip162)\" cx=\"942.894\" cy=\"625.956\" r=\"14\" fill=\"#ff0000\" fill-rule=\"evenodd\" fill-opacity=\"1\" stroke=\"#000000\" stroke-opacity=\"1\" stroke-width=\"3.2\"/>\n",
       "<circle clip-path=\"url(#clip162)\" cx=\"943.19\" cy=\"648.891\" r=\"14\" fill=\"#ff0000\" fill-rule=\"evenodd\" fill-opacity=\"1\" stroke=\"#000000\" stroke-opacity=\"1\" stroke-width=\"3.2\"/>\n",
       "<circle clip-path=\"url(#clip162)\" cx=\"917.919\" cy=\"663.246\" r=\"14\" fill=\"#ff0000\" fill-rule=\"evenodd\" fill-opacity=\"1\" stroke=\"#000000\" stroke-opacity=\"1\" stroke-width=\"3.2\"/>\n",
       "<circle clip-path=\"url(#clip162)\" cx=\"959.329\" cy=\"695.289\" r=\"14\" fill=\"#ff0000\" fill-rule=\"evenodd\" fill-opacity=\"1\" stroke=\"#000000\" stroke-opacity=\"1\" stroke-width=\"3.2\"/>\n",
       "<circle clip-path=\"url(#clip162)\" cx=\"934.217\" cy=\"710.592\" r=\"14\" fill=\"#ff0000\" fill-rule=\"evenodd\" fill-opacity=\"1\" stroke=\"#000000\" stroke-opacity=\"1\" stroke-width=\"3.2\"/>\n",
       "<circle clip-path=\"url(#clip162)\" cx=\"918.913\" cy=\"729.682\" r=\"14\" fill=\"#ff0000\" fill-rule=\"evenodd\" fill-opacity=\"1\" stroke=\"#000000\" stroke-opacity=\"1\" stroke-width=\"3.2\"/>\n",
       "<circle clip-path=\"url(#clip162)\" cx=\"922.476\" cy=\"751.075\" r=\"14\" fill=\"#ff0000\" fill-rule=\"evenodd\" fill-opacity=\"1\" stroke=\"#000000\" stroke-opacity=\"1\" stroke-width=\"3.2\"/>\n",
       "<circle clip-path=\"url(#clip162)\" cx=\"940.848\" cy=\"771.46\" r=\"14\" fill=\"#ff0000\" fill-rule=\"evenodd\" fill-opacity=\"1\" stroke=\"#000000\" stroke-opacity=\"1\" stroke-width=\"3.2\"/>\n",
       "<circle clip-path=\"url(#clip162)\" cx=\"959.768\" cy=\"789.535\" r=\"14\" fill=\"#ff0000\" fill-rule=\"evenodd\" fill-opacity=\"1\" stroke=\"#000000\" stroke-opacity=\"1\" stroke-width=\"3.2\"/>\n",
       "<circle clip-path=\"url(#clip162)\" cx=\"913.348\" cy=\"815.866\" r=\"14\" fill=\"#ff0000\" fill-rule=\"evenodd\" fill-opacity=\"1\" stroke=\"#000000\" stroke-opacity=\"1\" stroke-width=\"3.2\"/>\n",
       "<circle clip-path=\"url(#clip162)\" cx=\"919.056\" cy=\"836.926\" r=\"14\" fill=\"#ff0000\" fill-rule=\"evenodd\" fill-opacity=\"1\" stroke=\"#000000\" stroke-opacity=\"1\" stroke-width=\"3.2\"/>\n",
       "<circle clip-path=\"url(#clip162)\" cx=\"930.573\" cy=\"856.157\" r=\"14\" fill=\"#ff0000\" fill-rule=\"evenodd\" fill-opacity=\"1\" stroke=\"#000000\" stroke-opacity=\"1\" stroke-width=\"3.2\"/>\n",
       "<circle clip-path=\"url(#clip162)\" cx=\"943.898\" cy=\"873.97\" r=\"14\" fill=\"#ff0000\" fill-rule=\"evenodd\" fill-opacity=\"1\" stroke=\"#000000\" stroke-opacity=\"1\" stroke-width=\"3.2\"/>\n",
       "<circle clip-path=\"url(#clip162)\" cx=\"954.476\" cy=\"892.095\" r=\"14\" fill=\"#ff0000\" fill-rule=\"evenodd\" fill-opacity=\"1\" stroke=\"#000000\" stroke-opacity=\"1\" stroke-width=\"3.2\"/>\n",
       "<circle clip-path=\"url(#clip162)\" cx=\"952.172\" cy=\"916.515\" r=\"14\" fill=\"#ff0000\" fill-rule=\"evenodd\" fill-opacity=\"1\" stroke=\"#000000\" stroke-opacity=\"1\" stroke-width=\"3.2\"/>\n",
       "<circle clip-path=\"url(#clip162)\" cx=\"994.709\" cy=\"916.045\" r=\"14\" fill=\"#ff0000\" fill-rule=\"evenodd\" fill-opacity=\"1\" stroke=\"#000000\" stroke-opacity=\"1\" stroke-width=\"3.2\"/>\n",
       "<circle clip-path=\"url(#clip162)\" cx=\"1009.44\" cy=\"929.062\" r=\"14\" fill=\"#ff0000\" fill-rule=\"evenodd\" fill-opacity=\"1\" stroke=\"#000000\" stroke-opacity=\"1\" stroke-width=\"3.2\"/>\n",
       "<circle clip-path=\"url(#clip162)\" cx=\"989.141\" cy=\"968.859\" r=\"14\" fill=\"#ff0000\" fill-rule=\"evenodd\" fill-opacity=\"1\" stroke=\"#000000\" stroke-opacity=\"1\" stroke-width=\"3.2\"/>\n",
       "<circle clip-path=\"url(#clip162)\" cx=\"1002.1\" cy=\"985.803\" r=\"14\" fill=\"#ff0000\" fill-rule=\"evenodd\" fill-opacity=\"1\" stroke=\"#000000\" stroke-opacity=\"1\" stroke-width=\"3.2\"/>\n",
       "<circle clip-path=\"url(#clip162)\" cx=\"1029.79\" cy=\"988.081\" r=\"14\" fill=\"#ff0000\" fill-rule=\"evenodd\" fill-opacity=\"1\" stroke=\"#000000\" stroke-opacity=\"1\" stroke-width=\"3.2\"/>\n",
       "<circle clip-path=\"url(#clip162)\" cx=\"1041.45\" cy=\"1005.41\" r=\"14\" fill=\"#ff0000\" fill-rule=\"evenodd\" fill-opacity=\"1\" stroke=\"#000000\" stroke-opacity=\"1\" stroke-width=\"3.2\"/>\n",
       "<circle clip-path=\"url(#clip162)\" cx=\"1047.55\" cy=\"1031.17\" r=\"14\" fill=\"#ff0000\" fill-rule=\"evenodd\" fill-opacity=\"1\" stroke=\"#000000\" stroke-opacity=\"1\" stroke-width=\"3.2\"/>\n",
       "<circle clip-path=\"url(#clip162)\" cx=\"1089.21\" cy=\"1007.36\" r=\"14\" fill=\"#ff0000\" fill-rule=\"evenodd\" fill-opacity=\"1\" stroke=\"#000000\" stroke-opacity=\"1\" stroke-width=\"3.2\"/>\n",
       "<circle clip-path=\"url(#clip162)\" cx=\"1080.05\" cy=\"1060.66\" r=\"14\" fill=\"#ff0000\" fill-rule=\"evenodd\" fill-opacity=\"1\" stroke=\"#000000\" stroke-opacity=\"1\" stroke-width=\"3.2\"/>\n",
       "<circle clip-path=\"url(#clip162)\" cx=\"1107.9\" cy=\"1053.8\" r=\"14\" fill=\"#ff0000\" fill-rule=\"evenodd\" fill-opacity=\"1\" stroke=\"#000000\" stroke-opacity=\"1\" stroke-width=\"3.2\"/>\n",
       "<circle clip-path=\"url(#clip162)\" cx=\"1123.34\" cy=\"1070.48\" r=\"14\" fill=\"#ff0000\" fill-rule=\"evenodd\" fill-opacity=\"1\" stroke=\"#000000\" stroke-opacity=\"1\" stroke-width=\"3.2\"/>\n",
       "<circle clip-path=\"url(#clip162)\" cx=\"1147.39\" cy=\"1065.95\" r=\"14\" fill=\"#ff0000\" fill-rule=\"evenodd\" fill-opacity=\"1\" stroke=\"#000000\" stroke-opacity=\"1\" stroke-width=\"3.2\"/>\n",
       "<circle clip-path=\"url(#clip162)\" cx=\"1165.26\" cy=\"1077.99\" r=\"14\" fill=\"#ff0000\" fill-rule=\"evenodd\" fill-opacity=\"1\" stroke=\"#000000\" stroke-opacity=\"1\" stroke-width=\"3.2\"/>\n",
       "<circle clip-path=\"url(#clip162)\" cx=\"1187.81\" cy=\"1071.87\" r=\"14\" fill=\"#ff0000\" fill-rule=\"evenodd\" fill-opacity=\"1\" stroke=\"#000000\" stroke-opacity=\"1\" stroke-width=\"3.2\"/>\n",
       "<circle clip-path=\"url(#clip162)\" cx=\"1204.82\" cy=\"1094.88\" r=\"14\" fill=\"#ff0000\" fill-rule=\"evenodd\" fill-opacity=\"1\" stroke=\"#000000\" stroke-opacity=\"1\" stroke-width=\"3.2\"/>\n",
       "<circle clip-path=\"url(#clip162)\" cx=\"1227.06\" cy=\"1084.6\" r=\"14\" fill=\"#ff0000\" fill-rule=\"evenodd\" fill-opacity=\"1\" stroke=\"#000000\" stroke-opacity=\"1\" stroke-width=\"3.2\"/>\n",
       "<circle clip-path=\"url(#clip162)\" cx=\"1247.62\" cy=\"1084.26\" r=\"14\" fill=\"#ff0000\" fill-rule=\"evenodd\" fill-opacity=\"1\" stroke=\"#000000\" stroke-opacity=\"1\" stroke-width=\"3.2\"/>\n",
       "<circle clip-path=\"url(#clip162)\" cx=\"1269.3\" cy=\"1109.05\" r=\"14\" fill=\"#ff0000\" fill-rule=\"evenodd\" fill-opacity=\"1\" stroke=\"#000000\" stroke-opacity=\"1\" stroke-width=\"3.2\"/>\n",
       "<circle clip-path=\"url(#clip162)\" cx=\"1289.19\" cy=\"1088.36\" r=\"14\" fill=\"#ff0000\" fill-rule=\"evenodd\" fill-opacity=\"1\" stroke=\"#000000\" stroke-opacity=\"1\" stroke-width=\"3.2\"/>\n",
       "<circle clip-path=\"url(#clip162)\" cx=\"1306.98\" cy=\"1069.16\" r=\"14\" fill=\"#ff0000\" fill-rule=\"evenodd\" fill-opacity=\"1\" stroke=\"#000000\" stroke-opacity=\"1\" stroke-width=\"3.2\"/>\n",
       "<circle clip-path=\"url(#clip162)\" cx=\"1330.09\" cy=\"1080.4\" r=\"14\" fill=\"#ff0000\" fill-rule=\"evenodd\" fill-opacity=\"1\" stroke=\"#000000\" stroke-opacity=\"1\" stroke-width=\"3.2\"/>\n",
       "<circle clip-path=\"url(#clip162)\" cx=\"1354.23\" cy=\"1087.95\" r=\"14\" fill=\"#ff0000\" fill-rule=\"evenodd\" fill-opacity=\"1\" stroke=\"#000000\" stroke-opacity=\"1\" stroke-width=\"3.2\"/>\n",
       "<circle clip-path=\"url(#clip162)\" cx=\"1374.1\" cy=\"1079.21\" r=\"14\" fill=\"#ff0000\" fill-rule=\"evenodd\" fill-opacity=\"1\" stroke=\"#000000\" stroke-opacity=\"1\" stroke-width=\"3.2\"/>\n",
       "<circle clip-path=\"url(#clip162)\" cx=\"1388.38\" cy=\"1058.56\" r=\"14\" fill=\"#ff0000\" fill-rule=\"evenodd\" fill-opacity=\"1\" stroke=\"#000000\" stroke-opacity=\"1\" stroke-width=\"3.2\"/>\n",
       "<circle clip-path=\"url(#clip162)\" cx=\"1409.44\" cy=\"1054.02\" r=\"14\" fill=\"#ff0000\" fill-rule=\"evenodd\" fill-opacity=\"1\" stroke=\"#000000\" stroke-opacity=\"1\" stroke-width=\"3.2\"/>\n",
       "<circle clip-path=\"url(#clip162)\" cx=\"1423.04\" cy=\"1036.03\" r=\"14\" fill=\"#ff0000\" fill-rule=\"evenodd\" fill-opacity=\"1\" stroke=\"#000000\" stroke-opacity=\"1\" stroke-width=\"3.2\"/>\n",
       "<circle clip-path=\"url(#clip162)\" cx=\"1453.87\" cy=\"1044\" r=\"14\" fill=\"#ff0000\" fill-rule=\"evenodd\" fill-opacity=\"1\" stroke=\"#000000\" stroke-opacity=\"1\" stroke-width=\"3.2\"/>\n",
       "<circle clip-path=\"url(#clip162)\" cx=\"1439.6\" cy=\"991.56\" r=\"14\" fill=\"#ff0000\" fill-rule=\"evenodd\" fill-opacity=\"1\" stroke=\"#000000\" stroke-opacity=\"1\" stroke-width=\"3.2\"/>\n",
       "<circle clip-path=\"url(#clip162)\" cx=\"1466.63\" cy=\"993.13\" r=\"14\" fill=\"#ff0000\" fill-rule=\"evenodd\" fill-opacity=\"1\" stroke=\"#000000\" stroke-opacity=\"1\" stroke-width=\"3.2\"/>\n",
       "<circle clip-path=\"url(#clip162)\" cx=\"1490.75\" cy=\"988.501\" r=\"14\" fill=\"#ff0000\" fill-rule=\"evenodd\" fill-opacity=\"1\" stroke=\"#000000\" stroke-opacity=\"1\" stroke-width=\"3.2\"/>\n",
       "<circle clip-path=\"url(#clip162)\" cx=\"1521.62\" cy=\"987.174\" r=\"14\" fill=\"#ff0000\" fill-rule=\"evenodd\" fill-opacity=\"1\" stroke=\"#000000\" stroke-opacity=\"1\" stroke-width=\"3.2\"/>\n",
       "<circle clip-path=\"url(#clip162)\" cx=\"1483.69\" cy=\"931.599\" r=\"14\" fill=\"#ff0000\" fill-rule=\"evenodd\" fill-opacity=\"1\" stroke=\"#000000\" stroke-opacity=\"1\" stroke-width=\"3.2\"/>\n",
       "<circle clip-path=\"url(#clip162)\" cx=\"1545.72\" cy=\"949.843\" r=\"14\" fill=\"#ff0000\" fill-rule=\"evenodd\" fill-opacity=\"1\" stroke=\"#000000\" stroke-opacity=\"1\" stroke-width=\"3.2\"/>\n",
       "<circle clip-path=\"url(#clip162)\" cx=\"1554.39\" cy=\"929.393\" r=\"14\" fill=\"#ff0000\" fill-rule=\"evenodd\" fill-opacity=\"1\" stroke=\"#000000\" stroke-opacity=\"1\" stroke-width=\"3.2\"/>\n",
       "<circle clip-path=\"url(#clip162)\" cx=\"1554.85\" cy=\"905.363\" r=\"14\" fill=\"#ff0000\" fill-rule=\"evenodd\" fill-opacity=\"1\" stroke=\"#000000\" stroke-opacity=\"1\" stroke-width=\"3.2\"/>\n",
       "<circle clip-path=\"url(#clip162)\" cx=\"1543.67\" cy=\"878.028\" r=\"14\" fill=\"#ff0000\" fill-rule=\"evenodd\" fill-opacity=\"1\" stroke=\"#000000\" stroke-opacity=\"1\" stroke-width=\"3.2\"/>\n",
       "<circle clip-path=\"url(#clip162)\" cx=\"1570.92\" cy=\"866.06\" r=\"14\" fill=\"#ff0000\" fill-rule=\"evenodd\" fill-opacity=\"1\" stroke=\"#000000\" stroke-opacity=\"1\" stroke-width=\"3.2\"/>\n",
       "<circle clip-path=\"url(#clip162)\" cx=\"1575.94\" cy=\"845.418\" r=\"14\" fill=\"#ff0000\" fill-rule=\"evenodd\" fill-opacity=\"1\" stroke=\"#000000\" stroke-opacity=\"1\" stroke-width=\"3.2\"/>\n",
       "<circle clip-path=\"url(#clip162)\" cx=\"1567.16\" cy=\"822.158\" r=\"14\" fill=\"#ff0000\" fill-rule=\"evenodd\" fill-opacity=\"1\" stroke=\"#000000\" stroke-opacity=\"1\" stroke-width=\"3.2\"/>\n",
       "<circle clip-path=\"url(#clip162)\" cx=\"1599.93\" cy=\"805.866\" r=\"14\" fill=\"#ff0000\" fill-rule=\"evenodd\" fill-opacity=\"1\" stroke=\"#000000\" stroke-opacity=\"1\" stroke-width=\"3.2\"/>\n",
       "<circle clip-path=\"url(#clip162)\" cx=\"1592.27\" cy=\"783.137\" r=\"14\" fill=\"#ff0000\" fill-rule=\"evenodd\" fill-opacity=\"1\" stroke=\"#000000\" stroke-opacity=\"1\" stroke-width=\"3.2\"/>\n",
       "<circle clip-path=\"url(#clip162)\" cx=\"1547.49\" cy=\"761.559\" r=\"14\" fill=\"#ff0000\" fill-rule=\"evenodd\" fill-opacity=\"1\" stroke=\"#000000\" stroke-opacity=\"1\" stroke-width=\"3.2\"/>\n",
       "<circle clip-path=\"url(#clip162)\" cx=\"1924.04\" cy=\"761.559\" r=\"14\" fill=\"#0000ff\" fill-rule=\"evenodd\" fill-opacity=\"1\" stroke=\"#000000\" stroke-opacity=\"1\" stroke-width=\"3.2\"/>\n",
       "<circle clip-path=\"url(#clip162)\" cx=\"1919.51\" cy=\"719.185\" r=\"14\" fill=\"#0000ff\" fill-rule=\"evenodd\" fill-opacity=\"1\" stroke=\"#000000\" stroke-opacity=\"1\" stroke-width=\"3.2\"/>\n",
       "<circle clip-path=\"url(#clip162)\" cx=\"1918.4\" cy=\"676.609\" r=\"14\" fill=\"#0000ff\" fill-rule=\"evenodd\" fill-opacity=\"1\" stroke=\"#000000\" stroke-opacity=\"1\" stroke-width=\"3.2\"/>\n",
       "<circle clip-path=\"url(#clip162)\" cx=\"1885.84\" cy=\"639.539\" r=\"14\" fill=\"#0000ff\" fill-rule=\"evenodd\" fill-opacity=\"1\" stroke=\"#000000\" stroke-opacity=\"1\" stroke-width=\"3.2\"/>\n",
       "<circle clip-path=\"url(#clip162)\" cx=\"1882.58\" cy=\"598.14\" r=\"14\" fill=\"#0000ff\" fill-rule=\"evenodd\" fill-opacity=\"1\" stroke=\"#000000\" stroke-opacity=\"1\" stroke-width=\"3.2\"/>\n",
       "<circle clip-path=\"url(#clip162)\" cx=\"1876.73\" cy=\"556.621\" r=\"14\" fill=\"#0000ff\" fill-rule=\"evenodd\" fill-opacity=\"1\" stroke=\"#000000\" stroke-opacity=\"1\" stroke-width=\"3.2\"/>\n",
       "<circle clip-path=\"url(#clip162)\" cx=\"1857.01\" cy=\"519.648\" r=\"14\" fill=\"#0000ff\" fill-rule=\"evenodd\" fill-opacity=\"1\" stroke=\"#000000\" stroke-opacity=\"1\" stroke-width=\"3.2\"/>\n",
       "<circle clip-path=\"url(#clip162)\" cx=\"1830.47\" cy=\"486.561\" r=\"14\" fill=\"#0000ff\" fill-rule=\"evenodd\" fill-opacity=\"1\" stroke=\"#000000\" stroke-opacity=\"1\" stroke-width=\"3.2\"/>\n",
       "<circle clip-path=\"url(#clip162)\" cx=\"1836.25\" cy=\"436.907\" r=\"14\" fill=\"#0000ff\" fill-rule=\"evenodd\" fill-opacity=\"1\" stroke=\"#000000\" stroke-opacity=\"1\" stroke-width=\"3.2\"/>\n",
       "<circle clip-path=\"url(#clip162)\" cx=\"1788.93\" cy=\"416.972\" r=\"14\" fill=\"#0000ff\" fill-rule=\"evenodd\" fill-opacity=\"1\" stroke=\"#000000\" stroke-opacity=\"1\" stroke-width=\"3.2\"/>\n",
       "<circle clip-path=\"url(#clip162)\" cx=\"1791.55\" cy=\"364.845\" r=\"14\" fill=\"#0000ff\" fill-rule=\"evenodd\" fill-opacity=\"1\" stroke=\"#000000\" stroke-opacity=\"1\" stroke-width=\"3.2\"/>\n",
       "<circle clip-path=\"url(#clip162)\" cx=\"1779.63\" cy=\"319.45\" r=\"14\" fill=\"#0000ff\" fill-rule=\"evenodd\" fill-opacity=\"1\" stroke=\"#000000\" stroke-opacity=\"1\" stroke-width=\"3.2\"/>\n",
       "<circle clip-path=\"url(#clip162)\" cx=\"1737.23\" cy=\"299.602\" r=\"14\" fill=\"#0000ff\" fill-rule=\"evenodd\" fill-opacity=\"1\" stroke=\"#000000\" stroke-opacity=\"1\" stroke-width=\"3.2\"/>\n",
       "<circle clip-path=\"url(#clip162)\" cx=\"1703.26\" cy=\"273.804\" r=\"14\" fill=\"#0000ff\" fill-rule=\"evenodd\" fill-opacity=\"1\" stroke=\"#000000\" stroke-opacity=\"1\" stroke-width=\"3.2\"/>\n",
       "<circle clip-path=\"url(#clip162)\" cx=\"1655.91\" cy=\"265.307\" r=\"14\" fill=\"#0000ff\" fill-rule=\"evenodd\" fill-opacity=\"1\" stroke=\"#000000\" stroke-opacity=\"1\" stroke-width=\"3.2\"/>\n",
       "<circle clip-path=\"url(#clip162)\" cx=\"1646.95\" cy=\"207.974\" r=\"14\" fill=\"#0000ff\" fill-rule=\"evenodd\" fill-opacity=\"1\" stroke=\"#000000\" stroke-opacity=\"1\" stroke-width=\"3.2\"/>\n",
       "<circle clip-path=\"url(#clip162)\" cx=\"1595.23\" cy=\"209.57\" r=\"14\" fill=\"#0000ff\" fill-rule=\"evenodd\" fill-opacity=\"1\" stroke=\"#000000\" stroke-opacity=\"1\" stroke-width=\"3.2\"/>\n",
       "<circle clip-path=\"url(#clip162)\" cx=\"1561.32\" cy=\"185.621\" r=\"14\" fill=\"#0000ff\" fill-rule=\"evenodd\" fill-opacity=\"1\" stroke=\"#000000\" stroke-opacity=\"1\" stroke-width=\"3.2\"/>\n",
       "<circle clip-path=\"url(#clip162)\" cx=\"1523.38\" cy=\"168.945\" r=\"14\" fill=\"#0000ff\" fill-rule=\"evenodd\" fill-opacity=\"1\" stroke=\"#000000\" stroke-opacity=\"1\" stroke-width=\"3.2\"/>\n",
       "<circle clip-path=\"url(#clip162)\" cx=\"1493.27\" cy=\"131.981\" r=\"14\" fill=\"#0000ff\" fill-rule=\"evenodd\" fill-opacity=\"1\" stroke=\"#000000\" stroke-opacity=\"1\" stroke-width=\"3.2\"/>\n",
       "<circle clip-path=\"url(#clip162)\" cx=\"1447.65\" cy=\"134.722\" r=\"14\" fill=\"#0000ff\" fill-rule=\"evenodd\" fill-opacity=\"1\" stroke=\"#000000\" stroke-opacity=\"1\" stroke-width=\"3.2\"/>\n",
       "<circle clip-path=\"url(#clip162)\" cx=\"1408\" cy=\"121.563\" r=\"14\" fill=\"#0000ff\" fill-rule=\"evenodd\" fill-opacity=\"1\" stroke=\"#000000\" stroke-opacity=\"1\" stroke-width=\"3.2\"/>\n",
       "<circle clip-path=\"url(#clip162)\" cx=\"1364.58\" cy=\"127.32\" r=\"14\" fill=\"#0000ff\" fill-rule=\"evenodd\" fill-opacity=\"1\" stroke=\"#000000\" stroke-opacity=\"1\" stroke-width=\"3.2\"/>\n",
       "<circle clip-path=\"url(#clip162)\" cx=\"1326.33\" cy=\"101.74\" r=\"14\" fill=\"#0000ff\" fill-rule=\"evenodd\" fill-opacity=\"1\" stroke=\"#000000\" stroke-opacity=\"1\" stroke-width=\"3.2\"/>\n",
       "<circle clip-path=\"url(#clip162)\" cx=\"1282.33\" cy=\"140.397\" r=\"14\" fill=\"#0000ff\" fill-rule=\"evenodd\" fill-opacity=\"1\" stroke=\"#000000\" stroke-opacity=\"1\" stroke-width=\"3.2\"/>\n",
       "<circle clip-path=\"url(#clip162)\" cx=\"1242.05\" cy=\"87.9763\" r=\"14\" fill=\"#0000ff\" fill-rule=\"evenodd\" fill-opacity=\"1\" stroke=\"#000000\" stroke-opacity=\"1\" stroke-width=\"3.2\"/>\n",
       "<circle clip-path=\"url(#clip162)\" cx=\"1202.77\" cy=\"132.991\" r=\"14\" fill=\"#0000ff\" fill-rule=\"evenodd\" fill-opacity=\"1\" stroke=\"#000000\" stroke-opacity=\"1\" stroke-width=\"3.2\"/>\n",
       "<circle clip-path=\"url(#clip162)\" cx=\"1161.54\" cy=\"127.213\" r=\"14\" fill=\"#0000ff\" fill-rule=\"evenodd\" fill-opacity=\"1\" stroke=\"#000000\" stroke-opacity=\"1\" stroke-width=\"3.2\"/>\n",
       "<circle clip-path=\"url(#clip162)\" cx=\"1120.3\" cy=\"128.579\" r=\"14\" fill=\"#0000ff\" fill-rule=\"evenodd\" fill-opacity=\"1\" stroke=\"#000000\" stroke-opacity=\"1\" stroke-width=\"3.2\"/>\n",
       "<circle clip-path=\"url(#clip162)\" cx=\"1084.84\" cy=\"154.252\" r=\"14\" fill=\"#0000ff\" fill-rule=\"evenodd\" fill-opacity=\"1\" stroke=\"#000000\" stroke-opacity=\"1\" stroke-width=\"3.2\"/>\n",
       "<circle clip-path=\"url(#clip162)\" cx=\"1049.2\" cy=\"173.45\" r=\"14\" fill=\"#0000ff\" fill-rule=\"evenodd\" fill-opacity=\"1\" stroke=\"#000000\" stroke-opacity=\"1\" stroke-width=\"3.2\"/>\n",
       "<circle clip-path=\"url(#clip162)\" cx=\"1002.35\" cy=\"163.787\" r=\"14\" fill=\"#0000ff\" fill-rule=\"evenodd\" fill-opacity=\"1\" stroke=\"#000000\" stroke-opacity=\"1\" stroke-width=\"3.2\"/>\n",
       "<circle clip-path=\"url(#clip162)\" cx=\"959.175\" cy=\"169.227\" r=\"14\" fill=\"#0000ff\" fill-rule=\"evenodd\" fill-opacity=\"1\" stroke=\"#000000\" stroke-opacity=\"1\" stroke-width=\"3.2\"/>\n",
       "<circle clip-path=\"url(#clip162)\" cx=\"933.663\" cy=\"208.896\" r=\"14\" fill=\"#0000ff\" fill-rule=\"evenodd\" fill-opacity=\"1\" stroke=\"#000000\" stroke-opacity=\"1\" stroke-width=\"3.2\"/>\n",
       "<circle clip-path=\"url(#clip162)\" cx=\"886.082\" cy=\"210.45\" r=\"14\" fill=\"#0000ff\" fill-rule=\"evenodd\" fill-opacity=\"1\" stroke=\"#000000\" stroke-opacity=\"1\" stroke-width=\"3.2\"/>\n",
       "<circle clip-path=\"url(#clip162)\" cx=\"852.814\" cy=\"236.058\" r=\"14\" fill=\"#0000ff\" fill-rule=\"evenodd\" fill-opacity=\"1\" stroke=\"#000000\" stroke-opacity=\"1\" stroke-width=\"3.2\"/>\n",
       "<circle clip-path=\"url(#clip162)\" cx=\"830.67\" cy=\"274.461\" r=\"14\" fill=\"#0000ff\" fill-rule=\"evenodd\" fill-opacity=\"1\" stroke=\"#000000\" stroke-opacity=\"1\" stroke-width=\"3.2\"/>\n",
       "<circle clip-path=\"url(#clip162)\" cx=\"772.711\" cy=\"273.849\" r=\"14\" fill=\"#0000ff\" fill-rule=\"evenodd\" fill-opacity=\"1\" stroke=\"#000000\" stroke-opacity=\"1\" stroke-width=\"3.2\"/>\n",
       "<circle clip-path=\"url(#clip162)\" cx=\"788.312\" cy=\"346.045\" r=\"14\" fill=\"#0000ff\" fill-rule=\"evenodd\" fill-opacity=\"1\" stroke=\"#000000\" stroke-opacity=\"1\" stroke-width=\"3.2\"/>\n",
       "<circle clip-path=\"url(#clip162)\" cx=\"733.83\" cy=\"353.481\" r=\"14\" fill=\"#0000ff\" fill-rule=\"evenodd\" fill-opacity=\"1\" stroke=\"#000000\" stroke-opacity=\"1\" stroke-width=\"3.2\"/>\n",
       "<circle clip-path=\"url(#clip162)\" cx=\"719.768\" cy=\"394.633\" r=\"14\" fill=\"#0000ff\" fill-rule=\"evenodd\" fill-opacity=\"1\" stroke=\"#000000\" stroke-opacity=\"1\" stroke-width=\"3.2\"/>\n",
       "<circle clip-path=\"url(#clip162)\" cx=\"675.777\" cy=\"416.128\" r=\"14\" fill=\"#0000ff\" fill-rule=\"evenodd\" fill-opacity=\"1\" stroke=\"#000000\" stroke-opacity=\"1\" stroke-width=\"3.2\"/>\n",
       "<circle clip-path=\"url(#clip162)\" cx=\"680.074\" cy=\"466.328\" r=\"14\" fill=\"#0000ff\" fill-rule=\"evenodd\" fill-opacity=\"1\" stroke=\"#000000\" stroke-opacity=\"1\" stroke-width=\"3.2\"/>\n",
       "<circle clip-path=\"url(#clip162)\" cx=\"674.623\" cy=\"508.548\" r=\"14\" fill=\"#0000ff\" fill-rule=\"evenodd\" fill-opacity=\"1\" stroke=\"#000000\" stroke-opacity=\"1\" stroke-width=\"3.2\"/>\n",
       "<circle clip-path=\"url(#clip162)\" cx=\"647.042\" cy=\"541.102\" r=\"14\" fill=\"#0000ff\" fill-rule=\"evenodd\" fill-opacity=\"1\" stroke=\"#000000\" stroke-opacity=\"1\" stroke-width=\"3.2\"/>\n",
       "<circle clip-path=\"url(#clip162)\" cx=\"635.286\" cy=\"580.258\" r=\"14\" fill=\"#0000ff\" fill-rule=\"evenodd\" fill-opacity=\"1\" stroke=\"#000000\" stroke-opacity=\"1\" stroke-width=\"3.2\"/>\n",
       "<circle clip-path=\"url(#clip162)\" cx=\"608.385\" cy=\"616.025\" r=\"14\" fill=\"#0000ff\" fill-rule=\"evenodd\" fill-opacity=\"1\" stroke=\"#000000\" stroke-opacity=\"1\" stroke-width=\"3.2\"/>\n",
       "<circle clip-path=\"url(#clip162)\" cx=\"590.841\" cy=\"655.648\" r=\"14\" fill=\"#0000ff\" fill-rule=\"evenodd\" fill-opacity=\"1\" stroke=\"#000000\" stroke-opacity=\"1\" stroke-width=\"3.2\"/>\n",
       "<circle clip-path=\"url(#clip162)\" cx=\"612.703\" cy=\"700.443\" r=\"14\" fill=\"#0000ff\" fill-rule=\"evenodd\" fill-opacity=\"1\" stroke=\"#000000\" stroke-opacity=\"1\" stroke-width=\"3.2\"/>\n",
       "<circle clip-path=\"url(#clip162)\" cx=\"578.172\" cy=\"740.146\" r=\"14\" fill=\"#0000ff\" fill-rule=\"evenodd\" fill-opacity=\"1\" stroke=\"#000000\" stroke-opacity=\"1\" stroke-width=\"3.2\"/>\n",
       "<circle clip-path=\"url(#clip162)\" cx=\"574.616\" cy=\"783.086\" r=\"14\" fill=\"#0000ff\" fill-rule=\"evenodd\" fill-opacity=\"1\" stroke=\"#000000\" stroke-opacity=\"1\" stroke-width=\"3.2\"/>\n",
       "<circle clip-path=\"url(#clip162)\" cx=\"627.132\" cy=\"821.298\" r=\"14\" fill=\"#0000ff\" fill-rule=\"evenodd\" fill-opacity=\"1\" stroke=\"#000000\" stroke-opacity=\"1\" stroke-width=\"3.2\"/>\n",
       "<circle clip-path=\"url(#clip162)\" cx=\"591.355\" cy=\"867.389\" r=\"14\" fill=\"#0000ff\" fill-rule=\"evenodd\" fill-opacity=\"1\" stroke=\"#000000\" stroke-opacity=\"1\" stroke-width=\"3.2\"/>\n",
       "<circle clip-path=\"url(#clip162)\" cx=\"616.39\" cy=\"905.286\" r=\"14\" fill=\"#0000ff\" fill-rule=\"evenodd\" fill-opacity=\"1\" stroke=\"#000000\" stroke-opacity=\"1\" stroke-width=\"3.2\"/>\n",
       "<circle clip-path=\"url(#clip162)\" cx=\"670.377\" cy=\"932.558\" r=\"14\" fill=\"#0000ff\" fill-rule=\"evenodd\" fill-opacity=\"1\" stroke=\"#000000\" stroke-opacity=\"1\" stroke-width=\"3.2\"/>\n",
       "<circle clip-path=\"url(#clip162)\" cx=\"630.323\" cy=\"988.102\" r=\"14\" fill=\"#0000ff\" fill-rule=\"evenodd\" fill-opacity=\"1\" stroke=\"#000000\" stroke-opacity=\"1\" stroke-width=\"3.2\"/>\n",
       "<circle clip-path=\"url(#clip162)\" cx=\"666.233\" cy=\"1018.24\" r=\"14\" fill=\"#0000ff\" fill-rule=\"evenodd\" fill-opacity=\"1\" stroke=\"#000000\" stroke-opacity=\"1\" stroke-width=\"3.2\"/>\n",
       "<circle clip-path=\"url(#clip162)\" cx=\"690.925\" cy=\"1051.2\" r=\"14\" fill=\"#0000ff\" fill-rule=\"evenodd\" fill-opacity=\"1\" stroke=\"#000000\" stroke-opacity=\"1\" stroke-width=\"3.2\"/>\n",
       "<circle clip-path=\"url(#clip162)\" cx=\"715.178\" cy=\"1083.4\" r=\"14\" fill=\"#0000ff\" fill-rule=\"evenodd\" fill-opacity=\"1\" stroke=\"#000000\" stroke-opacity=\"1\" stroke-width=\"3.2\"/>\n",
       "<circle clip-path=\"url(#clip162)\" cx=\"722.035\" cy=\"1126.93\" r=\"14\" fill=\"#0000ff\" fill-rule=\"evenodd\" fill-opacity=\"1\" stroke=\"#000000\" stroke-opacity=\"1\" stroke-width=\"3.2\"/>\n",
       "<circle clip-path=\"url(#clip162)\" cx=\"735.241\" cy=\"1168.53\" r=\"14\" fill=\"#0000ff\" fill-rule=\"evenodd\" fill-opacity=\"1\" stroke=\"#000000\" stroke-opacity=\"1\" stroke-width=\"3.2\"/>\n",
       "<circle clip-path=\"url(#clip162)\" cx=\"741.398\" cy=\"1219.05\" r=\"14\" fill=\"#0000ff\" fill-rule=\"evenodd\" fill-opacity=\"1\" stroke=\"#000000\" stroke-opacity=\"1\" stroke-width=\"3.2\"/>\n",
       "<circle clip-path=\"url(#clip162)\" cx=\"789.768\" cy=\"1231.94\" r=\"14\" fill=\"#0000ff\" fill-rule=\"evenodd\" fill-opacity=\"1\" stroke=\"#000000\" stroke-opacity=\"1\" stroke-width=\"3.2\"/>\n",
       "<circle clip-path=\"url(#clip162)\" cx=\"824.564\" cy=\"1255.7\" r=\"14\" fill=\"#0000ff\" fill-rule=\"evenodd\" fill-opacity=\"1\" stroke=\"#000000\" stroke-opacity=\"1\" stroke-width=\"3.2\"/>\n",
       "<circle clip-path=\"url(#clip162)\" cx=\"873.332\" cy=\"1260.1\" r=\"14\" fill=\"#0000ff\" fill-rule=\"evenodd\" fill-opacity=\"1\" stroke=\"#000000\" stroke-opacity=\"1\" stroke-width=\"3.2\"/>\n",
       "<circle clip-path=\"url(#clip162)\" cx=\"883.73\" cy=\"1316.2\" r=\"14\" fill=\"#0000ff\" fill-rule=\"evenodd\" fill-opacity=\"1\" stroke=\"#000000\" stroke-opacity=\"1\" stroke-width=\"3.2\"/>\n",
       "<circle clip-path=\"url(#clip162)\" cx=\"918.35\" cy=\"1340.75\" r=\"14\" fill=\"#0000ff\" fill-rule=\"evenodd\" fill-opacity=\"1\" stroke=\"#000000\" stroke-opacity=\"1\" stroke-width=\"3.2\"/>\n",
       "<circle clip-path=\"url(#clip162)\" cx=\"961.43\" cy=\"1349.34\" r=\"14\" fill=\"#0000ff\" fill-rule=\"evenodd\" fill-opacity=\"1\" stroke=\"#000000\" stroke-opacity=\"1\" stroke-width=\"3.2\"/>\n",
       "<circle clip-path=\"url(#clip162)\" cx=\"1007.52\" cy=\"1346.99\" r=\"14\" fill=\"#0000ff\" fill-rule=\"evenodd\" fill-opacity=\"1\" stroke=\"#000000\" stroke-opacity=\"1\" stroke-width=\"3.2\"/>\n",
       "<circle clip-path=\"url(#clip162)\" cx=\"1029.38\" cy=\"1406.91\" r=\"14\" fill=\"#0000ff\" fill-rule=\"evenodd\" fill-opacity=\"1\" stroke=\"#000000\" stroke-opacity=\"1\" stroke-width=\"3.2\"/>\n",
       "<circle clip-path=\"url(#clip162)\" cx=\"1074.63\" cy=\"1405.8\" r=\"14\" fill=\"#0000ff\" fill-rule=\"evenodd\" fill-opacity=\"1\" stroke=\"#000000\" stroke-opacity=\"1\" stroke-width=\"3.2\"/>\n",
       "<circle clip-path=\"url(#clip162)\" cx=\"1113.63\" cy=\"1426.42\" r=\"14\" fill=\"#0000ff\" fill-rule=\"evenodd\" fill-opacity=\"1\" stroke=\"#000000\" stroke-opacity=\"1\" stroke-width=\"3.2\"/>\n",
       "<circle clip-path=\"url(#clip162)\" cx=\"1161.95\" cy=\"1393.04\" r=\"14\" fill=\"#0000ff\" fill-rule=\"evenodd\" fill-opacity=\"1\" stroke=\"#000000\" stroke-opacity=\"1\" stroke-width=\"3.2\"/>\n",
       "<circle clip-path=\"url(#clip162)\" cx=\"1202.67\" cy=\"1391.45\" r=\"14\" fill=\"#0000ff\" fill-rule=\"evenodd\" fill-opacity=\"1\" stroke=\"#000000\" stroke-opacity=\"1\" stroke-width=\"3.2\"/>\n",
       "<circle clip-path=\"url(#clip162)\" cx=\"1242.26\" cy=\"1421.94\" r=\"14\" fill=\"#0000ff\" fill-rule=\"evenodd\" fill-opacity=\"1\" stroke=\"#000000\" stroke-opacity=\"1\" stroke-width=\"3.2\"/>\n",
       "<circle clip-path=\"url(#clip162)\" cx=\"1285.33\" cy=\"1445.72\" r=\"14\" fill=\"#0000ff\" fill-rule=\"evenodd\" fill-opacity=\"1\" stroke=\"#000000\" stroke-opacity=\"1\" stroke-width=\"3.2\"/>\n",
       "<circle clip-path=\"url(#clip162)\" cx=\"1326.41\" cy=\"1422.13\" r=\"14\" fill=\"#0000ff\" fill-rule=\"evenodd\" fill-opacity=\"1\" stroke=\"#000000\" stroke-opacity=\"1\" stroke-width=\"3.2\"/>\n",
       "<circle clip-path=\"url(#clip162)\" cx=\"1362.62\" cy=\"1384.68\" r=\"14\" fill=\"#0000ff\" fill-rule=\"evenodd\" fill-opacity=\"1\" stroke=\"#000000\" stroke-opacity=\"1\" stroke-width=\"3.2\"/>\n",
       "<circle clip-path=\"url(#clip162)\" cx=\"1407.95\" cy=\"1401.32\" r=\"14\" fill=\"#0000ff\" fill-rule=\"evenodd\" fill-opacity=\"1\" stroke=\"#000000\" stroke-opacity=\"1\" stroke-width=\"3.2\"/>\n",
       "<circle clip-path=\"url(#clip162)\" cx=\"1439.52\" cy=\"1362.24\" r=\"14\" fill=\"#0000ff\" fill-rule=\"evenodd\" fill-opacity=\"1\" stroke=\"#000000\" stroke-opacity=\"1\" stroke-width=\"3.2\"/>\n",
       "<circle clip-path=\"url(#clip162)\" cx=\"1488.58\" cy=\"1378.85\" r=\"14\" fill=\"#0000ff\" fill-rule=\"evenodd\" fill-opacity=\"1\" stroke=\"#000000\" stroke-opacity=\"1\" stroke-width=\"3.2\"/>\n",
       "<circle clip-path=\"url(#clip162)\" cx=\"1519.04\" cy=\"1344.67\" r=\"14\" fill=\"#0000ff\" fill-rule=\"evenodd\" fill-opacity=\"1\" stroke=\"#000000\" stroke-opacity=\"1\" stroke-width=\"3.2\"/>\n",
       "<circle clip-path=\"url(#clip162)\" cx=\"1569.38\" cy=\"1352.53\" r=\"14\" fill=\"#0000ff\" fill-rule=\"evenodd\" fill-opacity=\"1\" stroke=\"#000000\" stroke-opacity=\"1\" stroke-width=\"3.2\"/>\n",
       "<circle clip-path=\"url(#clip162)\" cx=\"1606.63\" cy=\"1331.91\" r=\"14\" fill=\"#0000ff\" fill-rule=\"evenodd\" fill-opacity=\"1\" stroke=\"#000000\" stroke-opacity=\"1\" stroke-width=\"3.2\"/>\n",
       "<circle clip-path=\"url(#clip162)\" cx=\"1642.34\" cy=\"1308.67\" r=\"14\" fill=\"#0000ff\" fill-rule=\"evenodd\" fill-opacity=\"1\" stroke=\"#000000\" stroke-opacity=\"1\" stroke-width=\"3.2\"/>\n",
       "<circle clip-path=\"url(#clip162)\" cx=\"1680.54\" cy=\"1288.13\" r=\"14\" fill=\"#0000ff\" fill-rule=\"evenodd\" fill-opacity=\"1\" stroke=\"#000000\" stroke-opacity=\"1\" stroke-width=\"3.2\"/>\n",
       "<circle clip-path=\"url(#clip162)\" cx=\"1695.5\" cy=\"1240.91\" r=\"14\" fill=\"#0000ff\" fill-rule=\"evenodd\" fill-opacity=\"1\" stroke=\"#000000\" stroke-opacity=\"1\" stroke-width=\"3.2\"/>\n",
       "<circle clip-path=\"url(#clip162)\" cx=\"1727.7\" cy=\"1214.43\" r=\"14\" fill=\"#0000ff\" fill-rule=\"evenodd\" fill-opacity=\"1\" stroke=\"#000000\" stroke-opacity=\"1\" stroke-width=\"3.2\"/>\n",
       "<circle clip-path=\"url(#clip162)\" cx=\"1738.41\" cy=\"1169.08\" r=\"14\" fill=\"#0000ff\" fill-rule=\"evenodd\" fill-opacity=\"1\" stroke=\"#000000\" stroke-opacity=\"1\" stroke-width=\"3.2\"/>\n",
       "<circle clip-path=\"url(#clip162)\" cx=\"1781.81\" cy=\"1151.1\" r=\"14\" fill=\"#0000ff\" fill-rule=\"evenodd\" fill-opacity=\"1\" stroke=\"#000000\" stroke-opacity=\"1\" stroke-width=\"3.2\"/>\n",
       "<circle clip-path=\"url(#clip162)\" cx=\"1781.96\" cy=\"1101.67\" r=\"14\" fill=\"#0000ff\" fill-rule=\"evenodd\" fill-opacity=\"1\" stroke=\"#000000\" stroke-opacity=\"1\" stroke-width=\"3.2\"/>\n",
       "<circle clip-path=\"url(#clip162)\" cx=\"1831.54\" cy=\"1083.6\" r=\"14\" fill=\"#0000ff\" fill-rule=\"evenodd\" fill-opacity=\"1\" stroke=\"#000000\" stroke-opacity=\"1\" stroke-width=\"3.2\"/>\n",
       "<circle clip-path=\"url(#clip162)\" cx=\"1855.64\" cy=\"1048.54\" r=\"14\" fill=\"#0000ff\" fill-rule=\"evenodd\" fill-opacity=\"1\" stroke=\"#000000\" stroke-opacity=\"1\" stroke-width=\"3.2\"/>\n",
       "<circle clip-path=\"url(#clip162)\" cx=\"1874.37\" cy=\"1010.42\" r=\"14\" fill=\"#0000ff\" fill-rule=\"evenodd\" fill-opacity=\"1\" stroke=\"#000000\" stroke-opacity=\"1\" stroke-width=\"3.2\"/>\n",
       "<circle clip-path=\"url(#clip162)\" cx=\"1895.89\" cy=\"972.788\" r=\"14\" fill=\"#0000ff\" fill-rule=\"evenodd\" fill-opacity=\"1\" stroke=\"#000000\" stroke-opacity=\"1\" stroke-width=\"3.2\"/>\n",
       "<circle clip-path=\"url(#clip162)\" cx=\"1877.16\" cy=\"923.573\" r=\"14\" fill=\"#0000ff\" fill-rule=\"evenodd\" fill-opacity=\"1\" stroke=\"#000000\" stroke-opacity=\"1\" stroke-width=\"3.2\"/>\n",
       "<circle clip-path=\"url(#clip162)\" cx=\"1869.14\" cy=\"880.361\" r=\"14\" fill=\"#0000ff\" fill-rule=\"evenodd\" fill-opacity=\"1\" stroke=\"#000000\" stroke-opacity=\"1\" stroke-width=\"3.2\"/>\n",
       "<circle clip-path=\"url(#clip162)\" cx=\"1927.33\" cy=\"847.65\" r=\"14\" fill=\"#0000ff\" fill-rule=\"evenodd\" fill-opacity=\"1\" stroke=\"#000000\" stroke-opacity=\"1\" stroke-width=\"3.2\"/>\n",
       "<circle clip-path=\"url(#clip162)\" cx=\"1900.93\" cy=\"802.753\" r=\"14\" fill=\"#0000ff\" fill-rule=\"evenodd\" fill-opacity=\"1\" stroke=\"#000000\" stroke-opacity=\"1\" stroke-width=\"3.2\"/>\n",
       "<circle clip-path=\"url(#clip162)\" cx=\"1891.18\" cy=\"761.559\" r=\"14\" fill=\"#0000ff\" fill-rule=\"evenodd\" fill-opacity=\"1\" stroke=\"#000000\" stroke-opacity=\"1\" stroke-width=\"3.2\"/>\n",
       "<path clip-path=\"url(#clip160)\" d=\"\n",
       "M1842.38 1438.47 L2279.3 1438.47 L2279.3 1257.03 L1842.38 1257.03  Z\n",
       "  \" fill=\"#ffffff\" fill-rule=\"evenodd\" fill-opacity=\"1\"/>\n",
       "<polyline clip-path=\"url(#clip160)\" style=\"stroke:#000000; stroke-width:4; stroke-opacity:1; fill:none\" points=\"\n",
       "  1842.38,1438.47 2279.3,1438.47 2279.3,1257.03 1842.38,1257.03 1842.38,1438.47 \n",
       "  \"/>\n",
       "<circle clip-path=\"url(#clip160)\" cx=\"1940.32\" cy=\"1317.51\" r=\"23\" fill=\"#ff0000\" fill-rule=\"evenodd\" fill-opacity=\"1\" stroke=\"#000000\" stroke-opacity=\"1\" stroke-width=\"5.12\"/>\n",
       "<path clip-path=\"url(#clip160)\" d=\"M 0 0 M2066.12 1302.9 L2066.12 1307.83 Q2063.76 1305.63 2061.08 1304.54 Q2058.42 1303.45 2055.41 1303.45 Q2049.48 1303.45 2046.33 1307.09 Q2043.18 1310.7 2043.18 1317.55 Q2043.18 1324.38 2046.33 1328.01 Q2049.48 1331.62 2055.41 1331.62 Q2058.42 1331.62 2061.08 1330.54 Q2063.76 1329.45 2066.12 1327.25 L2066.12 1332.13 Q2063.67 1333.8 2060.92 1334.63 Q2058.18 1335.47 2055.13 1335.47 Q2047.28 1335.47 2042.77 1330.67 Q2038.25 1325.86 2038.25 1317.55 Q2038.25 1309.22 2042.77 1304.42 Q2047.28 1299.61 2055.13 1299.61 Q2058.23 1299.61 2060.96 1300.44 Q2063.72 1301.25 2066.12 1302.9 Z\" fill=\"#000000\" fill-rule=\"evenodd\" fill-opacity=\"1\" /><path clip-path=\"url(#clip160)\" d=\"M 0 0 M2073.16 1298.78 L2077.42 1298.78 L2077.42 1334.79 L2073.16 1334.79 L2073.16 1298.78 Z\" fill=\"#000000\" fill-rule=\"evenodd\" fill-opacity=\"1\" /><path clip-path=\"url(#clip160)\" d=\"M 0 0 M2098.11 1321.76 Q2092.95 1321.76 2090.96 1322.94 Q2088.97 1324.12 2088.97 1326.97 Q2088.97 1329.24 2090.45 1330.58 Q2091.96 1331.9 2094.53 1331.9 Q2098.07 1331.9 2100.2 1329.4 Q2102.35 1326.88 2102.35 1322.71 L2102.35 1321.76 L2098.11 1321.76 M2106.61 1320 L2106.61 1334.79 L2102.35 1334.79 L2102.35 1330.86 Q2100.89 1333.22 2098.72 1334.35 Q2096.54 1335.47 2093.39 1335.47 Q2089.41 1335.47 2087.05 1333.24 Q2084.71 1331 2084.71 1327.25 Q2084.71 1322.87 2087.63 1320.65 Q2090.57 1318.43 2096.38 1318.43 L2102.35 1318.43 L2102.35 1318.01 Q2102.35 1315.07 2100.41 1313.48 Q2098.48 1311.85 2094.99 1311.85 Q2092.77 1311.85 2090.66 1312.39 Q2088.55 1312.92 2086.61 1313.98 L2086.61 1310.05 Q2088.95 1309.15 2091.15 1308.71 Q2093.35 1308.24 2095.43 1308.24 Q2101.05 1308.24 2103.83 1311.16 Q2106.61 1314.08 2106.61 1320 Z\" fill=\"#000000\" fill-rule=\"evenodd\" fill-opacity=\"1\" /><path clip-path=\"url(#clip160)\" d=\"M 0 0 M2131.91 1309.63 L2131.91 1313.66 Q2130.1 1312.73 2128.16 1312.27 Q2126.22 1311.81 2124.13 1311.81 Q2120.96 1311.81 2119.36 1312.78 Q2117.79 1313.75 2117.79 1315.7 Q2117.79 1317.18 2118.92 1318.04 Q2120.06 1318.87 2123.48 1319.63 L2124.94 1319.96 Q2129.48 1320.93 2131.38 1322.71 Q2133.3 1324.47 2133.3 1327.64 Q2133.3 1331.25 2130.43 1333.36 Q2127.58 1335.47 2122.58 1335.47 Q2120.5 1335.47 2118.23 1335.05 Q2115.98 1334.66 2113.48 1333.85 L2113.48 1329.45 Q2115.85 1330.67 2118.14 1331.3 Q2120.43 1331.9 2122.67 1331.9 Q2125.68 1331.9 2127.3 1330.88 Q2128.92 1329.84 2128.92 1327.97 Q2128.92 1326.23 2127.74 1325.3 Q2126.59 1324.38 2122.63 1323.52 L2121.15 1323.17 Q2117.19 1322.34 2115.43 1320.63 Q2113.67 1318.89 2113.67 1315.88 Q2113.67 1312.23 2116.26 1310.23 Q2118.85 1308.24 2123.62 1308.24 Q2125.98 1308.24 2128.07 1308.59 Q2130.15 1308.94 2131.91 1309.63 Z\" fill=\"#000000\" fill-rule=\"evenodd\" fill-opacity=\"1\" /><path clip-path=\"url(#clip160)\" d=\"M 0 0 M2156.61 1309.63 L2156.61 1313.66 Q2154.8 1312.73 2152.86 1312.27 Q2150.91 1311.81 2148.83 1311.81 Q2145.66 1311.81 2144.06 1312.78 Q2142.49 1313.75 2142.49 1315.7 Q2142.49 1317.18 2143.62 1318.04 Q2144.76 1318.87 2148.18 1319.63 L2149.64 1319.96 Q2154.18 1320.93 2156.08 1322.71 Q2158 1324.47 2158 1327.64 Q2158 1331.25 2155.13 1333.36 Q2152.28 1335.47 2147.28 1335.47 Q2145.2 1335.47 2142.93 1335.05 Q2140.68 1334.66 2138.18 1333.85 L2138.18 1329.45 Q2140.54 1330.67 2142.84 1331.3 Q2145.13 1331.9 2147.37 1331.9 Q2150.38 1331.9 2152 1330.88 Q2153.62 1329.84 2153.62 1327.97 Q2153.62 1326.23 2152.44 1325.3 Q2151.29 1324.38 2147.33 1323.52 L2145.85 1323.17 Q2141.89 1322.34 2140.13 1320.63 Q2138.37 1318.89 2138.37 1315.88 Q2138.37 1312.23 2140.96 1310.23 Q2143.55 1308.24 2148.32 1308.24 Q2150.68 1308.24 2152.77 1308.59 Q2154.85 1308.94 2156.61 1309.63 Z\" fill=\"#000000\" fill-rule=\"evenodd\" fill-opacity=\"1\" /><path clip-path=\"url(#clip160)\" d=\"M 0 0 M2186.96 1320.77 L2186.96 1322.85 L2167.37 1322.85 Q2167.65 1327.25 2170.01 1329.56 Q2172.4 1331.85 2176.63 1331.85 Q2179.09 1331.85 2181.38 1331.25 Q2183.69 1330.65 2185.96 1329.45 L2185.96 1333.47 Q2183.67 1334.45 2181.26 1334.96 Q2178.85 1335.47 2176.38 1335.47 Q2170.17 1335.47 2166.54 1331.85 Q2162.93 1328.24 2162.93 1322.09 Q2162.93 1315.72 2166.35 1311.99 Q2169.8 1308.24 2175.64 1308.24 Q2180.87 1308.24 2183.9 1311.62 Q2186.96 1314.98 2186.96 1320.77 M2182.7 1319.52 Q2182.65 1316.02 2180.73 1313.94 Q2178.83 1311.85 2175.68 1311.85 Q2172.12 1311.85 2169.97 1313.87 Q2167.84 1315.88 2167.51 1319.54 L2182.7 1319.52 Z\" fill=\"#000000\" fill-rule=\"evenodd\" fill-opacity=\"1\" /><path clip-path=\"url(#clip160)\" d=\"M 0 0 M2210.43 1330.86 L2218.07 1330.86 L2218.07 1304.49 L2209.76 1306.16 L2209.76 1301.9 L2218.02 1300.23 L2222.7 1300.23 L2222.7 1330.86 L2230.34 1330.86 L2230.34 1334.79 L2210.43 1334.79 L2210.43 1330.86 Z\" fill=\"#000000\" fill-rule=\"evenodd\" fill-opacity=\"1\" /><circle clip-path=\"url(#clip160)\" cx=\"1940.32\" cy=\"1377.99\" r=\"23\" fill=\"#0000ff\" fill-rule=\"evenodd\" fill-opacity=\"1\" stroke=\"#000000\" stroke-opacity=\"1\" stroke-width=\"5.12\"/>\n",
       "<path clip-path=\"url(#clip160)\" d=\"M 0 0 M2066.12 1363.38 L2066.12 1368.31 Q2063.76 1366.11 2061.08 1365.02 Q2058.42 1363.93 2055.41 1363.93 Q2049.48 1363.93 2046.33 1367.57 Q2043.18 1371.18 2043.18 1378.03 Q2043.18 1384.86 2046.33 1388.49 Q2049.48 1392.1 2055.41 1392.1 Q2058.42 1392.1 2061.08 1391.02 Q2063.76 1389.93 2066.12 1387.73 L2066.12 1392.61 Q2063.67 1394.28 2060.92 1395.11 Q2058.18 1395.95 2055.13 1395.95 Q2047.28 1395.95 2042.77 1391.15 Q2038.25 1386.34 2038.25 1378.03 Q2038.25 1369.7 2042.77 1364.9 Q2047.28 1360.09 2055.13 1360.09 Q2058.23 1360.09 2060.96 1360.92 Q2063.72 1361.73 2066.12 1363.38 Z\" fill=\"#000000\" fill-rule=\"evenodd\" fill-opacity=\"1\" /><path clip-path=\"url(#clip160)\" d=\"M 0 0 M2073.16 1359.26 L2077.42 1359.26 L2077.42 1395.27 L2073.16 1395.27 L2073.16 1359.26 Z\" fill=\"#000000\" fill-rule=\"evenodd\" fill-opacity=\"1\" /><path clip-path=\"url(#clip160)\" d=\"M 0 0 M2098.11 1382.24 Q2092.95 1382.24 2090.96 1383.42 Q2088.97 1384.6 2088.97 1387.45 Q2088.97 1389.72 2090.45 1391.06 Q2091.96 1392.38 2094.53 1392.38 Q2098.07 1392.38 2100.2 1389.88 Q2102.35 1387.36 2102.35 1383.19 L2102.35 1382.24 L2098.11 1382.24 M2106.61 1380.48 L2106.61 1395.27 L2102.35 1395.27 L2102.35 1391.34 Q2100.89 1393.7 2098.72 1394.83 Q2096.54 1395.95 2093.39 1395.95 Q2089.41 1395.95 2087.05 1393.72 Q2084.71 1391.48 2084.71 1387.73 Q2084.71 1383.35 2087.63 1381.13 Q2090.57 1378.91 2096.38 1378.91 L2102.35 1378.91 L2102.35 1378.49 Q2102.35 1375.55 2100.41 1373.96 Q2098.48 1372.33 2094.99 1372.33 Q2092.77 1372.33 2090.66 1372.87 Q2088.55 1373.4 2086.61 1374.46 L2086.61 1370.53 Q2088.95 1369.63 2091.15 1369.19 Q2093.35 1368.72 2095.43 1368.72 Q2101.05 1368.72 2103.83 1371.64 Q2106.61 1374.56 2106.61 1380.48 Z\" fill=\"#000000\" fill-rule=\"evenodd\" fill-opacity=\"1\" /><path clip-path=\"url(#clip160)\" d=\"M 0 0 M2131.91 1370.11 L2131.91 1374.14 Q2130.1 1373.21 2128.16 1372.75 Q2126.22 1372.29 2124.13 1372.29 Q2120.96 1372.29 2119.36 1373.26 Q2117.79 1374.23 2117.79 1376.18 Q2117.79 1377.66 2118.92 1378.52 Q2120.06 1379.35 2123.48 1380.11 L2124.94 1380.44 Q2129.48 1381.41 2131.38 1383.19 Q2133.3 1384.95 2133.3 1388.12 Q2133.3 1391.73 2130.43 1393.84 Q2127.58 1395.95 2122.58 1395.95 Q2120.5 1395.95 2118.23 1395.53 Q2115.98 1395.14 2113.48 1394.33 L2113.48 1389.93 Q2115.85 1391.15 2118.14 1391.78 Q2120.43 1392.38 2122.67 1392.38 Q2125.68 1392.38 2127.3 1391.36 Q2128.92 1390.32 2128.92 1388.45 Q2128.92 1386.71 2127.74 1385.78 Q2126.59 1384.86 2122.63 1384 L2121.15 1383.65 Q2117.19 1382.82 2115.43 1381.11 Q2113.67 1379.37 2113.67 1376.36 Q2113.67 1372.71 2116.26 1370.71 Q2118.85 1368.72 2123.62 1368.72 Q2125.98 1368.72 2128.07 1369.07 Q2130.15 1369.42 2131.91 1370.11 Z\" fill=\"#000000\" fill-rule=\"evenodd\" fill-opacity=\"1\" /><path clip-path=\"url(#clip160)\" d=\"M 0 0 M2156.61 1370.11 L2156.61 1374.14 Q2154.8 1373.21 2152.86 1372.75 Q2150.91 1372.29 2148.83 1372.29 Q2145.66 1372.29 2144.06 1373.26 Q2142.49 1374.23 2142.49 1376.18 Q2142.49 1377.66 2143.62 1378.52 Q2144.76 1379.35 2148.18 1380.11 L2149.64 1380.44 Q2154.18 1381.41 2156.08 1383.19 Q2158 1384.95 2158 1388.12 Q2158 1391.73 2155.13 1393.84 Q2152.28 1395.95 2147.28 1395.95 Q2145.2 1395.95 2142.93 1395.53 Q2140.68 1395.14 2138.18 1394.33 L2138.18 1389.93 Q2140.54 1391.15 2142.84 1391.78 Q2145.13 1392.38 2147.37 1392.38 Q2150.38 1392.38 2152 1391.36 Q2153.62 1390.32 2153.62 1388.45 Q2153.62 1386.71 2152.44 1385.78 Q2151.29 1384.86 2147.33 1384 L2145.85 1383.65 Q2141.89 1382.82 2140.13 1381.11 Q2138.37 1379.37 2138.37 1376.36 Q2138.37 1372.71 2140.96 1370.71 Q2143.55 1368.72 2148.32 1368.72 Q2150.68 1368.72 2152.77 1369.07 Q2154.85 1369.42 2156.61 1370.11 Z\" fill=\"#000000\" fill-rule=\"evenodd\" fill-opacity=\"1\" /><path clip-path=\"url(#clip160)\" d=\"M 0 0 M2186.96 1381.25 L2186.96 1383.33 L2167.37 1383.33 Q2167.65 1387.73 2170.01 1390.04 Q2172.4 1392.33 2176.63 1392.33 Q2179.09 1392.33 2181.38 1391.73 Q2183.69 1391.13 2185.96 1389.93 L2185.96 1393.95 Q2183.67 1394.93 2181.26 1395.44 Q2178.85 1395.95 2176.38 1395.95 Q2170.17 1395.95 2166.54 1392.33 Q2162.93 1388.72 2162.93 1382.57 Q2162.93 1376.2 2166.35 1372.47 Q2169.8 1368.72 2175.64 1368.72 Q2180.87 1368.72 2183.9 1372.1 Q2186.96 1375.46 2186.96 1381.25 M2182.7 1380 Q2182.65 1376.5 2180.73 1374.42 Q2178.83 1372.33 2175.68 1372.33 Q2172.12 1372.33 2169.97 1374.35 Q2167.84 1376.36 2167.51 1380.02 L2182.7 1380 Z\" fill=\"#000000\" fill-rule=\"evenodd\" fill-opacity=\"1\" /><path clip-path=\"url(#clip160)\" d=\"M 0 0 M2213.65 1391.34 L2229.97 1391.34 L2229.97 1395.27 L2208.02 1395.27 L2208.02 1391.34 Q2210.68 1388.58 2215.27 1383.96 Q2219.87 1379.3 2221.05 1377.96 Q2223.3 1375.44 2224.18 1373.7 Q2225.08 1371.94 2225.08 1370.25 Q2225.08 1367.5 2223.14 1365.76 Q2221.22 1364.02 2218.11 1364.02 Q2215.91 1364.02 2213.46 1364.79 Q2211.03 1365.55 2208.25 1367.1 L2208.25 1362.38 Q2211.08 1361.25 2213.53 1360.67 Q2215.98 1360.09 2218.02 1360.09 Q2223.39 1360.09 2226.59 1362.77 Q2229.78 1365.46 2229.78 1369.95 Q2229.78 1372.08 2228.97 1374 Q2228.18 1375.9 2226.08 1378.49 Q2225.5 1379.16 2222.4 1382.38 Q2219.29 1385.58 2213.65 1391.34 Z\" fill=\"#000000\" fill-rule=\"evenodd\" fill-opacity=\"1\" /></svg>\n"
      ]
     },
     "execution_count": 2,
     "metadata": {},
     "output_type": "execute_result"
    }
   ],
   "source": [
    "#Exibir os pontos...\n",
    "\n",
    "using Plots\n",
    "scatter2d(X::AbstractMatrix; kwargs...) = scatter(X[1, :], X[2, :]; kwargs...)\n",
    "scatter2d!(X::AbstractMatrix; kwargs...) = scatter!(X[1, :], X[2, :]; kwargs...)\n",
    "\n",
    "scatter2d(X1; color=\"red\", label=\"Classe 1\", aspectratio=:1.0)\n",
    "scatter2d!(X2; color=\"blue\", label=\"Classe 2\", legend=:bottomright)\n",
    "\n",
    "# Perceber que os dados NÃO SÃO LINEARMENTE SEPARÁVEIS"
   ]
  },
  {
   "cell_type": "markdown",
   "metadata": {},
   "source": [
    "## Segundo bloco: estrutura da rede neural"
   ]
  },
  {
   "cell_type": "code",
   "execution_count": 3,
   "metadata": {},
   "outputs": [
    {
     "data": {
      "text/plain": [
       "predict (generic function with 1 method)"
      ]
     },
     "execution_count": 3,
     "metadata": {},
     "output_type": "execute_result"
    }
   ],
   "source": [
    "linear(x) = x\n",
    "d_linear(x) = 1.0\n",
    "\n",
    "sigmoid(x) = 1 / (1 + exp(-x))\n",
    "d_sigmoid(x) = sigmoid(x) * (1 - sigmoid(x))\n",
    "\n",
    "#tanh(x) o julia ja sabe\n",
    "d_tanh(x) = 1 - tanh(x)^2\n",
    "\n",
    "function predict(x, w, b, f_a) \n",
    "    return sum(f_a.(w * x .+ b); dims=1)\n",
    "end"
   ]
  },
  {
   "cell_type": "code",
   "execution_count": 4,
   "metadata": {},
   "outputs": [
    {
     "data": {
      "text/plain": [
       "computar_gradiente (generic function with 1 method)"
      ]
     },
     "execution_count": 4,
     "metadata": {},
     "output_type": "execute_result"
    }
   ],
   "source": [
    "function computar_gradiente(X, Y, W, B, f_a, df_a)\n",
    "    \n",
    "    N_neurons, N_inputs = size(W) # como W é uma matriz, size(W) retorna (N_linhas, N_colunas))\n",
    "    N_amostras = size(X,2) # como X é uma matriz, size(X, 2) retorna N_colunas)\n",
    "    \n",
    "    dW = zeros(N_neurons, N_inputs)\n",
    "    dB = zeros(N_neurons)\n",
    "    loss = 0.0\n",
    "\n",
    "    for amostra in 1:N_amostras # para cada amostra\n",
    "        \n",
    "        erro = sum(f_a.(W * X[:, amostra] .+ B)) - Y[amostra] # o erro é a diferença entre o valor real e o valor obtido\n",
    "                \n",
    "        for neuron in 1:N_neurons # para cada neuron\n",
    "            \n",
    "            for input in 1:N_inputs # para cada input\n",
    "                \n",
    "                @views dW[neuron, input] += (2/N_amostras) * erro * df_a(W[neuron, :]' * X[:,amostra] + B[neuron]) * X[input,amostra]\n",
    "                \n",
    "            end # para cada input\n",
    "            \n",
    "            @views dB[neuron] += (2/N_amostras) * erro * df_a(W[neuron, :]' * X[:,amostra] + B[neuron])\n",
    "            \n",
    "        end # para cada neuron\n",
    "        \n",
    "        loss += 1/N_amostras * erro^2\n",
    "        \n",
    "    end #para cada amostra\n",
    "    \n",
    "    #println(dW)\n",
    "    #println(dB)\n",
    "    \n",
    "    return dW, dB, loss\n",
    "    \n",
    "end"
   ]
  },
  {
   "cell_type": "code",
   "execution_count": 5,
   "metadata": {
    "scrolled": false
   },
   "outputs": [
    {
     "data": {
      "text/plain": [
       "treinar_rede_neural_0_comgrafico! (generic function with 1 method)"
      ]
     },
     "execution_count": 5,
     "metadata": {},
     "output_type": "execute_result"
    }
   ],
   "source": [
    "using Statistics: mean\n",
    "using Plots\n",
    "\n",
    "function treinar_rede_neural_0_comgrafico!(X, Y, w, b, f_a, df_a, mu, n_iters, grad_loss)\n",
    "\n",
    "    loss = zeros(n_iters)\n",
    "    acc = zeros(n_iters)\n",
    "    \n",
    "    for iteration in 1:n_iters\n",
    "        \n",
    "        Y_Predictions = predict(X, w, b, f_a)\n",
    "        acc[iteration] = accuracy(w, b, X, Y, f_a)\n",
    "        \n",
    "        dW, dB, loss[iteration] = grad_loss(X, Y, w, b, f_a, df_a)\n",
    "        \n",
    "        w -= mu * dW\n",
    "        b -= mu * dB\n",
    "        \n",
    "        loss_i = round(loss[iteration]; digits = 6)\n",
    "        acc_i = round(acc[iteration]; digits = 6)\n",
    "        \n",
    "        # para plotar a \"loss\" ao longo das iterações...\n",
    "        IJulia.clear_output(true)\n",
    "        loss_plot = scatter(\n",
    "            [1:10:iteration], loss[1:10:iteration];\n",
    "            yscale=:log10,\n",
    "            xlabel=\"iteration\",\n",
    "            ylabel=\"training loss\",\n",
    "            title=\"iteration $iteration, loss = $loss_i, accuracy = $acc_i\"\n",
    "            )\n",
    "        display(loss_plot)\n",
    "        \n",
    "    end\n",
    "    \n",
    "    return(w, b, loss)\n",
    "end"
   ]
  },
  {
   "cell_type": "code",
   "execution_count": 6,
   "metadata": {},
   "outputs": [
    {
     "data": {
      "text/plain": [
       "1×200 Matrix{Int64}:\n",
       " 0  0  0  0  0  0  0  0  0  0  0  0  0  …  1  1  1  1  1  1  1  1  1  1  1  1"
      ]
     },
     "execution_count": 6,
     "metadata": {},
     "output_type": "execute_result"
    }
   ],
   "source": [
    "X = hcat(X1, X2)\n",
    "\n",
    "function criar_Y_sigmoid(X, X1)\n",
    "    Y = Matrix{Int}(undef, 1, size(X, 2))\n",
    "    for i in 1:size(X, 2)\n",
    "        for j in 1:size(X1, 2)\n",
    "            if X[i] == X1[j]\n",
    "                Y[i] = 0\n",
    "            end\n",
    "        end\n",
    "        if Y[i] != 0\n",
    "            Y[i] = 1\n",
    "        end\n",
    "    end\n",
    "    return Y\n",
    "end\n",
    "Y = criar_Y_sigmoid(X, X1)"
   ]
  },
  {
   "cell_type": "code",
   "execution_count": 16,
   "metadata": {},
   "outputs": [
    {
     "data": {
      "text/plain": [
       "4-element Vector{Float64}:\n",
       " 0.23204905549712973\n",
       " 0.6316363164156888\n",
       " 0.1374604301001101\n",
       " 0.46785291136435947"
      ]
     },
     "execution_count": 16,
     "metadata": {},
     "output_type": "execute_result"
    }
   ],
   "source": [
    "w = rand(4,2)\n",
    "b = rand(4)"
   ]
  },
  {
   "cell_type": "code",
   "execution_count": 8,
   "metadata": {},
   "outputs": [
    {
     "data": {
      "text/plain": [
       "1000"
      ]
     },
     "execution_count": 8,
     "metadata": {},
     "output_type": "execute_result"
    }
   ],
   "source": [
    "mu = 0.1\n",
    "n_iters = 1000"
   ]
  },
  {
   "cell_type": "code",
   "execution_count": 9,
   "metadata": {},
   "outputs": [
    {
     "data": {
      "text/plain": [
       "accuracy (generic function with 1 method)"
      ]
     },
     "execution_count": 9,
     "metadata": {},
     "output_type": "execute_result"
    }
   ],
   "source": [
    "function accuracy(w, b, X, Y, f_a)\n",
    "    Y_Predictions = predict(X, w, b, f_a)\n",
    "    acc = mean([ el > 0.5 ? 1 : 0 for el in Y_Predictions ] .== Y)\n",
    "    return(acc)\n",
    "end"
   ]
  },
  {
   "cell_type": "code",
   "execution_count": 17,
   "metadata": {},
   "outputs": [
    {
     "data": {
      "image/svg+xml": [
       "<?xml version=\"1.0\" encoding=\"utf-8\"?>\n",
       "<svg xmlns=\"http://www.w3.org/2000/svg\" xmlns:xlink=\"http://www.w3.org/1999/xlink\" width=\"600\" height=\"400\" viewBox=\"0 0 2400 1600\">\n",
       "<defs>\n",
       "  <clipPath id=\"clip040\">\n",
       "    <rect x=\"0\" y=\"0\" width=\"2400\" height=\"1600\"/>\n",
       "  </clipPath>\n",
       "</defs>\n",
       "<path clip-path=\"url(#clip040)\" d=\"\n",
       "M0 1600 L2400 1600 L2400 0 L0 0  Z\n",
       "  \" fill=\"#ffffff\" fill-rule=\"evenodd\" fill-opacity=\"1\"/>\n",
       "<defs>\n",
       "  <clipPath id=\"clip041\">\n",
       "    <rect x=\"480\" y=\"0\" width=\"1681\" height=\"1600\"/>\n",
       "  </clipPath>\n",
       "</defs>\n",
       "<path clip-path=\"url(#clip040)\" d=\"\n",
       "M289.119 1423.18 L2352.76 1423.18 L2352.76 123.472 L289.119 123.472  Z\n",
       "  \" fill=\"#ffffff\" fill-rule=\"evenodd\" fill-opacity=\"1\"/>\n",
       "<defs>\n",
       "  <clipPath id=\"clip042\">\n",
       "    <rect x=\"289\" y=\"123\" width=\"2065\" height=\"1301\"/>\n",
       "  </clipPath>\n",
       "</defs>\n",
       "<polyline clip-path=\"url(#clip042)\" style=\"stroke:#000000; stroke-width:2; stroke-opacity:0.1; fill:none\" points=\"\n",
       "  344.109,1423.18 344.109,123.472 \n",
       "  \"/>\n",
       "<polyline clip-path=\"url(#clip042)\" style=\"stroke:#000000; stroke-width:2; stroke-opacity:0.1; fill:none\" points=\"\n",
       "  685.657,1423.18 685.657,123.472 \n",
       "  \"/>\n",
       "<polyline clip-path=\"url(#clip042)\" style=\"stroke:#000000; stroke-width:2; stroke-opacity:0.1; fill:none\" points=\"\n",
       "  1027.21,1423.18 1027.21,123.472 \n",
       "  \"/>\n",
       "<polyline clip-path=\"url(#clip042)\" style=\"stroke:#000000; stroke-width:2; stroke-opacity:0.1; fill:none\" points=\"\n",
       "  1368.75,1423.18 1368.75,123.472 \n",
       "  \"/>\n",
       "<polyline clip-path=\"url(#clip042)\" style=\"stroke:#000000; stroke-width:2; stroke-opacity:0.1; fill:none\" points=\"\n",
       "  1710.3,1423.18 1710.3,123.472 \n",
       "  \"/>\n",
       "<polyline clip-path=\"url(#clip042)\" style=\"stroke:#000000; stroke-width:2; stroke-opacity:0.1; fill:none\" points=\"\n",
       "  2051.85,1423.18 2051.85,123.472 \n",
       "  \"/>\n",
       "<polyline clip-path=\"url(#clip040)\" style=\"stroke:#000000; stroke-width:4; stroke-opacity:1; fill:none\" points=\"\n",
       "  289.119,1423.18 2352.76,1423.18 \n",
       "  \"/>\n",
       "<polyline clip-path=\"url(#clip040)\" style=\"stroke:#000000; stroke-width:4; stroke-opacity:1; fill:none\" points=\"\n",
       "  344.109,1423.18 344.109,1407.58 \n",
       "  \"/>\n",
       "<polyline clip-path=\"url(#clip040)\" style=\"stroke:#000000; stroke-width:4; stroke-opacity:1; fill:none\" points=\"\n",
       "  685.657,1423.18 685.657,1407.58 \n",
       "  \"/>\n",
       "<polyline clip-path=\"url(#clip040)\" style=\"stroke:#000000; stroke-width:4; stroke-opacity:1; fill:none\" points=\"\n",
       "  1027.21,1423.18 1027.21,1407.58 \n",
       "  \"/>\n",
       "<polyline clip-path=\"url(#clip040)\" style=\"stroke:#000000; stroke-width:4; stroke-opacity:1; fill:none\" points=\"\n",
       "  1368.75,1423.18 1368.75,1407.58 \n",
       "  \"/>\n",
       "<polyline clip-path=\"url(#clip040)\" style=\"stroke:#000000; stroke-width:4; stroke-opacity:1; fill:none\" points=\"\n",
       "  1710.3,1423.18 1710.3,1407.58 \n",
       "  \"/>\n",
       "<polyline clip-path=\"url(#clip040)\" style=\"stroke:#000000; stroke-width:4; stroke-opacity:1; fill:none\" points=\"\n",
       "  2051.85,1423.18 2051.85,1407.58 \n",
       "  \"/>\n",
       "<path clip-path=\"url(#clip040)\" d=\"M 0 0 M344.109 1452.37 Q340.498 1452.37 338.669 1455.94 Q336.863 1459.48 336.863 1466.61 Q336.863 1473.71 338.669 1477.28 Q340.498 1480.82 344.109 1480.82 Q347.743 1480.82 349.548 1477.28 Q351.377 1473.71 351.377 1466.61 Q351.377 1459.48 349.548 1455.94 Q347.743 1452.37 344.109 1452.37 M344.109 1448.67 Q349.919 1448.67 352.974 1453.27 Q356.053 1457.86 356.053 1466.61 Q356.053 1475.33 352.974 1479.94 Q349.919 1484.52 344.109 1484.52 Q338.299 1484.52 335.22 1479.94 Q332.164 1475.33 332.164 1466.61 Q332.164 1457.86 335.22 1453.27 Q338.299 1448.67 344.109 1448.67 Z\" fill=\"#000000\" fill-rule=\"evenodd\" fill-opacity=\"1\" /><path clip-path=\"url(#clip040)\" d=\"M 0 0 M645.264 1479.92 L652.903 1479.92 L652.903 1453.55 L644.593 1455.22 L644.593 1450.96 L652.857 1449.29 L657.532 1449.29 L657.532 1479.92 L665.171 1479.92 L665.171 1483.85 L645.264 1483.85 L645.264 1479.92 Z\" fill=\"#000000\" fill-rule=\"evenodd\" fill-opacity=\"1\" /><path clip-path=\"url(#clip040)\" d=\"M 0 0 M684.616 1452.37 Q681.005 1452.37 679.176 1455.94 Q677.37 1459.48 677.37 1466.61 Q677.37 1473.71 679.176 1477.28 Q681.005 1480.82 684.616 1480.82 Q688.25 1480.82 690.055 1477.28 Q691.884 1473.71 691.884 1466.61 Q691.884 1459.48 690.055 1455.94 Q688.25 1452.37 684.616 1452.37 M684.616 1448.67 Q690.426 1448.67 693.481 1453.27 Q696.56 1457.86 696.56 1466.61 Q696.56 1475.33 693.481 1479.94 Q690.426 1484.52 684.616 1484.52 Q678.805 1484.52 675.727 1479.94 Q672.671 1475.33 672.671 1466.61 Q672.671 1457.86 675.727 1453.27 Q678.805 1448.67 684.616 1448.67 Z\" fill=\"#000000\" fill-rule=\"evenodd\" fill-opacity=\"1\" /><path clip-path=\"url(#clip040)\" d=\"M 0 0 M714.777 1452.37 Q711.166 1452.37 709.338 1455.94 Q707.532 1459.48 707.532 1466.61 Q707.532 1473.71 709.338 1477.28 Q711.166 1480.82 714.777 1480.82 Q718.412 1480.82 720.217 1477.28 Q722.046 1473.71 722.046 1466.61 Q722.046 1459.48 720.217 1455.94 Q718.412 1452.37 714.777 1452.37 M714.777 1448.67 Q720.588 1448.67 723.643 1453.27 Q726.722 1457.86 726.722 1466.61 Q726.722 1475.33 723.643 1479.94 Q720.588 1484.52 714.777 1484.52 Q708.967 1484.52 705.889 1479.94 Q702.833 1475.33 702.833 1466.61 Q702.833 1457.86 705.889 1453.27 Q708.967 1448.67 714.777 1448.67 Z\" fill=\"#000000\" fill-rule=\"evenodd\" fill-opacity=\"1\" /><path clip-path=\"url(#clip040)\" d=\"M 0 0 M990.898 1479.92 L1007.22 1479.92 L1007.22 1483.85 L985.273 1483.85 L985.273 1479.92 Q987.935 1477.16 992.519 1472.53 Q997.125 1467.88 998.306 1466.54 Q1000.55 1464.01 1001.43 1462.28 Q1002.33 1460.52 1002.33 1458.83 Q1002.33 1456.07 1000.39 1454.34 Q998.468 1452.6 995.366 1452.6 Q993.167 1452.6 990.713 1453.37 Q988.282 1454.13 985.505 1455.68 L985.505 1450.96 Q988.329 1449.82 990.782 1449.25 Q993.236 1448.67 995.273 1448.67 Q1000.64 1448.67 1003.84 1451.35 Q1007.03 1454.04 1007.03 1458.53 Q1007.03 1460.66 1006.22 1462.58 Q1005.44 1464.48 1003.33 1467.07 Q1002.75 1467.74 999.648 1470.96 Q996.546 1474.15 990.898 1479.92 Z\" fill=\"#000000\" fill-rule=\"evenodd\" fill-opacity=\"1\" /><path clip-path=\"url(#clip040)\" d=\"M 0 0 M1027.03 1452.37 Q1023.42 1452.37 1021.59 1455.94 Q1019.79 1459.48 1019.79 1466.61 Q1019.79 1473.71 1021.59 1477.28 Q1023.42 1480.82 1027.03 1480.82 Q1030.67 1480.82 1032.47 1477.28 Q1034.3 1473.71 1034.3 1466.61 Q1034.3 1459.48 1032.47 1455.94 Q1030.67 1452.37 1027.03 1452.37 M1027.03 1448.67 Q1032.84 1448.67 1035.9 1453.27 Q1038.98 1457.86 1038.98 1466.61 Q1038.98 1475.33 1035.9 1479.94 Q1032.84 1484.52 1027.03 1484.52 Q1021.22 1484.52 1018.14 1479.94 Q1015.09 1475.33 1015.09 1466.61 Q1015.09 1457.86 1018.14 1453.27 Q1021.22 1448.67 1027.03 1448.67 Z\" fill=\"#000000\" fill-rule=\"evenodd\" fill-opacity=\"1\" /><path clip-path=\"url(#clip040)\" d=\"M 0 0 M1057.19 1452.37 Q1053.58 1452.37 1051.75 1455.94 Q1049.95 1459.48 1049.95 1466.61 Q1049.95 1473.71 1051.75 1477.28 Q1053.58 1480.82 1057.19 1480.82 Q1060.83 1480.82 1062.63 1477.28 Q1064.46 1473.71 1064.46 1466.61 Q1064.46 1459.48 1062.63 1455.94 Q1060.83 1452.37 1057.19 1452.37 M1057.19 1448.67 Q1063 1448.67 1066.06 1453.27 Q1069.14 1457.86 1069.14 1466.61 Q1069.14 1475.33 1066.06 1479.94 Q1063 1484.52 1057.19 1484.52 Q1051.38 1484.52 1048.31 1479.94 Q1045.25 1475.33 1045.25 1466.61 Q1045.25 1457.86 1048.31 1453.27 Q1051.38 1448.67 1057.19 1448.67 Z\" fill=\"#000000\" fill-rule=\"evenodd\" fill-opacity=\"1\" /><path clip-path=\"url(#clip040)\" d=\"M 0 0 M1342.52 1465.22 Q1345.87 1465.94 1347.75 1468.2 Q1349.65 1470.47 1349.65 1473.81 Q1349.65 1478.92 1346.13 1481.72 Q1342.61 1484.52 1336.13 1484.52 Q1333.95 1484.52 1331.64 1484.08 Q1329.34 1483.67 1326.89 1482.81 L1326.89 1478.3 Q1328.84 1479.43 1331.15 1480.01 Q1333.47 1480.59 1335.99 1480.59 Q1340.39 1480.59 1342.68 1478.85 Q1344.99 1477.12 1344.99 1473.81 Q1344.99 1470.75 1342.84 1469.04 Q1340.71 1467.3 1336.89 1467.3 L1332.86 1467.3 L1332.86 1463.46 L1337.08 1463.46 Q1340.53 1463.46 1342.35 1462.09 Q1344.18 1460.7 1344.18 1458.11 Q1344.18 1455.45 1342.28 1454.04 Q1340.41 1452.6 1336.89 1452.6 Q1334.97 1452.6 1332.77 1453.02 Q1330.57 1453.44 1327.93 1454.31 L1327.93 1450.15 Q1330.59 1449.41 1332.91 1449.04 Q1335.25 1448.67 1337.31 1448.67 Q1342.63 1448.67 1345.73 1451.1 Q1348.84 1453.5 1348.84 1457.63 Q1348.84 1460.5 1347.19 1462.49 Q1345.55 1464.45 1342.52 1465.22 Z\" fill=\"#000000\" fill-rule=\"evenodd\" fill-opacity=\"1\" /><path clip-path=\"url(#clip040)\" d=\"M 0 0 M1368.51 1452.37 Q1364.9 1452.37 1363.07 1455.94 Q1361.27 1459.48 1361.27 1466.61 Q1361.27 1473.71 1363.07 1477.28 Q1364.9 1480.82 1368.51 1480.82 Q1372.15 1480.82 1373.95 1477.28 Q1375.78 1473.71 1375.78 1466.61 Q1375.78 1459.48 1373.95 1455.94 Q1372.15 1452.37 1368.51 1452.37 M1368.51 1448.67 Q1374.32 1448.67 1377.38 1453.27 Q1380.46 1457.86 1380.46 1466.61 Q1380.46 1475.33 1377.38 1479.94 Q1374.32 1484.52 1368.51 1484.52 Q1362.7 1484.52 1359.62 1479.94 Q1356.57 1475.33 1356.57 1466.61 Q1356.57 1457.86 1359.62 1453.27 Q1362.7 1448.67 1368.51 1448.67 Z\" fill=\"#000000\" fill-rule=\"evenodd\" fill-opacity=\"1\" /><path clip-path=\"url(#clip040)\" d=\"M 0 0 M1398.67 1452.37 Q1395.06 1452.37 1393.23 1455.94 Q1391.43 1459.48 1391.43 1466.61 Q1391.43 1473.71 1393.23 1477.28 Q1395.06 1480.82 1398.67 1480.82 Q1402.31 1480.82 1404.11 1477.28 Q1405.94 1473.71 1405.94 1466.61 Q1405.94 1459.48 1404.11 1455.94 Q1402.31 1452.37 1398.67 1452.37 M1398.67 1448.67 Q1404.48 1448.67 1407.54 1453.27 Q1410.62 1457.86 1410.62 1466.61 Q1410.62 1475.33 1407.54 1479.94 Q1404.48 1484.52 1398.67 1484.52 Q1392.86 1484.52 1389.78 1479.94 Q1386.73 1475.33 1386.73 1466.61 Q1386.73 1457.86 1389.78 1453.27 Q1392.86 1448.67 1398.67 1448.67 Z\" fill=\"#000000\" fill-rule=\"evenodd\" fill-opacity=\"1\" /><path clip-path=\"url(#clip040)\" d=\"M 0 0 M1683.39 1453.37 L1671.59 1471.81 L1683.39 1471.81 L1683.39 1453.37 M1682.17 1449.29 L1688.05 1449.29 L1688.05 1471.81 L1692.98 1471.81 L1692.98 1475.7 L1688.05 1475.7 L1688.05 1483.85 L1683.39 1483.85 L1683.39 1475.7 L1667.79 1475.7 L1667.79 1471.19 L1682.17 1449.29 Z\" fill=\"#000000\" fill-rule=\"evenodd\" fill-opacity=\"1\" /><path clip-path=\"url(#clip040)\" d=\"M 0 0 M1710.71 1452.37 Q1707.1 1452.37 1705.27 1455.94 Q1703.46 1459.48 1703.46 1466.61 Q1703.46 1473.71 1705.27 1477.28 Q1707.1 1480.82 1710.71 1480.82 Q1714.34 1480.82 1716.15 1477.28 Q1717.98 1473.71 1717.98 1466.61 Q1717.98 1459.48 1716.15 1455.94 Q1714.34 1452.37 1710.71 1452.37 M1710.71 1448.67 Q1716.52 1448.67 1719.57 1453.27 Q1722.65 1457.86 1722.65 1466.61 Q1722.65 1475.33 1719.57 1479.94 Q1716.52 1484.52 1710.71 1484.52 Q1704.9 1484.52 1701.82 1479.94 Q1698.76 1475.33 1698.76 1466.61 Q1698.76 1457.86 1701.82 1453.27 Q1704.9 1448.67 1710.71 1448.67 Z\" fill=\"#000000\" fill-rule=\"evenodd\" fill-opacity=\"1\" /><path clip-path=\"url(#clip040)\" d=\"M 0 0 M1740.87 1452.37 Q1737.26 1452.37 1735.43 1455.94 Q1733.62 1459.48 1733.62 1466.61 Q1733.62 1473.71 1735.43 1477.28 Q1737.26 1480.82 1740.87 1480.82 Q1744.5 1480.82 1746.31 1477.28 Q1748.14 1473.71 1748.14 1466.61 Q1748.14 1459.48 1746.31 1455.94 Q1744.5 1452.37 1740.87 1452.37 M1740.87 1448.67 Q1746.68 1448.67 1749.74 1453.27 Q1752.81 1457.86 1752.81 1466.61 Q1752.81 1475.33 1749.74 1479.94 Q1746.68 1484.52 1740.87 1484.52 Q1735.06 1484.52 1731.98 1479.94 Q1728.93 1475.33 1728.93 1466.61 Q1728.93 1457.86 1731.98 1453.27 Q1735.06 1448.67 1740.87 1448.67 Z\" fill=\"#000000\" fill-rule=\"evenodd\" fill-opacity=\"1\" /><path clip-path=\"url(#clip040)\" d=\"M 0 0 M2011.47 1449.29 L2029.83 1449.29 L2029.83 1453.23 L2015.75 1453.23 L2015.75 1461.7 Q2016.77 1461.35 2017.79 1461.19 Q2018.81 1461 2019.83 1461 Q2025.61 1461 2028.99 1464.18 Q2032.37 1467.35 2032.37 1472.76 Q2032.37 1478.34 2028.9 1481.44 Q2025.43 1484.52 2019.11 1484.52 Q2016.93 1484.52 2014.66 1484.15 Q2012.42 1483.78 2010.01 1483.04 L2010.01 1478.34 Q2012.09 1479.48 2014.32 1480.03 Q2016.54 1480.59 2019.02 1480.59 Q2023.02 1480.59 2025.36 1478.48 Q2027.7 1476.38 2027.7 1472.76 Q2027.7 1469.15 2025.36 1467.05 Q2023.02 1464.94 2019.02 1464.94 Q2017.14 1464.94 2015.27 1465.36 Q2013.41 1465.77 2011.47 1466.65 L2011.47 1449.29 Z\" fill=\"#000000\" fill-rule=\"evenodd\" fill-opacity=\"1\" /><path clip-path=\"url(#clip040)\" d=\"M 0 0 M2051.59 1452.37 Q2047.97 1452.37 2046.15 1455.94 Q2044.34 1459.48 2044.34 1466.61 Q2044.34 1473.71 2046.15 1477.28 Q2047.97 1480.82 2051.59 1480.82 Q2055.22 1480.82 2057.03 1477.28 Q2058.85 1473.71 2058.85 1466.61 Q2058.85 1459.48 2057.03 1455.94 Q2055.22 1452.37 2051.59 1452.37 M2051.59 1448.67 Q2057.4 1448.67 2060.45 1453.27 Q2063.53 1457.86 2063.53 1466.61 Q2063.53 1475.33 2060.45 1479.94 Q2057.4 1484.52 2051.59 1484.52 Q2045.78 1484.52 2042.7 1479.94 Q2039.64 1475.33 2039.64 1466.61 Q2039.64 1457.86 2042.7 1453.27 Q2045.78 1448.67 2051.59 1448.67 Z\" fill=\"#000000\" fill-rule=\"evenodd\" fill-opacity=\"1\" /><path clip-path=\"url(#clip040)\" d=\"M 0 0 M2081.75 1452.37 Q2078.14 1452.37 2076.31 1455.94 Q2074.5 1459.48 2074.5 1466.61 Q2074.5 1473.71 2076.31 1477.28 Q2078.14 1480.82 2081.75 1480.82 Q2085.38 1480.82 2087.19 1477.28 Q2089.02 1473.71 2089.02 1466.61 Q2089.02 1459.48 2087.19 1455.94 Q2085.38 1452.37 2081.75 1452.37 M2081.75 1448.67 Q2087.56 1448.67 2090.61 1453.27 Q2093.69 1457.86 2093.69 1466.61 Q2093.69 1475.33 2090.61 1479.94 Q2087.56 1484.52 2081.75 1484.52 Q2075.94 1484.52 2072.86 1479.94 Q2069.8 1475.33 2069.8 1466.61 Q2069.8 1457.86 2072.86 1453.27 Q2075.94 1448.67 2081.75 1448.67 Z\" fill=\"#000000\" fill-rule=\"evenodd\" fill-opacity=\"1\" /><path clip-path=\"url(#clip040)\" d=\"M 0 0 M1189.09 1532.4 L1194.94 1532.4 L1194.94 1568.04 L1189.09 1568.04 L1189.09 1532.4 M1189.09 1518.52 L1194.94 1518.52 L1194.94 1525.93 L1189.09 1525.93 L1189.09 1518.52 Z\" fill=\"#000000\" fill-rule=\"evenodd\" fill-opacity=\"1\" /><path clip-path=\"url(#clip040)\" d=\"M 0 0 M1212.99 1522.27 L1212.99 1532.4 L1225.05 1532.4 L1225.05 1536.95 L1212.99 1536.95 L1212.99 1556.3 Q1212.99 1560.66 1214.17 1561.9 Q1215.38 1563.14 1219.04 1563.14 L1225.05 1563.14 L1225.05 1568.04 L1219.04 1568.04 Q1212.26 1568.04 1209.68 1565.53 Q1207.1 1562.98 1207.1 1556.3 L1207.1 1536.95 L1202.81 1536.95 L1202.81 1532.4 L1207.1 1532.4 L1207.1 1522.27 L1212.99 1522.27 Z\" fill=\"#000000\" fill-rule=\"evenodd\" fill-opacity=\"1\" /><path clip-path=\"url(#clip040)\" d=\"M 0 0 M1263.25 1548.76 L1263.25 1551.62 L1236.32 1551.62 Q1236.7 1557.67 1239.95 1560.85 Q1243.23 1564 1249.05 1564 Q1252.43 1564 1255.58 1563.17 Q1258.76 1562.35 1261.88 1560.69 L1261.88 1566.23 Q1258.73 1567.57 1255.42 1568.27 Q1252.11 1568.97 1248.7 1568.97 Q1240.17 1568.97 1235.18 1564 Q1230.21 1559.04 1230.21 1550.57 Q1230.21 1541.82 1234.92 1536.69 Q1239.66 1531.54 1247.68 1531.54 Q1254.88 1531.54 1259.05 1536.18 Q1263.25 1540.8 1263.25 1548.76 M1257.39 1547.04 Q1257.33 1542.23 1254.69 1539.37 Q1252.08 1536.5 1247.75 1536.5 Q1242.85 1536.5 1239.89 1539.27 Q1236.96 1542.04 1236.51 1547.07 L1257.39 1547.04 Z\" fill=\"#000000\" fill-rule=\"evenodd\" fill-opacity=\"1\" /><path clip-path=\"url(#clip040)\" d=\"M 0 0 M1293.52 1537.87 Q1292.53 1537.3 1291.35 1537.04 Q1290.21 1536.76 1288.81 1536.76 Q1283.84 1536.76 1281.17 1540 Q1278.53 1543.22 1278.53 1549.27 L1278.53 1568.04 L1272.64 1568.04 L1272.64 1532.4 L1278.53 1532.4 L1278.53 1537.93 Q1280.37 1534.69 1283.33 1533.13 Q1286.29 1531.54 1290.53 1531.54 Q1291.13 1531.54 1291.86 1531.63 Q1292.59 1531.7 1293.49 1531.85 L1293.52 1537.87 Z\" fill=\"#000000\" fill-rule=\"evenodd\" fill-opacity=\"1\" /><path clip-path=\"url(#clip040)\" d=\"M 0 0 M1315.86 1550.12 Q1308.76 1550.12 1306.03 1551.75 Q1303.29 1553.37 1303.29 1557.29 Q1303.29 1560.4 1305.33 1562.25 Q1307.39 1564.07 1310.93 1564.07 Q1315.8 1564.07 1318.73 1560.63 Q1321.69 1557.16 1321.69 1551.43 L1321.69 1550.12 L1315.86 1550.12 M1327.54 1547.71 L1327.54 1568.04 L1321.69 1568.04 L1321.69 1562.63 Q1319.68 1565.88 1316.69 1567.44 Q1313.7 1568.97 1309.37 1568.97 Q1303.89 1568.97 1300.65 1565.91 Q1297.43 1562.82 1297.43 1557.67 Q1297.43 1551.65 1301.44 1548.6 Q1305.48 1545.54 1313.47 1545.54 L1321.69 1545.54 L1321.69 1544.97 Q1321.69 1540.93 1319.01 1538.73 Q1316.37 1536.5 1311.56 1536.5 Q1308.51 1536.5 1305.61 1537.23 Q1302.72 1537.97 1300.04 1539.43 L1300.04 1534.02 Q1303.26 1532.78 1306.28 1532.17 Q1309.3 1531.54 1312.17 1531.54 Q1319.9 1531.54 1323.72 1535.55 Q1327.54 1539.56 1327.54 1547.71 Z\" fill=\"#000000\" fill-rule=\"evenodd\" fill-opacity=\"1\" /><path clip-path=\"url(#clip040)\" d=\"M 0 0 M1345.4 1522.27 L1345.4 1532.4 L1357.46 1532.4 L1357.46 1536.95 L1345.4 1536.95 L1345.4 1556.3 Q1345.4 1560.66 1346.58 1561.9 Q1347.79 1563.14 1351.45 1563.14 L1357.46 1563.14 L1357.46 1568.04 L1351.45 1568.04 Q1344.67 1568.04 1342.09 1565.53 Q1339.51 1562.98 1339.51 1556.3 L1339.51 1536.95 L1335.21 1536.95 L1335.21 1532.4 L1339.51 1532.4 L1339.51 1522.27 L1345.4 1522.27 Z\" fill=\"#000000\" fill-rule=\"evenodd\" fill-opacity=\"1\" /><path clip-path=\"url(#clip040)\" d=\"M 0 0 M1365.16 1532.4 L1371.02 1532.4 L1371.02 1568.04 L1365.16 1568.04 L1365.16 1532.4 M1365.16 1518.52 L1371.02 1518.52 L1371.02 1525.93 L1365.16 1525.93 L1365.16 1518.52 Z\" fill=\"#000000\" fill-rule=\"evenodd\" fill-opacity=\"1\" /><path clip-path=\"url(#clip040)\" d=\"M 0 0 M1397.09 1536.5 Q1392.38 1536.5 1389.64 1540.19 Q1386.9 1543.85 1386.9 1550.25 Q1386.9 1556.65 1389.61 1560.34 Q1392.34 1564 1397.09 1564 Q1401.77 1564 1404.5 1560.31 Q1407.24 1556.62 1407.24 1550.25 Q1407.24 1543.92 1404.5 1540.23 Q1401.77 1536.5 1397.09 1536.5 M1397.09 1531.54 Q1404.73 1531.54 1409.09 1536.5 Q1413.45 1541.47 1413.45 1550.25 Q1413.45 1559 1409.09 1564 Q1404.73 1568.97 1397.09 1568.97 Q1389.42 1568.97 1385.06 1564 Q1380.73 1559 1380.73 1550.25 Q1380.73 1541.47 1385.06 1536.5 Q1389.42 1531.54 1397.09 1531.54 Z\" fill=\"#000000\" fill-rule=\"evenodd\" fill-opacity=\"1\" /><path clip-path=\"url(#clip040)\" d=\"M 0 0 M1452.79 1546.53 L1452.79 1568.04 L1446.93 1568.04 L1446.93 1546.72 Q1446.93 1541.66 1444.96 1539.14 Q1442.98 1536.63 1439.04 1536.63 Q1434.29 1536.63 1431.56 1539.65 Q1428.82 1542.68 1428.82 1547.9 L1428.82 1568.04 L1422.93 1568.04 L1422.93 1532.4 L1428.82 1532.4 L1428.82 1537.93 Q1430.92 1534.72 1433.75 1533.13 Q1436.62 1531.54 1440.34 1531.54 Q1446.49 1531.54 1449.64 1535.36 Q1452.79 1539.14 1452.79 1546.53 Z\" fill=\"#000000\" fill-rule=\"evenodd\" fill-opacity=\"1\" /><polyline clip-path=\"url(#clip042)\" style=\"stroke:#000000; stroke-width:2; stroke-opacity:0.1; fill:none\" points=\"\n",
       "  289.119,1368.72 2352.76,1368.72 \n",
       "  \"/>\n",
       "<polyline clip-path=\"url(#clip042)\" style=\"stroke:#000000; stroke-width:2; stroke-opacity:0.1; fill:none\" points=\"\n",
       "  289.119,1010.25 2352.76,1010.25 \n",
       "  \"/>\n",
       "<polyline clip-path=\"url(#clip042)\" style=\"stroke:#000000; stroke-width:2; stroke-opacity:0.1; fill:none\" points=\"\n",
       "  289.119,651.768 2352.76,651.768 \n",
       "  \"/>\n",
       "<polyline clip-path=\"url(#clip042)\" style=\"stroke:#000000; stroke-width:2; stroke-opacity:0.1; fill:none\" points=\"\n",
       "  289.119,293.29 2352.76,293.29 \n",
       "  \"/>\n",
       "<polyline clip-path=\"url(#clip040)\" style=\"stroke:#000000; stroke-width:4; stroke-opacity:1; fill:none\" points=\"\n",
       "  289.119,1423.18 289.119,123.472 \n",
       "  \"/>\n",
       "<polyline clip-path=\"url(#clip040)\" style=\"stroke:#000000; stroke-width:4; stroke-opacity:1; fill:none\" points=\"\n",
       "  289.119,1368.72 313.883,1368.72 \n",
       "  \"/>\n",
       "<polyline clip-path=\"url(#clip040)\" style=\"stroke:#000000; stroke-width:4; stroke-opacity:1; fill:none\" points=\"\n",
       "  289.119,1010.25 313.883,1010.25 \n",
       "  \"/>\n",
       "<polyline clip-path=\"url(#clip040)\" style=\"stroke:#000000; stroke-width:4; stroke-opacity:1; fill:none\" points=\"\n",
       "  289.119,651.768 313.883,651.768 \n",
       "  \"/>\n",
       "<polyline clip-path=\"url(#clip040)\" style=\"stroke:#000000; stroke-width:4; stroke-opacity:1; fill:none\" points=\"\n",
       "  289.119,293.29 313.883,293.29 \n",
       "  \"/>\n",
       "<path clip-path=\"url(#clip040)\" d=\"M 0 0 M114.931 1388.52 L122.57 1388.52 L122.57 1362.15 L114.26 1363.82 L114.26 1359.56 L122.524 1357.89 L127.2 1357.89 L127.2 1388.52 L134.839 1388.52 L134.839 1392.45 L114.931 1392.45 L114.931 1388.52 Z\" fill=\"#000000\" fill-rule=\"evenodd\" fill-opacity=\"1\" /><path clip-path=\"url(#clip040)\" d=\"M 0 0 M154.283 1360.97 Q150.672 1360.97 148.843 1364.53 Q147.038 1368.08 147.038 1375.21 Q147.038 1382.31 148.843 1385.88 Q150.672 1389.42 154.283 1389.42 Q157.917 1389.42 159.723 1385.88 Q161.552 1382.31 161.552 1375.21 Q161.552 1368.08 159.723 1364.53 Q157.917 1360.97 154.283 1360.97 M154.283 1357.27 Q160.093 1357.27 163.149 1361.87 Q166.227 1366.46 166.227 1375.21 Q166.227 1383.93 163.149 1388.54 Q160.093 1393.12 154.283 1393.12 Q148.473 1393.12 145.394 1388.54 Q142.339 1383.93 142.339 1375.21 Q142.339 1366.46 145.394 1361.87 Q148.473 1357.27 154.283 1357.27 Z\" fill=\"#000000\" fill-rule=\"evenodd\" fill-opacity=\"1\" /><path clip-path=\"url(#clip040)\" d=\"M 0 0 M166.227 1351.37 L190.339 1351.37 L190.339 1354.56 L166.227 1354.56 L166.227 1351.37 Z\" fill=\"#000000\" fill-rule=\"evenodd\" fill-opacity=\"1\" /><path clip-path=\"url(#clip040)\" d=\"M 0 0 M199.197 1361.84 L205.404 1361.84 L205.404 1340.42 L198.652 1341.78 L198.652 1338.31 L205.366 1336.96 L209.166 1336.96 L209.166 1361.84 L215.372 1361.84 L215.372 1365.04 L199.197 1365.04 L199.197 1361.84 Z\" fill=\"#000000\" fill-rule=\"evenodd\" fill-opacity=\"1\" /><path clip-path=\"url(#clip040)\" d=\"M 0 0 M223.046 1360.26 L227.014 1360.26 L227.014 1365.04 L223.046 1365.04 L223.046 1360.26 Z\" fill=\"#000000\" fill-rule=\"evenodd\" fill-opacity=\"1\" /><path clip-path=\"url(#clip040)\" d=\"M 0 0 M243.415 1339.46 Q240.481 1339.46 238.995 1342.36 Q237.528 1345.24 237.528 1351.03 Q237.528 1356.8 238.995 1359.7 Q240.481 1362.58 243.415 1362.58 Q246.367 1362.58 247.834 1359.7 Q249.32 1356.8 249.32 1351.03 Q249.32 1345.24 247.834 1342.36 Q246.367 1339.46 243.415 1339.46 M243.415 1336.45 Q248.135 1336.45 250.618 1340.2 Q253.119 1343.92 253.119 1351.03 Q253.119 1358.12 250.618 1361.86 Q248.135 1365.59 243.415 1365.59 Q238.694 1365.59 236.192 1361.86 Q233.71 1358.12 233.71 1351.03 Q233.71 1343.92 236.192 1340.2 Q238.694 1336.45 243.415 1336.45 Z\" fill=\"#000000\" fill-rule=\"evenodd\" fill-opacity=\"1\" /><path clip-path=\"url(#clip040)\" d=\"M 0 0 M115.74 1030.04 L123.379 1030.04 L123.379 1003.67 L115.069 1005.34 L115.069 1001.08 L123.333 999.414 L128.009 999.414 L128.009 1030.04 L135.647 1030.04 L135.647 1033.97 L115.74 1033.97 L115.74 1030.04 Z\" fill=\"#000000\" fill-rule=\"evenodd\" fill-opacity=\"1\" /><path clip-path=\"url(#clip040)\" d=\"M 0 0 M155.092 1002.49 Q151.481 1002.49 149.652 1006.06 Q147.846 1009.6 147.846 1016.73 Q147.846 1023.83 149.652 1027.4 Q151.481 1030.94 155.092 1030.94 Q158.726 1030.94 160.532 1027.4 Q162.36 1023.83 162.36 1016.73 Q162.36 1009.6 160.532 1006.06 Q158.726 1002.49 155.092 1002.49 M155.092 998.789 Q160.902 998.789 163.958 1003.39 Q167.036 1007.98 167.036 1016.73 Q167.036 1025.46 163.958 1030.06 Q160.902 1034.64 155.092 1034.64 Q149.282 1034.64 146.203 1030.06 Q143.147 1025.46 143.147 1016.73 Q143.147 1007.98 146.203 1003.39 Q149.282 998.789 155.092 998.789 Z\" fill=\"#000000\" fill-rule=\"evenodd\" fill-opacity=\"1\" /><path clip-path=\"url(#clip040)\" d=\"M 0 0 M167.036 992.89 L191.148 992.89 L191.148 996.087 L167.036 996.087 L167.036 992.89 Z\" fill=\"#000000\" fill-rule=\"evenodd\" fill-opacity=\"1\" /><path clip-path=\"url(#clip040)\" d=\"M 0 0 M207.473 980.985 Q204.539 980.985 203.053 983.881 Q201.586 986.759 201.586 992.551 Q201.586 998.325 203.053 1001.22 Q204.539 1004.1 207.473 1004.1 Q210.426 1004.1 211.893 1001.22 Q213.379 998.325 213.379 992.551 Q213.379 986.759 211.893 983.881 Q210.426 980.985 207.473 980.985 M207.473 977.975 Q212.194 977.975 214.676 981.718 Q217.178 985.442 217.178 992.551 Q217.178 999.642 214.676 1003.38 Q212.194 1007.11 207.473 1007.11 Q202.752 1007.11 200.251 1003.38 Q197.768 999.642 197.768 992.551 Q197.768 985.442 200.251 981.718 Q202.752 977.975 207.473 977.975 Z\" fill=\"#000000\" fill-rule=\"evenodd\" fill-opacity=\"1\" /><path clip-path=\"url(#clip040)\" d=\"M 0 0 M223.854 1001.79 L227.823 1001.79 L227.823 1006.56 L223.854 1006.56 L223.854 1001.79 Z\" fill=\"#000000\" fill-rule=\"evenodd\" fill-opacity=\"1\" /><path clip-path=\"url(#clip040)\" d=\"M 0 0 M236.136 978.483 L251.051 978.483 L251.051 981.68 L239.615 981.68 L239.615 988.564 Q240.443 988.282 241.27 988.15 Q242.098 988 242.926 988 Q247.627 988 250.373 990.577 Q253.119 993.153 253.119 997.554 Q253.119 1002.09 250.298 1004.61 Q247.477 1007.11 242.343 1007.11 Q240.575 1007.11 238.731 1006.81 Q236.907 1006.51 234.951 1005.9 L234.951 1002.09 Q236.644 1003.01 238.449 1003.46 Q240.255 1003.91 242.267 1003.91 Q245.521 1003.91 247.421 1002.2 Q249.32 1000.49 249.32 997.554 Q249.32 994.62 247.421 992.909 Q245.521 991.197 242.267 991.197 Q240.744 991.197 239.22 991.536 Q237.716 991.874 236.136 992.589 L236.136 978.483 Z\" fill=\"#000000\" fill-rule=\"evenodd\" fill-opacity=\"1\" /><path clip-path=\"url(#clip040)\" d=\"M 0 0 M145.663 671.561 L153.302 671.561 L153.302 645.195 L144.992 646.862 L144.992 642.602 L153.256 640.936 L157.932 640.936 L157.932 671.561 L165.571 671.561 L165.571 675.496 L145.663 675.496 L145.663 671.561 Z\" fill=\"#000000\" fill-rule=\"evenodd\" fill-opacity=\"1\" /><path clip-path=\"url(#clip040)\" d=\"M 0 0 M185.015 644.014 Q181.404 644.014 179.575 647.579 Q177.77 651.121 177.77 658.251 Q177.77 665.357 179.575 668.922 Q181.404 672.463 185.015 672.463 Q188.649 672.463 190.455 668.922 Q192.283 665.357 192.283 658.251 Q192.283 651.121 190.455 647.579 Q188.649 644.014 185.015 644.014 M185.015 640.311 Q190.825 640.311 193.881 644.917 Q196.959 649.501 196.959 658.251 Q196.959 666.977 193.881 671.584 Q190.825 676.167 185.015 676.167 Q179.205 676.167 176.126 671.584 Q173.071 666.977 173.071 658.251 Q173.071 649.501 176.126 644.917 Q179.205 640.311 185.015 640.311 Z\" fill=\"#000000\" fill-rule=\"evenodd\" fill-opacity=\"1\" /><path clip-path=\"url(#clip040)\" d=\"M 0 0 M206.664 622.507 Q203.73 622.507 202.244 625.403 Q200.777 628.281 200.777 634.074 Q200.777 639.848 202.244 642.744 Q203.73 645.622 206.664 645.622 Q209.617 645.622 211.084 642.744 Q212.57 639.848 212.57 634.074 Q212.57 628.281 211.084 625.403 Q209.617 622.507 206.664 622.507 M206.664 619.498 Q211.385 619.498 213.868 623.24 Q216.369 626.964 216.369 634.074 Q216.369 641.164 213.868 644.907 Q211.385 648.631 206.664 648.631 Q201.943 648.631 199.442 644.907 Q196.959 641.164 196.959 634.074 Q196.959 626.964 199.442 623.24 Q201.943 619.498 206.664 619.498 Z\" fill=\"#000000\" fill-rule=\"evenodd\" fill-opacity=\"1\" /><path clip-path=\"url(#clip040)\" d=\"M 0 0 M223.046 643.308 L227.014 643.308 L227.014 648.085 L223.046 648.085 L223.046 643.308 Z\" fill=\"#000000\" fill-rule=\"evenodd\" fill-opacity=\"1\" /><path clip-path=\"url(#clip040)\" d=\"M 0 0 M243.415 622.507 Q240.481 622.507 238.995 625.403 Q237.528 628.281 237.528 634.074 Q237.528 639.848 238.995 642.744 Q240.481 645.622 243.415 645.622 Q246.367 645.622 247.834 642.744 Q249.32 639.848 249.32 634.074 Q249.32 628.281 247.834 625.403 Q246.367 622.507 243.415 622.507 M243.415 619.498 Q248.135 619.498 250.618 623.24 Q253.119 626.964 253.119 634.074 Q253.119 641.164 250.618 644.907 Q248.135 648.631 243.415 648.631 Q238.694 648.631 236.192 644.907 Q233.71 641.164 233.71 634.074 Q233.71 626.964 236.192 623.24 Q238.694 619.498 243.415 619.498 Z\" fill=\"#000000\" fill-rule=\"evenodd\" fill-opacity=\"1\" /><path clip-path=\"url(#clip040)\" d=\"M 0 0 M146.472 313.083 L154.111 313.083 L154.111 286.717 L145.801 288.384 L145.801 284.125 L154.065 282.458 L158.741 282.458 L158.741 313.083 L166.379 313.083 L166.379 317.018 L146.472 317.018 L146.472 313.083 Z\" fill=\"#000000\" fill-rule=\"evenodd\" fill-opacity=\"1\" /><path clip-path=\"url(#clip040)\" d=\"M 0 0 M185.824 285.537 Q182.213 285.537 180.384 289.102 Q178.578 292.643 178.578 299.773 Q178.578 306.879 180.384 310.444 Q182.213 313.986 185.824 313.986 Q189.458 313.986 191.264 310.444 Q193.092 306.879 193.092 299.773 Q193.092 292.643 191.264 289.102 Q189.458 285.537 185.824 285.537 M185.824 281.833 Q191.634 281.833 194.689 286.44 Q197.768 291.023 197.768 299.773 Q197.768 308.5 194.689 313.106 Q191.634 317.689 185.824 317.689 Q180.014 317.689 176.935 313.106 Q173.879 308.5 173.879 299.773 Q173.879 291.023 176.935 286.44 Q180.014 281.833 185.824 281.833 Z\" fill=\"#000000\" fill-rule=\"evenodd\" fill-opacity=\"1\" /><path clip-path=\"url(#clip040)\" d=\"M 0 0 M207.473 264.029 Q204.539 264.029 203.053 266.926 Q201.586 269.803 201.586 275.596 Q201.586 281.37 203.053 284.266 Q204.539 287.144 207.473 287.144 Q210.426 287.144 211.893 284.266 Q213.379 281.37 213.379 275.596 Q213.379 269.803 211.893 266.926 Q210.426 264.029 207.473 264.029 M207.473 261.02 Q212.194 261.02 214.676 264.763 Q217.178 268.487 217.178 275.596 Q217.178 282.686 214.676 286.429 Q212.194 290.153 207.473 290.153 Q202.752 290.153 200.251 286.429 Q197.768 282.686 197.768 275.596 Q197.768 268.487 200.251 264.763 Q202.752 261.02 207.473 261.02 Z\" fill=\"#000000\" fill-rule=\"evenodd\" fill-opacity=\"1\" /><path clip-path=\"url(#clip040)\" d=\"M 0 0 M223.854 284.83 L227.823 284.83 L227.823 289.608 L223.854 289.608 L223.854 284.83 Z\" fill=\"#000000\" fill-rule=\"evenodd\" fill-opacity=\"1\" /><path clip-path=\"url(#clip040)\" d=\"M 0 0 M236.136 261.528 L251.051 261.528 L251.051 264.725 L239.615 264.725 L239.615 271.609 Q240.443 271.327 241.27 271.195 Q242.098 271.044 242.926 271.044 Q247.627 271.044 250.373 273.621 Q253.119 276.198 253.119 280.599 Q253.119 285.131 250.298 287.652 Q247.477 290.153 242.343 290.153 Q240.575 290.153 238.731 289.852 Q236.907 289.551 234.951 288.949 L234.951 285.131 Q236.644 286.053 238.449 286.504 Q240.255 286.956 242.267 286.956 Q245.521 286.956 247.421 285.244 Q249.32 283.533 249.32 280.599 Q249.32 277.665 247.421 275.953 Q245.521 274.242 242.267 274.242 Q240.744 274.242 239.22 274.58 Q237.716 274.919 236.136 275.633 L236.136 261.528 Z\" fill=\"#000000\" fill-rule=\"evenodd\" fill-opacity=\"1\" /><path clip-path=\"url(#clip040)\" d=\"M 0 0 M18.2347 960.255 L28.3562 960.255 L28.3562 948.192 L32.9077 948.192 L32.9077 960.255 L52.2594 960.255 Q56.6199 960.255 57.8613 959.077 Q59.1026 957.868 59.1026 954.208 L59.1026 948.192 L64.0042 948.192 L64.0042 954.208 Q64.0042 960.987 61.4897 963.565 Q58.9434 966.143 52.2594 966.143 L32.9077 966.143 L32.9077 970.44 L28.3562 970.44 L28.3562 966.143 L18.2347 966.143 L18.2347 960.255 Z\" fill=\"#000000\" fill-rule=\"evenodd\" fill-opacity=\"1\" /><path clip-path=\"url(#clip040)\" d=\"M 0 0 M33.8307 919.833 Q33.2578 920.819 33.0032 921.997 Q32.7167 923.143 32.7167 924.543 Q32.7167 929.509 35.9632 932.182 Q39.1779 934.824 45.2253 934.824 L64.0042 934.824 L64.0042 940.712 L28.3562 940.712 L28.3562 934.824 L33.8944 934.824 Q30.6479 932.978 29.0883 930.018 Q27.4968 927.058 27.4968 922.825 Q27.4968 922.22 27.5923 921.488 Q27.656 920.756 27.8151 919.865 L33.8307 919.833 Z\" fill=\"#000000\" fill-rule=\"evenodd\" fill-opacity=\"1\" /><path clip-path=\"url(#clip040)\" d=\"M 0 0 M46.0847 897.489 Q46.0847 904.587 47.7079 907.324 Q49.3312 910.061 53.2461 910.061 Q56.3653 910.061 58.2114 908.024 Q60.0256 905.955 60.0256 902.423 Q60.0256 897.553 56.5881 894.625 Q53.1188 891.664 47.3897 891.664 L46.0847 891.664 L46.0847 897.489 M43.6657 885.808 L64.0042 885.808 L64.0042 891.664 L58.5933 891.664 Q61.8398 893.67 63.3994 896.662 Q64.9272 899.653 64.9272 903.982 Q64.9272 909.457 61.8716 912.703 Q58.7843 915.918 53.6281 915.918 Q47.6125 915.918 44.5569 911.907 Q41.5014 907.865 41.5014 899.876 L41.5014 891.664 L40.9285 891.664 Q36.8862 891.664 34.6901 894.338 Q32.4621 896.98 32.4621 901.786 Q32.4621 904.841 33.1941 907.738 Q33.9262 910.634 35.3903 913.308 L29.9795 913.308 Q28.7381 910.093 28.1334 907.069 Q27.4968 904.046 27.4968 901.181 Q27.4968 893.447 31.5072 889.627 Q35.5176 885.808 43.6657 885.808 Z\" fill=\"#000000\" fill-rule=\"evenodd\" fill-opacity=\"1\" /><path clip-path=\"url(#clip040)\" d=\"M 0 0 M28.3562 873.745 L28.3562 867.889 L64.0042 867.889 L64.0042 873.745 L28.3562 873.745 M14.479 873.745 L14.479 867.889 L21.895 867.889 L21.895 873.745 L14.479 873.745 Z\" fill=\"#000000\" fill-rule=\"evenodd\" fill-opacity=\"1\" /><path clip-path=\"url(#clip040)\" d=\"M 0 0 M42.4881 826.002 L64.0042 826.002 L64.0042 831.859 L42.679 831.859 Q37.6183 831.859 35.1038 833.832 Q32.5894 835.805 32.5894 839.752 Q32.5894 844.495 35.6131 847.232 Q38.6368 849.969 43.8567 849.969 L64.0042 849.969 L64.0042 855.857 L28.3562 855.857 L28.3562 849.969 L33.8944 849.969 Q30.6797 847.868 29.0883 845.036 Q27.4968 842.171 27.4968 838.447 Q27.4968 832.304 31.3163 829.153 Q35.1038 826.002 42.4881 826.002 Z\" fill=\"#000000\" fill-rule=\"evenodd\" fill-opacity=\"1\" /><path clip-path=\"url(#clip040)\" d=\"M 0 0 M28.3562 814.321 L28.3562 808.465 L64.0042 808.465 L64.0042 814.321 L28.3562 814.321 M14.479 814.321 L14.479 808.465 L21.895 808.465 L21.895 814.321 L14.479 814.321 Z\" fill=\"#000000\" fill-rule=\"evenodd\" fill-opacity=\"1\" /><path clip-path=\"url(#clip040)\" d=\"M 0 0 M42.4881 766.578 L64.0042 766.578 L64.0042 772.435 L42.679 772.435 Q37.6183 772.435 35.1038 774.408 Q32.5894 776.382 32.5894 780.328 Q32.5894 785.071 35.6131 787.808 Q38.6368 790.545 43.8567 790.545 L64.0042 790.545 L64.0042 796.433 L28.3562 796.433 L28.3562 790.545 L33.8944 790.545 Q30.6797 788.445 29.0883 785.612 Q27.4968 782.747 27.4968 779.023 Q27.4968 772.88 31.3163 769.729 Q35.1038 766.578 42.4881 766.578 Z\" fill=\"#000000\" fill-rule=\"evenodd\" fill-opacity=\"1\" /><path clip-path=\"url(#clip040)\" d=\"M 0 0 M45.7664 731.44 Q39.4007 731.44 35.8996 734.081 Q32.3984 736.691 32.3984 741.434 Q32.3984 746.144 35.8996 748.786 Q39.4007 751.396 45.7664 751.396 Q52.1003 751.396 55.6014 748.786 Q59.1026 746.144 59.1026 741.434 Q59.1026 736.691 55.6014 734.081 Q52.1003 731.44 45.7664 731.44 M59.58 725.583 Q68.683 725.583 73.1071 729.625 Q77.5631 733.668 77.5631 742.007 Q77.5631 745.094 77.0857 747.831 Q76.6401 750.569 75.6852 753.147 L69.9879 753.147 Q71.3884 750.569 72.0568 748.054 Q72.7252 745.54 72.7252 742.93 Q72.7252 737.169 69.7015 734.304 Q66.7096 731.44 60.6303 731.44 L57.7339 731.44 Q60.885 733.254 62.4446 736.087 Q64.0042 738.919 64.0042 742.866 Q64.0042 749.423 59.0071 753.433 Q54.01 757.444 45.7664 757.444 Q37.491 757.444 32.4939 753.433 Q27.4968 749.423 27.4968 742.866 Q27.4968 738.919 29.0564 736.087 Q30.616 733.254 33.7671 731.44 L28.3562 731.44 L28.3562 725.583 L59.58 725.583 Z\" fill=\"#000000\" fill-rule=\"evenodd\" fill-opacity=\"1\" /><path clip-path=\"url(#clip040)\" d=\"M 0 0 M14.479 692.8 L14.479 686.943 L64.0042 686.943 L64.0042 692.8 L14.479 692.8 Z\" fill=\"#000000\" fill-rule=\"evenodd\" fill-opacity=\"1\" /><path clip-path=\"url(#clip040)\" d=\"M 0 0 M32.4621 660.876 Q32.4621 665.586 36.1542 668.324 Q39.8145 671.061 46.212 671.061 Q52.6095 671.061 56.3017 668.355 Q59.9619 665.618 59.9619 660.876 Q59.9619 656.197 56.2698 653.46 Q52.5777 650.722 46.212 650.722 Q39.8781 650.722 36.186 653.46 Q32.4621 656.197 32.4621 660.876 M27.4968 660.876 Q27.4968 653.237 32.4621 648.876 Q37.4273 644.516 46.212 644.516 Q54.9649 644.516 59.9619 648.876 Q64.9272 653.237 64.9272 660.876 Q64.9272 668.546 59.9619 672.907 Q54.9649 677.236 46.212 677.236 Q37.4273 677.236 32.4621 672.907 Q27.4968 668.546 27.4968 660.876 Z\" fill=\"#000000\" fill-rule=\"evenodd\" fill-opacity=\"1\" /><path clip-path=\"url(#clip040)\" d=\"M 0 0 M29.4065 612.083 L34.9447 612.083 Q33.6716 614.565 33.035 617.239 Q32.3984 619.912 32.3984 622.777 Q32.3984 627.138 33.7352 629.334 Q35.072 631.498 37.7456 631.498 Q39.7826 631.498 40.9603 629.938 Q42.1061 628.379 43.1565 623.668 L43.6021 621.663 Q44.9389 615.425 47.3897 612.815 Q49.8086 610.173 54.1691 610.173 Q59.1344 610.173 62.0308 614.12 Q64.9272 618.035 64.9272 624.91 Q64.9272 627.774 64.3543 630.893 Q63.8132 633.981 62.6992 637.418 L56.6518 637.418 Q58.3387 634.172 59.198 631.021 Q60.0256 627.87 60.0256 624.782 Q60.0256 620.645 58.6251 618.417 Q57.1929 616.189 54.6147 616.189 Q52.2276 616.189 50.9545 617.812 Q49.6813 619.403 48.5037 624.846 L48.0262 626.883 Q46.8804 632.326 44.5251 634.745 Q42.138 637.164 38.0002 637.164 Q32.9713 637.164 30.2341 633.599 Q27.4968 630.034 27.4968 623.477 Q27.4968 620.231 27.9743 617.366 Q28.4517 614.502 29.4065 612.083 Z\" fill=\"#000000\" fill-rule=\"evenodd\" fill-opacity=\"1\" /><path clip-path=\"url(#clip040)\" d=\"M 0 0 M29.4065 578.122 L34.9447 578.122 Q33.6716 580.604 33.035 583.278 Q32.3984 585.951 32.3984 588.816 Q32.3984 593.176 33.7352 595.373 Q35.072 597.537 37.7456 597.537 Q39.7826 597.537 40.9603 595.977 Q42.1061 594.418 43.1565 589.707 L43.6021 587.702 Q44.9389 581.464 47.3897 578.854 Q49.8086 576.212 54.1691 576.212 Q59.1344 576.212 62.0308 580.159 Q64.9272 584.074 64.9272 590.948 Q64.9272 593.813 64.3543 596.932 Q63.8132 600.02 62.6992 603.457 L56.6518 603.457 Q58.3387 600.211 59.198 597.06 Q60.0256 593.909 60.0256 590.821 Q60.0256 586.683 58.6251 584.455 Q57.1929 582.227 54.6147 582.227 Q52.2276 582.227 50.9545 583.851 Q49.6813 585.442 48.5037 590.885 L48.0262 592.922 Q46.8804 598.365 44.5251 600.784 Q42.138 603.202 38.0002 603.202 Q32.9713 603.202 30.2341 599.638 Q27.4968 596.073 27.4968 589.516 Q27.4968 586.27 27.9743 583.405 Q28.4517 580.541 29.4065 578.122 Z\" fill=\"#000000\" fill-rule=\"evenodd\" fill-opacity=\"1\" /><path clip-path=\"url(#clip040)\" d=\"M 0 0 M353.825 27.2059 L361.278 27.2059 L361.278 72.576 L353.825 72.576 L353.825 27.2059 M353.825 9.54393 L361.278 9.54393 L361.278 18.9825 L353.825 18.9825 L353.825 9.54393 Z\" fill=\"#000000\" fill-rule=\"evenodd\" fill-opacity=\"1\" /><path clip-path=\"url(#clip040)\" d=\"M 0 0 M384.247 14.324 L384.247 27.2059 L399.6 27.2059 L399.6 32.9987 L384.247 32.9987 L384.247 57.6282 Q384.247 63.1779 385.746 64.7578 Q387.285 66.3376 391.944 66.3376 L399.6 66.3376 L399.6 72.576 L391.944 72.576 Q383.315 72.576 380.034 69.3758 Q376.753 66.1351 376.753 57.6282 L376.753 32.9987 L371.284 32.9987 L371.284 27.2059 L376.753 27.2059 L376.753 14.324 L384.247 14.324 Z\" fill=\"#000000\" fill-rule=\"evenodd\" fill-opacity=\"1\" /><path clip-path=\"url(#clip040)\" d=\"M 0 0 M448.211 48.0275 L448.211 51.6733 L413.94 51.6733 Q414.426 59.3701 418.558 63.421 Q422.731 67.4314 430.144 67.4314 Q434.438 67.4314 438.448 66.3781 Q442.499 65.3249 446.469 63.2184 L446.469 70.267 Q442.459 71.9684 438.246 72.8596 Q434.033 73.7508 429.698 73.7508 Q418.842 73.7508 412.482 67.4314 Q406.162 61.1119 406.162 50.3365 Q406.162 39.1965 412.158 32.6746 Q418.194 26.1121 428.402 26.1121 Q437.557 26.1121 442.864 32.0264 Q448.211 37.9003 448.211 48.0275 M440.757 45.84 Q440.676 39.7232 437.314 36.0774 Q433.992 32.4315 428.483 32.4315 Q422.245 32.4315 418.477 35.9558 Q414.75 39.4801 414.183 45.8805 L440.757 45.84 Z\" fill=\"#000000\" fill-rule=\"evenodd\" fill-opacity=\"1\" /><path clip-path=\"url(#clip040)\" d=\"M 0 0 M486.735 34.1734 Q485.479 33.4443 483.98 33.1202 Q482.522 32.7556 480.74 32.7556 Q474.42 32.7556 471.017 36.8875 Q467.655 40.9789 467.655 48.6757 L467.655 72.576 L460.161 72.576 L460.161 27.2059 L467.655 27.2059 L467.655 34.2544 Q470.005 30.1225 473.772 28.1376 Q477.539 26.1121 482.927 26.1121 Q483.697 26.1121 484.628 26.2337 Q485.56 26.3147 486.694 26.5172 L486.735 34.1734 Z\" fill=\"#000000\" fill-rule=\"evenodd\" fill-opacity=\"1\" /><path clip-path=\"url(#clip040)\" d=\"M 0 0 M515.172 49.7694 Q506.139 49.7694 502.655 51.8354 Q499.171 53.9013 499.171 58.8839 Q499.171 62.8538 501.764 65.2034 Q504.397 67.5124 508.893 67.5124 Q515.091 67.5124 518.818 63.1374 Q522.585 58.7219 522.585 51.4303 L522.585 49.7694 L515.172 49.7694 M530.039 46.6907 L530.039 72.576 L522.585 72.576 L522.585 65.6895 Q520.033 69.8214 516.226 71.8063 Q512.418 73.7508 506.908 73.7508 Q499.941 73.7508 495.809 69.8619 Q491.718 65.9325 491.718 59.3701 Q491.718 51.7138 496.822 47.825 Q501.966 43.9361 512.134 43.9361 L522.585 43.9361 L522.585 43.2069 Q522.585 38.0623 519.183 35.2672 Q515.82 32.4315 509.704 32.4315 Q505.815 32.4315 502.128 33.3632 Q498.442 34.295 495.039 36.1584 L495.039 29.2718 Q499.131 27.692 502.979 26.9223 Q506.827 26.1121 510.473 26.1121 Q520.317 26.1121 525.178 31.2163 Q530.039 36.3204 530.039 46.6907 Z\" fill=\"#000000\" fill-rule=\"evenodd\" fill-opacity=\"1\" /><path clip-path=\"url(#clip040)\" d=\"M 0 0 M552.765 14.324 L552.765 27.2059 L568.118 27.2059 L568.118 32.9987 L552.765 32.9987 L552.765 57.6282 Q552.765 63.1779 554.264 64.7578 Q555.803 66.3376 560.461 66.3376 L568.118 66.3376 L568.118 72.576 L560.461 72.576 Q551.833 72.576 548.552 69.3758 Q545.27 66.1351 545.27 57.6282 L545.27 32.9987 L539.802 32.9987 L539.802 27.2059 L545.27 27.2059 L545.27 14.324 L552.765 14.324 Z\" fill=\"#000000\" fill-rule=\"evenodd\" fill-opacity=\"1\" /><path clip-path=\"url(#clip040)\" d=\"M 0 0 M577.921 27.2059 L585.374 27.2059 L585.374 72.576 L577.921 72.576 L577.921 27.2059 M577.921 9.54393 L585.374 9.54393 L585.374 18.9825 L577.921 18.9825 L577.921 9.54393 Z\" fill=\"#000000\" fill-rule=\"evenodd\" fill-opacity=\"1\" /><path clip-path=\"url(#clip040)\" d=\"M 0 0 M618.551 32.4315 Q612.556 32.4315 609.072 37.1306 Q605.588 41.7891 605.588 49.9314 Q605.588 58.0738 609.032 62.7728 Q612.516 67.4314 618.551 67.4314 Q624.506 67.4314 627.99 62.7323 Q631.474 58.0333 631.474 49.9314 Q631.474 41.8701 627.99 37.1711 Q624.506 32.4315 618.551 32.4315 M618.551 26.1121 Q628.274 26.1121 633.823 32.4315 Q639.373 38.7509 639.373 49.9314 Q639.373 61.0714 633.823 67.4314 Q628.274 73.7508 618.551 73.7508 Q608.789 73.7508 603.239 67.4314 Q597.73 61.0714 597.73 49.9314 Q597.73 38.7509 603.239 32.4315 Q608.789 26.1121 618.551 26.1121 Z\" fill=\"#000000\" fill-rule=\"evenodd\" fill-opacity=\"1\" /><path clip-path=\"url(#clip040)\" d=\"M 0 0 M689.442 45.1919 L689.442 72.576 L681.989 72.576 L681.989 45.4349 Q681.989 38.994 679.477 35.7938 Q676.965 32.5936 671.942 32.5936 Q665.906 32.5936 662.423 36.4419 Q658.939 40.2903 658.939 46.9338 L658.939 72.576 L651.445 72.576 L651.445 27.2059 L658.939 27.2059 L658.939 34.2544 Q661.612 30.163 665.218 28.1376 Q668.864 26.1121 673.603 26.1121 Q681.421 26.1121 685.432 30.9732 Q689.442 35.7938 689.442 45.1919 Z\" fill=\"#000000\" fill-rule=\"evenodd\" fill-opacity=\"1\" /><path clip-path=\"url(#clip040)\" d=\"M 0 0 M731.815 12.096 L763.938 12.096 L763.938 18.9825 L739.309 18.9825 L739.309 33.8088 Q741.091 33.2012 742.874 32.9176 Q744.656 32.5936 746.438 32.5936 Q756.566 32.5936 762.48 38.1433 Q768.394 43.6931 768.394 53.1722 Q768.394 62.9348 762.318 68.3631 Q756.242 73.7508 745.183 73.7508 Q741.375 73.7508 737.405 73.1026 Q733.476 72.4545 729.263 71.1582 L729.263 62.9348 Q732.908 64.9198 736.797 65.892 Q740.686 66.8642 745.021 66.8642 Q752.029 66.8642 756.12 63.1779 Q760.211 59.4916 760.211 53.1722 Q760.211 46.8528 756.12 43.1664 Q752.029 39.4801 745.021 39.4801 Q741.739 39.4801 738.458 40.2093 Q735.217 40.9384 731.815 42.4778 L731.815 12.096 Z\" fill=\"#000000\" fill-rule=\"evenodd\" fill-opacity=\"1\" /><path clip-path=\"url(#clip040)\" d=\"M 0 0 M782.451 12.096 L821.34 12.096 L821.34 15.5798 L799.384 72.576 L790.836 72.576 L811.496 18.9825 L782.451 18.9825 L782.451 12.096 Z\" fill=\"#000000\" fill-rule=\"evenodd\" fill-opacity=\"1\" /><path clip-path=\"url(#clip040)\" d=\"M 0 0 M844.349 65.6895 L872.908 65.6895 L872.908 72.576 L834.505 72.576 L834.505 65.6895 Q839.164 60.8689 847.184 52.7671 Q855.246 44.6248 857.312 42.2752 Q861.241 37.8598 862.78 34.8216 Q864.36 31.7429 864.36 28.7857 Q864.36 23.9651 860.957 20.927 Q857.595 17.8888 852.167 17.8888 Q848.319 17.8888 844.025 19.2256 Q839.771 20.5624 834.91 23.2765 L834.91 15.0127 Q839.852 13.0277 844.146 12.015 Q848.44 11.0023 852.005 11.0023 Q861.403 11.0023 866.993 15.7013 Q872.584 20.4004 872.584 28.2591 Q872.584 31.9859 871.166 35.3482 Q869.788 38.6699 866.102 43.2069 Q865.089 44.3817 859.661 50.0125 Q854.233 55.6027 844.349 65.6895 Z\" fill=\"#000000\" fill-rule=\"evenodd\" fill-opacity=\"1\" /><path clip-path=\"url(#clip040)\" d=\"M 0 0 M890.934 62.2867 L899.482 62.2867 L899.482 69.2543 L892.838 82.2172 L887.612 82.2172 L890.934 69.2543 L890.934 62.2867 Z\" fill=\"#000000\" fill-rule=\"evenodd\" fill-opacity=\"1\" /><path clip-path=\"url(#clip040)\" d=\"M 0 0 M941.773 9.54393 L949.227 9.54393 L949.227 72.576 L941.773 72.576 L941.773 9.54393 Z\" fill=\"#000000\" fill-rule=\"evenodd\" fill-opacity=\"1\" /><path clip-path=\"url(#clip040)\" d=\"M 0 0 M982.404 32.4315 Q976.408 32.4315 972.924 37.1306 Q969.441 41.7891 969.441 49.9314 Q969.441 58.0738 972.884 62.7728 Q976.368 67.4314 982.404 67.4314 Q988.358 67.4314 991.842 62.7323 Q995.326 58.0333 995.326 49.9314 Q995.326 41.8701 991.842 37.1711 Q988.358 32.4315 982.404 32.4315 M982.404 26.1121 Q992.126 26.1121 997.675 32.4315 Q1003.23 38.7509 1003.23 49.9314 Q1003.23 61.0714 997.675 67.4314 Q992.126 73.7508 982.404 73.7508 Q972.641 73.7508 967.091 67.4314 Q961.582 61.0714 961.582 49.9314 Q961.582 38.7509 967.091 32.4315 Q972.641 26.1121 982.404 26.1121 Z\" fill=\"#000000\" fill-rule=\"evenodd\" fill-opacity=\"1\" /><path clip-path=\"url(#clip040)\" d=\"M 0 0 M1044.5 28.5427 L1044.5 35.5912 Q1041.34 33.9709 1037.94 33.1607 Q1034.54 32.3505 1030.89 32.3505 Q1025.34 32.3505 1022.55 34.0519 Q1019.79 35.7533 1019.79 39.156 Q1019.79 41.7486 1021.78 43.2475 Q1023.76 44.7058 1029.76 46.0426 L1032.31 46.6097 Q1040.25 48.3111 1043.57 51.4303 Q1046.93 54.509 1046.93 60.0587 Q1046.93 66.3781 1041.91 70.0644 Q1036.93 73.7508 1028.18 73.7508 Q1024.53 73.7508 1020.56 73.0216 Q1016.63 72.3329 1012.26 70.9151 L1012.26 63.2184 Q1016.39 65.3654 1020.4 66.4591 Q1024.41 67.5124 1028.34 67.5124 Q1033.61 67.5124 1036.44 65.73 Q1039.28 63.9071 1039.28 60.6258 Q1039.28 57.5877 1037.21 55.9673 Q1035.19 54.3469 1028.26 52.8481 L1025.67 52.2405 Q1018.74 50.7821 1015.66 47.7845 Q1012.58 44.7463 1012.58 39.4801 Q1012.58 33.0797 1017.12 29.5959 Q1021.66 26.1121 1030 26.1121 Q1034.13 26.1121 1037.78 26.7198 Q1041.43 27.3274 1044.5 28.5427 Z\" fill=\"#000000\" fill-rule=\"evenodd\" fill-opacity=\"1\" /><path clip-path=\"url(#clip040)\" d=\"M 0 0 M1087.73 28.5427 L1087.73 35.5912 Q1084.57 33.9709 1081.16 33.1607 Q1077.76 32.3505 1074.12 32.3505 Q1068.57 32.3505 1065.77 34.0519 Q1063.02 35.7533 1063.02 39.156 Q1063.02 41.7486 1065 43.2475 Q1066.99 44.7058 1072.98 46.0426 L1075.53 46.6097 Q1083.47 48.3111 1086.8 51.4303 Q1090.16 54.509 1090.16 60.0587 Q1090.16 66.3781 1085.13 70.0644 Q1080.15 73.7508 1071.4 73.7508 Q1067.76 73.7508 1063.79 73.0216 Q1059.86 72.3329 1055.48 70.9151 L1055.48 63.2184 Q1059.61 65.3654 1063.62 66.4591 Q1067.63 67.5124 1071.56 67.5124 Q1076.83 67.5124 1079.67 65.73 Q1082.5 63.9071 1082.5 60.6258 Q1082.5 57.5877 1080.44 55.9673 Q1078.41 54.3469 1071.48 52.8481 L1068.89 52.2405 Q1061.96 50.7821 1058.88 47.7845 Q1055.81 44.7463 1055.81 39.4801 Q1055.81 33.0797 1060.34 29.5959 Q1064.88 26.1121 1073.22 26.1121 Q1077.36 26.1121 1081 26.7198 Q1084.65 27.3274 1087.73 28.5427 Z\" fill=\"#000000\" fill-rule=\"evenodd\" fill-opacity=\"1\" /><path clip-path=\"url(#clip040)\" d=\"M 0 0 M1129.37 34.9026 L1181.3 34.9026 L1181.3 41.7081 L1129.37 41.7081 L1129.37 34.9026 M1129.37 51.4303 L1181.3 51.4303 L1181.3 58.3168 L1129.37 58.3168 L1129.37 51.4303 Z\" fill=\"#000000\" fill-rule=\"evenodd\" fill-opacity=\"1\" /><path clip-path=\"url(#clip040)\" d=\"M 0 0 M1242.84 17.4837 Q1236.52 17.4837 1233.32 23.7221 Q1230.16 29.92 1230.16 42.3968 Q1230.16 54.833 1233.32 61.0714 Q1236.52 67.2693 1242.84 67.2693 Q1249.2 67.2693 1252.36 61.0714 Q1255.56 54.833 1255.56 42.3968 Q1255.56 29.92 1252.36 23.7221 Q1249.2 17.4837 1242.84 17.4837 M1242.84 11.0023 Q1253 11.0023 1258.35 19.0636 Q1263.74 27.0843 1263.74 42.3968 Q1263.74 57.6687 1258.35 65.73 Q1253 73.7508 1242.84 73.7508 Q1232.67 73.7508 1227.28 65.73 Q1221.93 57.6687 1221.93 42.3968 Q1221.93 27.0843 1227.28 19.0636 Q1232.67 11.0023 1242.84 11.0023 Z\" fill=\"#000000\" fill-rule=\"evenodd\" fill-opacity=\"1\" /><path clip-path=\"url(#clip040)\" d=\"M 0 0 M1278.12 62.2867 L1286.67 62.2867 L1286.67 72.576 L1278.12 72.576 L1278.12 62.2867 Z\" fill=\"#000000\" fill-rule=\"evenodd\" fill-opacity=\"1\" /><path clip-path=\"url(#clip040)\" d=\"M 0 0 M1321.99 17.4837 Q1315.67 17.4837 1312.47 23.7221 Q1309.31 29.92 1309.31 42.3968 Q1309.31 54.833 1312.47 61.0714 Q1315.67 67.2693 1321.99 67.2693 Q1328.35 67.2693 1331.51 61.0714 Q1334.71 54.833 1334.71 42.3968 Q1334.71 29.92 1331.51 23.7221 Q1328.35 17.4837 1321.99 17.4837 M1321.99 11.0023 Q1332.16 11.0023 1337.51 19.0636 Q1342.89 27.0843 1342.89 42.3968 Q1342.89 57.6687 1337.51 65.73 Q1332.16 73.7508 1321.99 73.7508 Q1311.82 73.7508 1306.44 65.73 Q1301.09 57.6687 1301.09 42.3968 Q1301.09 27.0843 1306.44 19.0636 Q1311.82 11.0023 1321.99 11.0023 Z\" fill=\"#000000\" fill-rule=\"evenodd\" fill-opacity=\"1\" /><path clip-path=\"url(#clip040)\" d=\"M 0 0 M1357.52 71.3202 L1357.52 63.8666 Q1360.6 65.3249 1363.76 66.0946 Q1366.92 66.8642 1369.95 66.8642 Q1378.06 66.8642 1382.31 61.436 Q1386.6 55.9673 1387.21 44.8678 Q1384.86 48.3516 1381.26 50.215 Q1377.65 52.0784 1373.28 52.0784 Q1364.2 52.0784 1358.89 46.6097 Q1353.63 41.1005 1353.63 31.5808 Q1353.63 22.2638 1359.14 16.633 Q1364.65 11.0023 1373.8 11.0023 Q1384.29 11.0023 1389.8 19.0636 Q1395.35 27.0843 1395.35 42.3968 Q1395.35 56.6965 1388.55 65.2439 Q1381.78 73.7508 1370.32 73.7508 Q1367.24 73.7508 1364.08 73.1431 Q1360.92 72.5355 1357.52 71.3202 M1373.8 45.678 Q1379.31 45.678 1382.51 41.9107 Q1385.75 38.1433 1385.75 31.5808 Q1385.75 25.0589 1382.51 21.2916 Q1379.31 17.4837 1373.8 17.4837 Q1368.29 17.4837 1365.05 21.2916 Q1361.85 25.0589 1361.85 31.5808 Q1361.85 38.1433 1365.05 41.9107 Q1368.29 45.678 1373.8 45.678 Z\" fill=\"#000000\" fill-rule=\"evenodd\" fill-opacity=\"1\" /><path clip-path=\"url(#clip040)\" d=\"M 0 0 M1432.54 19.2256 L1411.88 51.5113 L1432.54 51.5113 L1432.54 19.2256 M1430.39 12.096 L1440.68 12.096 L1440.68 51.5113 L1449.31 51.5113 L1449.31 58.3168 L1440.68 58.3168 L1440.68 72.576 L1432.54 72.576 L1432.54 58.3168 L1405.24 58.3168 L1405.24 50.4176 L1430.39 12.096 Z\" fill=\"#000000\" fill-rule=\"evenodd\" fill-opacity=\"1\" /><path clip-path=\"url(#clip040)\" d=\"M 0 0 M1487.63 39.9662 Q1493.51 41.222 1496.79 45.1919 Q1500.11 49.1618 1500.11 54.9951 Q1500.11 63.9476 1493.95 68.8492 Q1487.79 73.7508 1476.45 73.7508 Q1472.64 73.7508 1468.59 72.9811 Q1464.58 72.2519 1460.29 70.7531 L1460.29 62.8538 Q1463.69 64.8388 1467.74 65.8515 Q1471.79 66.8642 1476.21 66.8642 Q1483.91 66.8642 1487.92 63.826 Q1491.97 60.7879 1491.97 54.9951 Q1491.97 49.6479 1488.2 46.6502 Q1484.47 43.612 1477.79 43.612 L1470.74 43.612 L1470.74 36.8875 L1478.11 36.8875 Q1484.15 36.8875 1487.35 34.4975 Q1490.55 32.067 1490.55 27.5299 Q1490.55 22.8714 1487.23 20.4004 Q1483.95 17.8888 1477.79 17.8888 Q1474.43 17.8888 1470.58 18.618 Q1466.73 19.3471 1462.11 20.8865 L1462.11 13.5948 Q1466.77 12.2985 1470.82 11.6504 Q1474.91 11.0023 1478.52 11.0023 Q1487.83 11.0023 1493.26 15.2557 Q1498.69 19.4686 1498.69 26.6793 Q1498.69 31.7024 1495.82 35.1862 Q1492.94 38.6294 1487.63 39.9662 Z\" fill=\"#000000\" fill-rule=\"evenodd\" fill-opacity=\"1\" /><path clip-path=\"url(#clip040)\" d=\"M 0 0 M1534.14 39.075 Q1528.63 39.075 1525.39 42.8424 Q1522.19 46.6097 1522.19 53.1722 Q1522.19 59.6941 1525.39 63.502 Q1528.63 67.2693 1534.14 67.2693 Q1539.65 67.2693 1542.85 63.502 Q1546.09 59.6941 1546.09 53.1722 Q1546.09 46.6097 1542.85 42.8424 Q1539.65 39.075 1534.14 39.075 M1550.38 13.4328 L1550.38 20.8865 Q1547.3 19.4281 1544.14 18.6585 Q1541.02 17.8888 1537.94 17.8888 Q1529.84 17.8888 1525.55 23.3575 Q1521.3 28.8262 1520.69 39.8852 Q1523.08 36.3609 1526.68 34.4975 Q1530.29 32.5936 1534.62 32.5936 Q1543.74 32.5936 1549 38.1433 Q1554.31 43.6525 1554.31 53.1722 Q1554.31 62.4892 1548.8 68.12 Q1543.29 73.7508 1534.14 73.7508 Q1523.64 73.7508 1518.1 65.73 Q1512.55 57.6687 1512.55 42.3968 Q1512.55 28.0566 1519.35 19.5497 Q1526.16 11.0023 1537.62 11.0023 Q1540.7 11.0023 1543.82 11.6099 Q1546.98 12.2175 1550.38 13.4328 Z\" fill=\"#000000\" fill-rule=\"evenodd\" fill-opacity=\"1\" /><path clip-path=\"url(#clip040)\" d=\"M 0 0 M1566.34 12.096 L1605.23 12.096 L1605.23 15.5798 L1583.27 72.576 L1574.73 72.576 L1595.39 18.9825 L1566.34 18.9825 L1566.34 12.096 Z\" fill=\"#000000\" fill-rule=\"evenodd\" fill-opacity=\"1\" /><path clip-path=\"url(#clip040)\" d=\"M 0 0 M1622.04 62.2867 L1630.59 62.2867 L1630.59 69.2543 L1623.95 82.2172 L1618.72 82.2172 L1622.04 69.2543 L1622.04 62.2867 Z\" fill=\"#000000\" fill-rule=\"evenodd\" fill-opacity=\"1\" /><path clip-path=\"url(#clip040)\" d=\"M 0 0 M1693.5 49.7694 Q1684.47 49.7694 1680.98 51.8354 Q1677.5 53.9013 1677.5 58.8839 Q1677.5 62.8538 1680.09 65.2034 Q1682.72 67.5124 1687.22 67.5124 Q1693.42 67.5124 1697.15 63.1374 Q1700.91 58.7219 1700.91 51.4303 L1700.91 49.7694 L1693.5 49.7694 M1708.37 46.6907 L1708.37 72.576 L1700.91 72.576 L1700.91 65.6895 Q1698.36 69.8214 1694.55 71.8063 Q1690.74 73.7508 1685.24 73.7508 Q1678.27 73.7508 1674.14 69.8619 Q1670.04 65.9325 1670.04 59.3701 Q1670.04 51.7138 1675.15 47.825 Q1680.29 43.9361 1690.46 43.9361 L1700.91 43.9361 L1700.91 43.2069 Q1700.91 38.0623 1697.51 35.2672 Q1694.15 32.4315 1688.03 32.4315 Q1684.14 32.4315 1680.46 33.3632 Q1676.77 34.295 1673.37 36.1584 L1673.37 29.2718 Q1677.46 27.692 1681.31 26.9223 Q1685.15 26.1121 1688.8 26.1121 Q1698.64 26.1121 1703.51 31.2163 Q1708.37 36.3204 1708.37 46.6907 Z\" fill=\"#000000\" fill-rule=\"evenodd\" fill-opacity=\"1\" /><path clip-path=\"url(#clip040)\" d=\"M 0 0 M1756.37 28.9478 L1756.37 35.9153 Q1753.21 34.1734 1750.01 33.3227 Q1746.85 32.4315 1743.61 32.4315 Q1736.36 32.4315 1732.35 37.0496 Q1728.34 41.6271 1728.34 49.9314 Q1728.34 58.2358 1732.35 62.8538 Q1736.36 67.4314 1743.61 67.4314 Q1746.85 67.4314 1750.01 66.5807 Q1753.21 65.6895 1756.37 63.9476 L1756.37 70.8341 Q1753.25 72.2924 1749.89 73.0216 Q1746.57 73.7508 1742.8 73.7508 Q1732.55 73.7508 1726.51 67.3098 Q1720.48 60.8689 1720.48 49.9314 Q1720.48 38.832 1726.55 32.472 Q1732.67 26.1121 1743.28 26.1121 Q1746.73 26.1121 1750.01 26.8413 Q1753.29 27.5299 1756.37 28.9478 Z\" fill=\"#000000\" fill-rule=\"evenodd\" fill-opacity=\"1\" /><path clip-path=\"url(#clip040)\" d=\"M 0 0 M1801.98 28.9478 L1801.98 35.9153 Q1798.82 34.1734 1795.62 33.3227 Q1792.46 32.4315 1789.22 32.4315 Q1781.97 32.4315 1777.96 37.0496 Q1773.95 41.6271 1773.95 49.9314 Q1773.95 58.2358 1777.96 62.8538 Q1781.97 67.4314 1789.22 67.4314 Q1792.46 67.4314 1795.62 66.5807 Q1798.82 65.6895 1801.98 63.9476 L1801.98 70.8341 Q1798.86 72.2924 1795.5 73.0216 Q1792.18 73.7508 1788.41 73.7508 Q1778.16 73.7508 1772.13 67.3098 Q1766.09 60.8689 1766.09 49.9314 Q1766.09 38.832 1772.17 32.472 Q1778.28 26.1121 1788.9 26.1121 Q1792.34 26.1121 1795.62 26.8413 Q1798.9 27.5299 1801.98 28.9478 Z\" fill=\"#000000\" fill-rule=\"evenodd\" fill-opacity=\"1\" /><path clip-path=\"url(#clip040)\" d=\"M 0 0 M1814.18 54.671 L1814.18 27.2059 L1821.63 27.2059 L1821.63 54.3874 Q1821.63 60.8284 1824.14 64.0691 Q1826.65 67.2693 1831.68 67.2693 Q1837.71 67.2693 1841.2 63.421 Q1844.72 59.5726 1844.72 52.9291 L1844.72 27.2059 L1852.17 27.2059 L1852.17 72.576 L1844.72 72.576 L1844.72 65.6084 Q1842.01 69.7404 1838.4 71.7658 Q1834.84 73.7508 1830.1 73.7508 Q1822.28 73.7508 1818.23 68.8897 Q1814.18 64.0286 1814.18 54.671 M1832.93 26.1121 L1832.93 26.1121 Z\" fill=\"#000000\" fill-rule=\"evenodd\" fill-opacity=\"1\" /><path clip-path=\"url(#clip040)\" d=\"M 0 0 M1893.82 34.1734 Q1892.56 33.4443 1891.06 33.1202 Q1889.6 32.7556 1887.82 32.7556 Q1881.5 32.7556 1878.1 36.8875 Q1874.74 40.9789 1874.74 48.6757 L1874.74 72.576 L1867.24 72.576 L1867.24 27.2059 L1874.74 27.2059 L1874.74 34.2544 Q1877.09 30.1225 1880.85 28.1376 Q1884.62 26.1121 1890.01 26.1121 Q1890.78 26.1121 1891.71 26.2337 Q1892.64 26.3147 1893.78 26.5172 L1893.82 34.1734 Z\" fill=\"#000000\" fill-rule=\"evenodd\" fill-opacity=\"1\" /><path clip-path=\"url(#clip040)\" d=\"M 0 0 M1922.25 49.7694 Q1913.22 49.7694 1909.74 51.8354 Q1906.25 53.9013 1906.25 58.8839 Q1906.25 62.8538 1908.85 65.2034 Q1911.48 67.5124 1915.97 67.5124 Q1922.17 67.5124 1925.9 63.1374 Q1929.67 58.7219 1929.67 51.4303 L1929.67 49.7694 L1922.25 49.7694 M1937.12 46.6907 L1937.12 72.576 L1929.67 72.576 L1929.67 65.6895 Q1927.11 69.8214 1923.31 71.8063 Q1919.5 73.7508 1913.99 73.7508 Q1907.02 73.7508 1902.89 69.8619 Q1898.8 65.9325 1898.8 59.3701 Q1898.8 51.7138 1903.9 47.825 Q1909.05 43.9361 1919.22 43.9361 L1929.67 43.9361 L1929.67 43.2069 Q1929.67 38.0623 1926.26 35.2672 Q1922.9 32.4315 1916.79 32.4315 Q1912.9 32.4315 1909.21 33.3632 Q1905.52 34.295 1902.12 36.1584 L1902.12 29.2718 Q1906.21 27.692 1910.06 26.9223 Q1913.91 26.1121 1917.55 26.1121 Q1927.4 26.1121 1932.26 31.2163 Q1937.12 36.3204 1937.12 46.6907 Z\" fill=\"#000000\" fill-rule=\"evenodd\" fill-opacity=\"1\" /><path clip-path=\"url(#clip040)\" d=\"M 0 0 M1985.12 28.9478 L1985.12 35.9153 Q1981.96 34.1734 1978.76 33.3227 Q1975.6 32.4315 1972.36 32.4315 Q1965.11 32.4315 1961.1 37.0496 Q1957.09 41.6271 1957.09 49.9314 Q1957.09 58.2358 1961.1 62.8538 Q1965.11 67.4314 1972.36 67.4314 Q1975.6 67.4314 1978.76 66.5807 Q1981.96 65.6895 1985.12 63.9476 L1985.12 70.8341 Q1982 72.2924 1978.64 73.0216 Q1975.32 73.7508 1971.55 73.7508 Q1961.3 73.7508 1955.27 67.3098 Q1949.23 60.8689 1949.23 49.9314 Q1949.23 38.832 1955.31 32.472 Q1961.43 26.1121 1972.04 26.1121 Q1975.48 26.1121 1978.76 26.8413 Q1982.05 27.5299 1985.12 28.9478 Z\" fill=\"#000000\" fill-rule=\"evenodd\" fill-opacity=\"1\" /><path clip-path=\"url(#clip040)\" d=\"M 0 0 M2016.96 76.7889 Q2013.8 84.8907 2010.81 87.3618 Q2007.81 89.8329 2002.79 89.8329 L1996.83 89.8329 L1996.83 83.5945 L2001.21 83.5945 Q2004.28 83.5945 2005.99 82.1361 Q2007.69 80.6778 2009.75 75.2496 L2011.09 71.8468 L1992.74 27.2059 L2000.64 27.2059 L2014.82 62.6918 L2029 27.2059 L2036.89 27.2059 L2016.96 76.7889 Z\" fill=\"#000000\" fill-rule=\"evenodd\" fill-opacity=\"1\" /><path clip-path=\"url(#clip040)\" d=\"M 0 0 M2074.53 34.9026 L2126.46 34.9026 L2126.46 41.7081 L2074.53 41.7081 L2074.53 34.9026 M2074.53 51.4303 L2126.46 51.4303 L2126.46 58.3168 L2074.53 58.3168 L2074.53 51.4303 Z\" fill=\"#000000\" fill-rule=\"evenodd\" fill-opacity=\"1\" /><path clip-path=\"url(#clip040)\" d=\"M 0 0 M2171.91 65.6895 L2185.28 65.6895 L2185.28 19.5497 L2170.74 22.4663 L2170.74 15.0127 L2185.2 12.096 L2193.38 12.096 L2193.38 65.6895 L2206.75 65.6895 L2206.75 72.576 L2171.91 72.576 L2171.91 65.6895 Z\" fill=\"#000000\" fill-rule=\"evenodd\" fill-opacity=\"1\" /><path clip-path=\"url(#clip040)\" d=\"M 0 0 M2223.28 62.2867 L2231.82 62.2867 L2231.82 72.576 L2223.28 72.576 L2223.28 62.2867 Z\" fill=\"#000000\" fill-rule=\"evenodd\" fill-opacity=\"1\" /><path clip-path=\"url(#clip040)\" d=\"M 0 0 M2267.15 17.4837 Q2260.83 17.4837 2257.63 23.7221 Q2254.47 29.92 2254.47 42.3968 Q2254.47 54.833 2257.63 61.0714 Q2260.83 67.2693 2267.15 67.2693 Q2273.51 67.2693 2276.67 61.0714 Q2279.87 54.833 2279.87 42.3968 Q2279.87 29.92 2276.67 23.7221 Q2273.51 17.4837 2267.15 17.4837 M2267.15 11.0023 Q2277.32 11.0023 2282.66 19.0636 Q2288.05 27.0843 2288.05 42.3968 Q2288.05 57.6687 2282.66 65.73 Q2277.32 73.7508 2267.15 73.7508 Q2256.98 73.7508 2251.59 65.73 Q2246.25 57.6687 2246.25 42.3968 Q2246.25 27.0843 2251.59 19.0636 Q2256.98 11.0023 2267.15 11.0023 Z\" fill=\"#000000\" fill-rule=\"evenodd\" fill-opacity=\"1\" /><circle clip-path=\"url(#clip042)\" cx=\"347.524\" cy=\"160.256\" r=\"14\" fill=\"#009af9\" fill-rule=\"evenodd\" fill-opacity=\"1\" stroke=\"#000000\" stroke-opacity=\"1\" stroke-width=\"3.2\"/>\n",
       "<circle clip-path=\"url(#clip042)\" cx=\"381.679\" cy=\"337.413\" r=\"14\" fill=\"#009af9\" fill-rule=\"evenodd\" fill-opacity=\"1\" stroke=\"#000000\" stroke-opacity=\"1\" stroke-width=\"3.2\"/>\n",
       "<circle clip-path=\"url(#clip042)\" cx=\"415.834\" cy=\"550.485\" r=\"14\" fill=\"#009af9\" fill-rule=\"evenodd\" fill-opacity=\"1\" stroke=\"#000000\" stroke-opacity=\"1\" stroke-width=\"3.2\"/>\n",
       "<circle clip-path=\"url(#clip042)\" cx=\"449.989\" cy=\"750.623\" r=\"14\" fill=\"#009af9\" fill-rule=\"evenodd\" fill-opacity=\"1\" stroke=\"#000000\" stroke-opacity=\"1\" stroke-width=\"3.2\"/>\n",
       "<circle clip-path=\"url(#clip042)\" cx=\"484.144\" cy=\"880.254\" r=\"14\" fill=\"#009af9\" fill-rule=\"evenodd\" fill-opacity=\"1\" stroke=\"#000000\" stroke-opacity=\"1\" stroke-width=\"3.2\"/>\n",
       "<circle clip-path=\"url(#clip042)\" cx=\"518.298\" cy=\"955.905\" r=\"14\" fill=\"#009af9\" fill-rule=\"evenodd\" fill-opacity=\"1\" stroke=\"#000000\" stroke-opacity=\"1\" stroke-width=\"3.2\"/>\n",
       "<circle clip-path=\"url(#clip042)\" cx=\"552.453\" cy=\"1001.89\" r=\"14\" fill=\"#009af9\" fill-rule=\"evenodd\" fill-opacity=\"1\" stroke=\"#000000\" stroke-opacity=\"1\" stroke-width=\"3.2\"/>\n",
       "<circle clip-path=\"url(#clip042)\" cx=\"586.608\" cy=\"1031.65\" r=\"14\" fill=\"#009af9\" fill-rule=\"evenodd\" fill-opacity=\"1\" stroke=\"#000000\" stroke-opacity=\"1\" stroke-width=\"3.2\"/>\n",
       "<circle clip-path=\"url(#clip042)\" cx=\"620.763\" cy=\"1052.28\" r=\"14\" fill=\"#009af9\" fill-rule=\"evenodd\" fill-opacity=\"1\" stroke=\"#000000\" stroke-opacity=\"1\" stroke-width=\"3.2\"/>\n",
       "<circle clip-path=\"url(#clip042)\" cx=\"654.918\" cy=\"1067.7\" r=\"14\" fill=\"#009af9\" fill-rule=\"evenodd\" fill-opacity=\"1\" stroke=\"#000000\" stroke-opacity=\"1\" stroke-width=\"3.2\"/>\n",
       "<circle clip-path=\"url(#clip042)\" cx=\"689.073\" cy=\"1080.17\" r=\"14\" fill=\"#009af9\" fill-rule=\"evenodd\" fill-opacity=\"1\" stroke=\"#000000\" stroke-opacity=\"1\" stroke-width=\"3.2\"/>\n",
       "<circle clip-path=\"url(#clip042)\" cx=\"723.228\" cy=\"1091.11\" r=\"14\" fill=\"#009af9\" fill-rule=\"evenodd\" fill-opacity=\"1\" stroke=\"#000000\" stroke-opacity=\"1\" stroke-width=\"3.2\"/>\n",
       "<circle clip-path=\"url(#clip042)\" cx=\"757.382\" cy=\"1101.33\" r=\"14\" fill=\"#009af9\" fill-rule=\"evenodd\" fill-opacity=\"1\" stroke=\"#000000\" stroke-opacity=\"1\" stroke-width=\"3.2\"/>\n",
       "<circle clip-path=\"url(#clip042)\" cx=\"791.537\" cy=\"1111.33\" r=\"14\" fill=\"#009af9\" fill-rule=\"evenodd\" fill-opacity=\"1\" stroke=\"#000000\" stroke-opacity=\"1\" stroke-width=\"3.2\"/>\n",
       "<circle clip-path=\"url(#clip042)\" cx=\"825.692\" cy=\"1121.31\" r=\"14\" fill=\"#009af9\" fill-rule=\"evenodd\" fill-opacity=\"1\" stroke=\"#000000\" stroke-opacity=\"1\" stroke-width=\"3.2\"/>\n",
       "<circle clip-path=\"url(#clip042)\" cx=\"859.847\" cy=\"1131.35\" r=\"14\" fill=\"#009af9\" fill-rule=\"evenodd\" fill-opacity=\"1\" stroke=\"#000000\" stroke-opacity=\"1\" stroke-width=\"3.2\"/>\n",
       "<circle clip-path=\"url(#clip042)\" cx=\"894.002\" cy=\"1141.38\" r=\"14\" fill=\"#009af9\" fill-rule=\"evenodd\" fill-opacity=\"1\" stroke=\"#000000\" stroke-opacity=\"1\" stroke-width=\"3.2\"/>\n",
       "<circle clip-path=\"url(#clip042)\" cx=\"928.157\" cy=\"1151.32\" r=\"14\" fill=\"#009af9\" fill-rule=\"evenodd\" fill-opacity=\"1\" stroke=\"#000000\" stroke-opacity=\"1\" stroke-width=\"3.2\"/>\n",
       "<circle clip-path=\"url(#clip042)\" cx=\"962.312\" cy=\"1161.09\" r=\"14\" fill=\"#009af9\" fill-rule=\"evenodd\" fill-opacity=\"1\" stroke=\"#000000\" stroke-opacity=\"1\" stroke-width=\"3.2\"/>\n",
       "<circle clip-path=\"url(#clip042)\" cx=\"996.466\" cy=\"1170.61\" r=\"14\" fill=\"#009af9\" fill-rule=\"evenodd\" fill-opacity=\"1\" stroke=\"#000000\" stroke-opacity=\"1\" stroke-width=\"3.2\"/>\n",
       "<circle clip-path=\"url(#clip042)\" cx=\"1030.62\" cy=\"1179.85\" r=\"14\" fill=\"#009af9\" fill-rule=\"evenodd\" fill-opacity=\"1\" stroke=\"#000000\" stroke-opacity=\"1\" stroke-width=\"3.2\"/>\n",
       "<circle clip-path=\"url(#clip042)\" cx=\"1064.78\" cy=\"1188.79\" r=\"14\" fill=\"#009af9\" fill-rule=\"evenodd\" fill-opacity=\"1\" stroke=\"#000000\" stroke-opacity=\"1\" stroke-width=\"3.2\"/>\n",
       "<circle clip-path=\"url(#clip042)\" cx=\"1098.93\" cy=\"1197.41\" r=\"14\" fill=\"#009af9\" fill-rule=\"evenodd\" fill-opacity=\"1\" stroke=\"#000000\" stroke-opacity=\"1\" stroke-width=\"3.2\"/>\n",
       "<circle clip-path=\"url(#clip042)\" cx=\"1133.09\" cy=\"1205.72\" r=\"14\" fill=\"#009af9\" fill-rule=\"evenodd\" fill-opacity=\"1\" stroke=\"#000000\" stroke-opacity=\"1\" stroke-width=\"3.2\"/>\n",
       "<circle clip-path=\"url(#clip042)\" cx=\"1167.24\" cy=\"1213.73\" r=\"14\" fill=\"#009af9\" fill-rule=\"evenodd\" fill-opacity=\"1\" stroke=\"#000000\" stroke-opacity=\"1\" stroke-width=\"3.2\"/>\n",
       "<circle clip-path=\"url(#clip042)\" cx=\"1201.4\" cy=\"1221.46\" r=\"14\" fill=\"#009af9\" fill-rule=\"evenodd\" fill-opacity=\"1\" stroke=\"#000000\" stroke-opacity=\"1\" stroke-width=\"3.2\"/>\n",
       "<circle clip-path=\"url(#clip042)\" cx=\"1235.55\" cy=\"1228.91\" r=\"14\" fill=\"#009af9\" fill-rule=\"evenodd\" fill-opacity=\"1\" stroke=\"#000000\" stroke-opacity=\"1\" stroke-width=\"3.2\"/>\n",
       "<circle clip-path=\"url(#clip042)\" cx=\"1269.71\" cy=\"1236.11\" r=\"14\" fill=\"#009af9\" fill-rule=\"evenodd\" fill-opacity=\"1\" stroke=\"#000000\" stroke-opacity=\"1\" stroke-width=\"3.2\"/>\n",
       "<circle clip-path=\"url(#clip042)\" cx=\"1303.86\" cy=\"1243.06\" r=\"14\" fill=\"#009af9\" fill-rule=\"evenodd\" fill-opacity=\"1\" stroke=\"#000000\" stroke-opacity=\"1\" stroke-width=\"3.2\"/>\n",
       "<circle clip-path=\"url(#clip042)\" cx=\"1338.02\" cy=\"1249.79\" r=\"14\" fill=\"#009af9\" fill-rule=\"evenodd\" fill-opacity=\"1\" stroke=\"#000000\" stroke-opacity=\"1\" stroke-width=\"3.2\"/>\n",
       "<circle clip-path=\"url(#clip042)\" cx=\"1372.17\" cy=\"1256.31\" r=\"14\" fill=\"#009af9\" fill-rule=\"evenodd\" fill-opacity=\"1\" stroke=\"#000000\" stroke-opacity=\"1\" stroke-width=\"3.2\"/>\n",
       "<circle clip-path=\"url(#clip042)\" cx=\"1406.32\" cy=\"1262.64\" r=\"14\" fill=\"#009af9\" fill-rule=\"evenodd\" fill-opacity=\"1\" stroke=\"#000000\" stroke-opacity=\"1\" stroke-width=\"3.2\"/>\n",
       "<circle clip-path=\"url(#clip042)\" cx=\"1440.48\" cy=\"1268.77\" r=\"14\" fill=\"#009af9\" fill-rule=\"evenodd\" fill-opacity=\"1\" stroke=\"#000000\" stroke-opacity=\"1\" stroke-width=\"3.2\"/>\n",
       "<circle clip-path=\"url(#clip042)\" cx=\"1474.63\" cy=\"1274.74\" r=\"14\" fill=\"#009af9\" fill-rule=\"evenodd\" fill-opacity=\"1\" stroke=\"#000000\" stroke-opacity=\"1\" stroke-width=\"3.2\"/>\n",
       "<circle clip-path=\"url(#clip042)\" cx=\"1508.79\" cy=\"1280.55\" r=\"14\" fill=\"#009af9\" fill-rule=\"evenodd\" fill-opacity=\"1\" stroke=\"#000000\" stroke-opacity=\"1\" stroke-width=\"3.2\"/>\n",
       "<circle clip-path=\"url(#clip042)\" cx=\"1542.94\" cy=\"1286.21\" r=\"14\" fill=\"#009af9\" fill-rule=\"evenodd\" fill-opacity=\"1\" stroke=\"#000000\" stroke-opacity=\"1\" stroke-width=\"3.2\"/>\n",
       "<circle clip-path=\"url(#clip042)\" cx=\"1577.1\" cy=\"1291.72\" r=\"14\" fill=\"#009af9\" fill-rule=\"evenodd\" fill-opacity=\"1\" stroke=\"#000000\" stroke-opacity=\"1\" stroke-width=\"3.2\"/>\n",
       "<circle clip-path=\"url(#clip042)\" cx=\"1611.25\" cy=\"1297.11\" r=\"14\" fill=\"#009af9\" fill-rule=\"evenodd\" fill-opacity=\"1\" stroke=\"#000000\" stroke-opacity=\"1\" stroke-width=\"3.2\"/>\n",
       "<circle clip-path=\"url(#clip042)\" cx=\"1645.41\" cy=\"1302.38\" r=\"14\" fill=\"#009af9\" fill-rule=\"evenodd\" fill-opacity=\"1\" stroke=\"#000000\" stroke-opacity=\"1\" stroke-width=\"3.2\"/>\n",
       "<circle clip-path=\"url(#clip042)\" cx=\"1679.56\" cy=\"1307.53\" r=\"14\" fill=\"#009af9\" fill-rule=\"evenodd\" fill-opacity=\"1\" stroke=\"#000000\" stroke-opacity=\"1\" stroke-width=\"3.2\"/>\n",
       "<circle clip-path=\"url(#clip042)\" cx=\"1713.72\" cy=\"1312.58\" r=\"14\" fill=\"#009af9\" fill-rule=\"evenodd\" fill-opacity=\"1\" stroke=\"#000000\" stroke-opacity=\"1\" stroke-width=\"3.2\"/>\n",
       "<circle clip-path=\"url(#clip042)\" cx=\"1747.87\" cy=\"1317.53\" r=\"14\" fill=\"#009af9\" fill-rule=\"evenodd\" fill-opacity=\"1\" stroke=\"#000000\" stroke-opacity=\"1\" stroke-width=\"3.2\"/>\n",
       "<circle clip-path=\"url(#clip042)\" cx=\"1782.03\" cy=\"1322.38\" r=\"14\" fill=\"#009af9\" fill-rule=\"evenodd\" fill-opacity=\"1\" stroke=\"#000000\" stroke-opacity=\"1\" stroke-width=\"3.2\"/>\n",
       "<circle clip-path=\"url(#clip042)\" cx=\"1816.18\" cy=\"1327.14\" r=\"14\" fill=\"#009af9\" fill-rule=\"evenodd\" fill-opacity=\"1\" stroke=\"#000000\" stroke-opacity=\"1\" stroke-width=\"3.2\"/>\n",
       "<circle clip-path=\"url(#clip042)\" cx=\"1850.34\" cy=\"1331.82\" r=\"14\" fill=\"#009af9\" fill-rule=\"evenodd\" fill-opacity=\"1\" stroke=\"#000000\" stroke-opacity=\"1\" stroke-width=\"3.2\"/>\n",
       "<circle clip-path=\"url(#clip042)\" cx=\"1884.49\" cy=\"1336.42\" r=\"14\" fill=\"#009af9\" fill-rule=\"evenodd\" fill-opacity=\"1\" stroke=\"#000000\" stroke-opacity=\"1\" stroke-width=\"3.2\"/>\n",
       "<circle clip-path=\"url(#clip042)\" cx=\"1918.65\" cy=\"1340.94\" r=\"14\" fill=\"#009af9\" fill-rule=\"evenodd\" fill-opacity=\"1\" stroke=\"#000000\" stroke-opacity=\"1\" stroke-width=\"3.2\"/>\n",
       "<circle clip-path=\"url(#clip042)\" cx=\"1952.8\" cy=\"1345.39\" r=\"14\" fill=\"#009af9\" fill-rule=\"evenodd\" fill-opacity=\"1\" stroke=\"#000000\" stroke-opacity=\"1\" stroke-width=\"3.2\"/>\n",
       "<circle clip-path=\"url(#clip042)\" cx=\"1986.96\" cy=\"1349.76\" r=\"14\" fill=\"#009af9\" fill-rule=\"evenodd\" fill-opacity=\"1\" stroke=\"#000000\" stroke-opacity=\"1\" stroke-width=\"3.2\"/>\n",
       "<circle clip-path=\"url(#clip042)\" cx=\"2021.11\" cy=\"1354.08\" r=\"14\" fill=\"#009af9\" fill-rule=\"evenodd\" fill-opacity=\"1\" stroke=\"#000000\" stroke-opacity=\"1\" stroke-width=\"3.2\"/>\n",
       "<circle clip-path=\"url(#clip042)\" cx=\"2055.27\" cy=\"1358.32\" r=\"14\" fill=\"#009af9\" fill-rule=\"evenodd\" fill-opacity=\"1\" stroke=\"#000000\" stroke-opacity=\"1\" stroke-width=\"3.2\"/>\n",
       "<circle clip-path=\"url(#clip042)\" cx=\"2089.42\" cy=\"1362.51\" r=\"14\" fill=\"#009af9\" fill-rule=\"evenodd\" fill-opacity=\"1\" stroke=\"#000000\" stroke-opacity=\"1\" stroke-width=\"3.2\"/>\n",
       "<circle clip-path=\"url(#clip042)\" cx=\"2123.58\" cy=\"1366.63\" r=\"14\" fill=\"#009af9\" fill-rule=\"evenodd\" fill-opacity=\"1\" stroke=\"#000000\" stroke-opacity=\"1\" stroke-width=\"3.2\"/>\n",
       "<circle clip-path=\"url(#clip042)\" cx=\"2157.73\" cy=\"1370.7\" r=\"14\" fill=\"#009af9\" fill-rule=\"evenodd\" fill-opacity=\"1\" stroke=\"#000000\" stroke-opacity=\"1\" stroke-width=\"3.2\"/>\n",
       "<circle clip-path=\"url(#clip042)\" cx=\"2191.89\" cy=\"1374.7\" r=\"14\" fill=\"#009af9\" fill-rule=\"evenodd\" fill-opacity=\"1\" stroke=\"#000000\" stroke-opacity=\"1\" stroke-width=\"3.2\"/>\n",
       "<circle clip-path=\"url(#clip042)\" cx=\"2226.04\" cy=\"1378.65\" r=\"14\" fill=\"#009af9\" fill-rule=\"evenodd\" fill-opacity=\"1\" stroke=\"#000000\" stroke-opacity=\"1\" stroke-width=\"3.2\"/>\n",
       "<circle clip-path=\"url(#clip042)\" cx=\"2260.2\" cy=\"1382.55\" r=\"14\" fill=\"#009af9\" fill-rule=\"evenodd\" fill-opacity=\"1\" stroke=\"#000000\" stroke-opacity=\"1\" stroke-width=\"3.2\"/>\n",
       "<circle clip-path=\"url(#clip042)\" cx=\"2294.35\" cy=\"1386.4\" r=\"14\" fill=\"#009af9\" fill-rule=\"evenodd\" fill-opacity=\"1\" stroke=\"#000000\" stroke-opacity=\"1\" stroke-width=\"3.2\"/>\n",
       "<path clip-path=\"url(#clip040)\" d=\"\n",
       "M2002.24 287.756 L2283.97 287.756 L2283.97 166.796 L2002.24 166.796  Z\n",
       "  \" fill=\"#ffffff\" fill-rule=\"evenodd\" fill-opacity=\"1\"/>\n",
       "<polyline clip-path=\"url(#clip040)\" style=\"stroke:#000000; stroke-width:4; stroke-opacity:1; fill:none\" points=\"\n",
       "  2002.24,287.756 2283.97,287.756 2283.97,166.796 2002.24,166.796 2002.24,287.756 \n",
       "  \"/>\n",
       "<circle clip-path=\"url(#clip040)\" cx=\"2093.96\" cy=\"227.276\" r=\"23\" fill=\"#009af9\" fill-rule=\"evenodd\" fill-opacity=\"1\" stroke=\"#000000\" stroke-opacity=\"1\" stroke-width=\"5.12\"/>\n",
       "<path clip-path=\"url(#clip040)\" d=\"M 0 0 M2199.52 246.963 Q2197.72 251.593 2196 253.005 Q2194.29 254.417 2191.42 254.417 L2188.02 254.417 L2188.02 250.852 L2190.52 250.852 Q2192.28 250.852 2193.25 250.019 Q2194.22 249.185 2195.4 246.083 L2196.17 244.139 L2185.68 218.63 L2190.19 218.63 L2198.29 238.908 L2206.4 218.63 L2210.91 218.63 L2199.52 246.963 Z\" fill=\"#000000\" fill-rule=\"evenodd\" fill-opacity=\"1\" /><path clip-path=\"url(#clip040)\" d=\"M 0 0 M2218.2 240.621 L2225.84 240.621 L2225.84 214.255 L2217.53 215.922 L2217.53 211.662 L2225.79 209.996 L2230.47 209.996 L2230.47 240.621 L2238.11 240.621 L2238.11 244.556 L2218.2 244.556 L2218.2 240.621 Z\" fill=\"#000000\" fill-rule=\"evenodd\" fill-opacity=\"1\" /></svg>\n"
      ]
     },
     "metadata": {},
     "output_type": "display_data"
    },
    {
     "ename": "LoadError",
     "evalue": "InterruptException:",
     "output_type": "error",
     "traceback": [
      "InterruptException:",
      "",
      "Stacktrace:",
      "  [1] try_yieldto(undo::typeof(Base.ensure_rescheduled))",
      "    @ Base .\\task.jl:705",
      "  [2] wait",
      "    @ .\\task.jl:764 [inlined]",
      "  [3] uv_write(s::Base.PipeEndpoint, p::Ptr{UInt8}, n::UInt64)",
      "    @ Base .\\stream.jl:992",
      "  [4] flush(s::Base.PipeEndpoint)",
      "    @ Base .\\stream.jl:1077",
      "  [5] flush",
      "    @ .\\io.jl:363 [inlined]",
      "  [6] flush(io::IJulia.IJuliaStdio{Base.PipeEndpoint})",
      "    @ IJulia ~\\.julia\\packages\\IJulia\\e8kqU\\src\\stdio.jl:275",
      "  [7] flush_all()",
      "    @ IJulia ~\\.julia\\packages\\IJulia\\e8kqU\\src\\stdio.jl:259",
      "  [8] clear_output(wait::Bool)",
      "    @ IJulia ~\\.julia\\packages\\IJulia\\e8kqU\\src\\IJulia.jl:286",
      "  [9] treinar_rede_neural_0_comgrafico!(X::Matrix{Float64}, Y::Matrix{Int64}, w::Matrix{Float64}, b::Vector{Float64}, f_a::Function, df_a::Function, mu::Float64, n_iters::Int64, grad_loss::typeof(computar_gradiente))",
      "    @ Main .\\In[5]:23",
      " [10] top-level scope",
      "    @ In[17]:1",
      " [11] eval",
      "    @ .\\boot.jl:360 [inlined]",
      " [12] include_string(mapexpr::typeof(REPL.softscope), mod::Module, code::String, filename::String)",
      "    @ Base .\\loading.jl:1094"
     ]
    }
   ],
   "source": [
    "w, b, loss = treinar_rede_neural_0_comgrafico!(X, Y, w, b, sigmoid, d_sigmoid, mu, n_iters, computar_gradiente)"
   ]
  },
  {
   "cell_type": "code",
   "execution_count": 197,
   "metadata": {},
   "outputs": [
    {
     "data": {
      "text/plain": [
       "0.5"
      ]
     },
     "execution_count": 197,
     "metadata": {},
     "output_type": "execute_result"
    }
   ],
   "source": [
    "accuracy(w, b, X, Y, sigmoid)"
   ]
  },
  {
   "cell_type": "code",
   "execution_count": 26,
   "metadata": {},
   "outputs": [
    {
     "data": {
      "text/plain": [
       "1×20 transpose(::Vector{Float64}) with eltype Float64:\n",
       " 0.0  0.0  0.0  0.0  0.0  0.0  0.0  0.0  …  1.0  1.0  1.0  1.0  1.0  1.0  1.0"
      ]
     },
     "execution_count": 26,
     "metadata": {},
     "output_type": "execute_result"
    }
   ],
   "source": [
    "N = 10\n",
    "m = hcat(circulo(4, σ, N), circulo(2, σ, N))\n",
    "y_teste = hcat(transpose(zeros(10)), transpose(ones(10)))"
   ]
  },
  {
   "cell_type": "code",
   "execution_count": 22,
   "metadata": {
    "scrolled": true
   },
   "outputs": [
    {
     "data": {
      "text/plain": [
       "1×20 Matrix{Float64}:\n",
       " 3.68736  3.77844  3.48328  2.52122  0.921287  …  0.916456  3.17678  3.95491"
      ]
     },
     "execution_count": 22,
     "metadata": {},
     "output_type": "execute_result"
    }
   ],
   "source": [
    "Y_p = predict(m, w, b, sigmoid)"
   ]
  },
  {
   "cell_type": "code",
   "execution_count": 27,
   "metadata": {
    "scrolled": true
   },
   "outputs": [
    {
     "data": {
      "text/plain": [
       "0.6"
      ]
     },
     "execution_count": 27,
     "metadata": {},
     "output_type": "execute_result"
    }
   ],
   "source": [
    "accuracy(w, b, m, y_teste, sigmoid)"
   ]
  }
 ],
 "metadata": {
  "kernelspec": {
   "display_name": "Julia 1.6.0",
   "language": "julia",
   "name": "julia-1.6"
  },
  "language_info": {
   "file_extension": ".jl",
   "mimetype": "application/julia",
   "name": "julia",
   "version": "1.6.0"
  }
 },
 "nbformat": 4,
 "nbformat_minor": 4
}
